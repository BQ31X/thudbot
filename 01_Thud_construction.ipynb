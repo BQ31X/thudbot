{
 "cells": [
  {
   "cell_type": "markdown",
   "id": "fcc5f067",
   "metadata": {},
   "source": [
    "# Thudbot Scaffold - Next part\n",
    "\n",
    "This will be a prototype Thudbot built in jupyter.\n",
    "\n",
    "In notebook 00, I went through the steps below to evaluate and choose an appropriate retriever for Thudbot\n",
    "\n",
    "Steps:\n",
    "1. ✅ General setup\n",
    "2. ✅ Data collection and Preparation\n",
    "3. ✅ SDG with RAGAS to create a golden data set\n",
    "4. ✅ Setup the RAG chain (finally)\n",
    "5. ✅ Evaluate results with RAGAS\n",
    "6. ✅ Refine RAG performance (prompt tuning, retreival methods)\n",
    "\n",
    "Now I will:\n",
    "1. Rebuild the final RAG here (without the SDG or RAGAS eval)\n",
    "2. Add agentic tool calls\n",
    "3. Add external APIs\n",
    "\n",
    "Then:\n",
    "- Convert to a standalone Python script\n",
    "- Build or reuse a chatbot front end to run it locally"
   ]
  },
  {
   "cell_type": "markdown",
   "id": "3ad5c4c3",
   "metadata": {},
   "source": [
    "\n",
    "Naming this 01_ "
   ]
  },
  {
   "cell_type": "markdown",
   "id": "9badc3b1",
   "metadata": {},
   "source": [
    "## Step 1 General setup"
   ]
  },
  {
   "cell_type": "code",
   "execution_count": 1,
   "id": "182642a8",
   "metadata": {},
   "outputs": [
    {
     "name": "stdout",
     "output_type": "stream",
     "text": [
      "--- API Key Status ---\n",
      "OPENAI_API_KEY loaded: True\n",
      "LANGCHAIN_API_KEY loaded: True\n",
      "TAVILY_API_KEY loaded: True\n",
      "RAGAS_API_KEY loaded: False\n",
      "ANTHROPIC_API_KEY loaded: True\n",
      "COHERE_API_KEY loaded: True\n",
      "OPENWEATHER_API_KEY loaded: True\n",
      "\n",
      "--- Project Settings Status ---\n",
      "DEBUG mode enabled: True\n",
      "LangSmith Tracing V2 enabled: True\n",
      "LangChain Project Base: None\n",
      "LangChain Project: THUDBOT-CC\n"
     ]
    }
   ],
   "source": [
    "### API key management and environment variables\n",
    "\n",
    "### Reminder: Place .env file inside the root of the project folder so when calling the below from inside the notebook it should find the .env fule and load it inside the notebook environment\n",
    "### PLEASE ADD THIS `.env` FILE TO YOUR PROJECT'S `.gitignore` file before committing and pushing the changes to your remote repo, as it contains API Keys and Secrets in it\n",
    "\n",
    "import os\n",
    "from dotenv import load_dotenv\n",
    "\n",
    "load_dotenv(dotenv_path=\".env\", override=True)\n",
    "\n",
    "# --- Verify API Keys ---\n",
    "print(\"--- API Key Status ---\")\n",
    "print(f\"OPENAI_API_KEY loaded: {'OPENAI_API_KEY' in os.environ}\")\n",
    "print(f\"LANGCHAIN_API_KEY loaded: {'LANGCHAIN_API_KEY' in os.environ}\")\n",
    "print(f\"TAVILY_API_KEY loaded: {'TAVILY_API_KEY' in os.environ}\")\n",
    "print(f\"RAGAS_API_KEY loaded: {'RAGAS_API_KEY' in os.environ}\")\n",
    "print(f\"ANTHROPIC_API_KEY loaded: {'ANTHROPIC_API_KEY' in os.environ}\")\n",
    "print(f\"COHERE_API_KEY loaded: {'COHERE_API_KEY' in os.environ}\")\n",
    "print(f\"OPENWEATHER_API_KEY loaded: {'OPENWEATHER_API_KEY' in os.environ}\")\n",
    "\n",
    "# --- Verify General Settings ---\n",
    "print(\"\\n--- Project Settings Status ---\")\n",
    "print(f\"DEBUG mode enabled: {os.environ.get('DEBUG') == 'True'}\")\n",
    "print(f\"LangSmith Tracing V2 enabled: {os.environ.get('LANGCHAIN_TRACING_V2') == 'true'}\")\n",
    "print(f\"LangChain Project Base: {os.environ.get('LANGCHAIN_PROJECT_BASE')}\")\n",
    "print(f\"LangChain Project: {os.environ.get('LANGCHAIN_PROJECT')}\")\n"
   ]
  },
  {
   "cell_type": "markdown",
   "id": "9a09fc64",
   "metadata": {},
   "source": [
    "including nltk, because it worked before"
   ]
  },
  {
   "cell_type": "code",
   "execution_count": 2,
   "id": "140254c3",
   "metadata": {},
   "outputs": [
    {
     "name": "stderr",
     "output_type": "stream",
     "text": [
      "[nltk_data] Downloading package punkt to /Users/family/nltk_data...\n",
      "[nltk_data]   Package punkt is already up-to-date!\n",
      "[nltk_data] Downloading package averaged_perceptron_tagger to\n",
      "[nltk_data]     /Users/family/nltk_data...\n",
      "[nltk_data]   Package averaged_perceptron_tagger is already up-to-\n",
      "[nltk_data]       date!\n"
     ]
    },
    {
     "data": {
      "text/plain": [
       "True"
      ]
     },
     "execution_count": 2,
     "metadata": {},
     "output_type": "execute_result"
    }
   ],
   "source": [
    "import nltk\n",
    "nltk.download('punkt')\n",
    "nltk.download('averaged_perceptron_tagger')"
   ]
  },
  {
   "cell_type": "markdown",
   "id": "7854ab91",
   "metadata": {},
   "source": [
    "## Step 2: Data Collection and Preparation\n",
    "\n",
    "My data is CSV structured, so using code from HW9"
   ]
  },
  {
   "cell_type": "code",
   "execution_count": 3,
   "id": "89bf5b7f",
   "metadata": {},
   "outputs": [
    {
     "name": "stdout",
     "output_type": "stream",
     "text": [
      "question_id: TSB-001\n",
      "hint_text: Press the escape key to exit the opening animations\n",
      "puzzle_name: \n",
      "source: self\n",
      "{'source': './data/Thudbot_Hint_Data_1.csv', 'row': 0, 'question': 'How do I stop the opening movie', 'hint_level': '1', 'character': 'Player', 'speaker': '', 'narrative_context': 'Meta', 'planet': '', 'location': '', 'category': 'Meta', 'tone': '', 'follow_up_hint_id': '', 'answer_keywords': '', 'tags': ''}\n"
     ]
    }
   ],
   "source": [
    "from langchain_community.document_loaders.csv_loader import CSVLoader\n",
    "from datetime import datetime, timedelta\n",
    "\n",
    "loader = CSVLoader(\n",
    "    file_path=f\"./data/Thudbot_Hint_Data_1.csv\",\n",
    "    metadata_columns=[\n",
    "        \"question\",\n",
    "        \"hint_level\",\n",
    "        \"character\",\n",
    "        \"speaker\",\n",
    "        \"narrative_context\",\n",
    "        \"planet\",\n",
    "        \"location\",\n",
    "        \"category\",\n",
    "        \"tone\",\n",
    "        \"follow_up_hint_id\",\n",
    "        \"answer_keywords\",\n",
    "        \"tags\"\n",
    "    ]\n",
    ")\n",
    "\n",
    "hint_data = loader.load()\n",
    "\n",
    "# No need to overwrite page_content; not doing custom transformation\n",
    "print(hint_data[0].page_content)     # This will already be the hint_text\n",
    "print(hint_data[0].metadata)         # This will show all the metadata fields\n"
   ]
  },
  {
   "cell_type": "markdown",
   "id": "83858935",
   "metadata": {},
   "source": [
    "### Setting up QDrant! (from HW9)\n",
    "\n",
    "Now that we have our documents, let's create a QDrant VectorStore with the collection name \"ThudbotHints\".\n",
    "\n",
    "We'll leverage OpenAI's [`text-embedding-3-small`](https://openai.com/blog/new-embedding-models-and-api-updates) because it's a very powerful (and low-cost) embedding model.\n",
    "\n",
    " "
   ]
  },
  {
   "cell_type": "code",
   "execution_count": 4,
   "id": "55e047a6",
   "metadata": {},
   "outputs": [],
   "source": [
    "from langchain_community.vectorstores import Qdrant\n",
    "from langchain_openai import OpenAIEmbeddings\n",
    "\n",
    "embeddings = OpenAIEmbeddings(model=\"text-embedding-3-small\")\n",
    "\n",
    "vectorstore = Qdrant.from_documents(\n",
    "    documents=hint_data,\n",
    "    embedding=embeddings,\n",
    "    location=\":memory:\",\n",
    "    collection_name=\"Thudbot_Hints\"\n",
    ")"
   ]
  },
  {
   "cell_type": "markdown",
   "id": "b36831f3",
   "metadata": {},
   "source": [
    "### ▶️ reload platinum data set\n",
    "\n",
    "Might as well re-use it for any testing"
   ]
  },
  {
   "cell_type": "code",
   "execution_count": 5,
   "id": "15427af9",
   "metadata": {},
   "outputs": [],
   "source": [
    "import json\n",
    "\n",
    "# Load questions for testing retrievers\n",
    "with open(\"data/platinum_dataset.json\", \"r\") as f:\n",
    "    platinum_data = json.load(f)\n",
    "\n"
   ]
  },
  {
   "cell_type": "code",
   "execution_count": 6,
   "id": "017455bc",
   "metadata": {},
   "outputs": [],
   "source": [
    "sample_indices = [0, 2, 5, 7, 10]\n",
    "sampled_platinum = [platinum_data[i] for i in sample_indices]\n"
   ]
  },
  {
   "cell_type": "markdown",
   "id": "06cb2736",
   "metadata": {},
   "source": [
    "## Step 4: Setup the RAG chain\n"
   ]
  },
  {
   "cell_type": "markdown",
   "id": "8fc850ac",
   "metadata": {},
   "source": [
    "Starting with a \"naive\" dense vector retrieval"
   ]
  },
  {
   "cell_type": "markdown",
   "id": "1274cae5",
   "metadata": {},
   "source": [
    "### R - Retrieval - using multi-query retriever, based on previous evaluatin\n",
    "\n",
    "\n"
   ]
  },
  {
   "cell_type": "code",
   "execution_count": 7,
   "id": "a67ec143",
   "metadata": {},
   "outputs": [],
   "source": [
    "naive_retriever = vectorstore.as_retriever(search_kwargs={\"k\" : 10})"
   ]
  },
  {
   "cell_type": "markdown",
   "id": "513115e6",
   "metadata": {},
   "source": [
    "Moving next cell up in the flow, because multi-query retriever needs LLM"
   ]
  },
  {
   "cell_type": "code",
   "execution_count": 8,
   "id": "d27603ec",
   "metadata": {},
   "outputs": [],
   "source": [
    "from langchain_openai import ChatOpenAI\n",
    "\n",
    "chat_model = ChatOpenAI(model=\"gpt-4.1-nano\")\n",
    "#chat_model = ChatAnthropic(model=\"claude-3-5-sonnet-20240620\")"
   ]
  },
  {
   "cell_type": "code",
   "execution_count": 9,
   "id": "56bb709e",
   "metadata": {},
   "outputs": [],
   "source": [
    "from langchain.retrievers.multi_query import MultiQueryRetriever\n",
    "\n",
    "multi_query_retriever = MultiQueryRetriever.from_llm(\n",
    "    retriever=naive_retriever, llm=chat_model\n",
    ")"
   ]
  },
  {
   "cell_type": "markdown",
   "id": "d781088a",
   "metadata": {},
   "source": [
    "### A - Augmented\n",
    "\n",
    "My first pass at a Thud-like prompt, named as ```THUD_TEMPLATE```\n",
    "\n",
    "This will need tuning!"
   ]
  },
  {
   "cell_type": "code",
   "execution_count": 10,
   "id": "90a920e0",
   "metadata": {},
   "outputs": [],
   "source": [
    "from langchain_core.prompts import ChatPromptTemplate\n",
    "\n",
    "THUD_TEMPLATE = \"\"\"\\\n",
    "You are Thud, a friendly and somewhat simple-minded patron at The Thirsty Tentacle. \n",
    "\n",
    "You're trying your best to help the player navigate the game \"The Space Bar.\"\n",
    "\n",
    "Use the clues and context provided below to offer a gentle hint — not a full solution.\n",
    "\n",
    "If you're not sure what to say, admit it honestly or say something silly — like talk about the weather or suggest looking around more.\n",
    "\n",
    "If the player's question is clearly outside the game's scope (e.g., about real-world topics), \n",
    "you may consult the get_weather tool to offer a friendly distraction.\n",
    "\n",
    "Player's question:\n",
    "{question}\n",
    "\n",
    "Context:\n",
    "{context}\n",
    "\n",
    "Your hint:\"\"\"\n",
    "\n",
    "rag_prompt = ChatPromptTemplate.from_template(THUD_TEMPLATE)"
   ]
  },
  {
   "cell_type": "markdown",
   "id": "f7e84599",
   "metadata": {},
   "source": [
    "### G - Generation\n",
    "\n",
    "Still using `gpt-4.1-nano` as our LLM today"
   ]
  },
  {
   "cell_type": "markdown",
   "id": "43372065",
   "metadata": {},
   "source": [
    "### LCEL RAG Chain\n",
    "\n",
    "We're going to use LCEL to construct our chain. (from HW9)\n"
   ]
  },
  {
   "cell_type": "markdown",
   "id": "83bc3681",
   "metadata": {},
   "source": [
    "Test the chain, and the langsmith tracing with a question.\n",
    "Might as well take the question from the platinum data set (just remember to load it above ▶️)"
   ]
  },
  {
   "cell_type": "markdown",
   "id": "17c87ec9",
   "metadata": {},
   "source": [
    "Using mq, based on eval results"
   ]
  },
  {
   "cell_type": "code",
   "execution_count": 11,
   "id": "1c2f4ce6",
   "metadata": {},
   "outputs": [],
   "source": [
    "from langchain_core.runnables import RunnablePassthrough\n",
    "from operator import itemgetter\n",
    "from langchain_core.output_parsers import StrOutputParser\n",
    "\n",
    "multi_query_retrieval_chain = (\n",
    "    {\"context\": itemgetter(\"question\") | multi_query_retriever, \"question\": itemgetter(\"question\")}\n",
    "    | RunnablePassthrough.assign(context=itemgetter(\"context\"))\n",
    "    | {\"response\": rag_prompt | chat_model, \"context\": itemgetter(\"context\")}\n",
    ").with_config({\"run_name\": \"multi_query_chain\"})"
   ]
  },
  {
   "cell_type": "markdown",
   "id": "c7c29933",
   "metadata": {},
   "source": [
    "test with sample questions"
   ]
  },
  {
   "cell_type": "code",
   "execution_count": 12,
   "id": "6d8ed63c",
   "metadata": {},
   "outputs": [
    {
     "data": {
      "text/plain": [
       "{'response': AIMessage(content=\"Hey there, friend! The weather's nice, huh? Sometimes I think the sky just likes to put on a little show. Anyway, since you're wonderin' about the weather, maybe you could take a moment to look around your surroundings. Sometimes little clues hide in plain sight, just like a ray of sunshine peekin' through the tent! Anything else I can help you with?\", additional_kwargs={'refusal': None}, response_metadata={'token_usage': {'completion_tokens': 78, 'prompt_tokens': 3121, 'total_tokens': 3199, 'completion_tokens_details': {'accepted_prediction_tokens': 0, 'audio_tokens': 0, 'reasoning_tokens': 0, 'rejected_prediction_tokens': 0}, 'prompt_tokens_details': {'audio_tokens': 0, 'cached_tokens': 0}}, 'model_name': 'gpt-4.1-nano-2025-04-14', 'system_fingerprint': 'fp_f12167b370', 'id': 'chatcmpl-C0WVXNUeMzn31DgOLcSEJn847s8wY', 'service_tier': 'default', 'finish_reason': 'stop', 'logprobs': None}, id='run--cdf852f8-f8df-487a-946e-264e3371b97a-0', usage_metadata={'input_tokens': 3121, 'output_tokens': 78, 'total_tokens': 3199, 'input_token_details': {'audio': 0, 'cache_read': 0}, 'output_token_details': {'audio': 0, 'reasoning': 0}}),\n",
       " 'context': [Document(metadata={'source': './data/Thudbot_Hint_Data_1.csv', 'row': 93, 'question': 'What do I do about the plane crash?', 'hint_level': '3', 'character': 'Fleebix, Thud', 'speaker': '', 'narrative_context': 'Fleebix Flashback', 'planet': 'Yzore', 'location': 'Road near Glom Hole', 'category': 'Puzzle', 'tone': '', 'follow_up_hint_id': '', 'answer_keywords': '', 'tags': '', '_id': '9ffff73c312a438380384ec73c9b3320', '_collection_name': 'Thudbot_Hints'}, page_content=\"question_id: TSB-050\\nhint_text: What's lying on the ground near the plane wreck?\\npuzzle_name: Getting to Quantelope Lodge\\nsource: UHS\"),\n",
       "  Document(metadata={'source': './data/Thudbot_Hint_Data_1.csv', 'row': 91, 'question': 'What do I do about the plane crash?', 'hint_level': '1', 'character': 'Fleebix, Thud', 'speaker': '', 'narrative_context': 'Fleebix Flashback', 'planet': 'Yzore', 'location': 'Road near Glom Hole', 'category': 'Puzzle', 'tone': '', 'follow_up_hint_id': '', 'answer_keywords': '', 'tags': '', '_id': 'b37d8faf3a43441cae0152abfdfb6df7', '_collection_name': 'Thudbot_Hints'}, page_content='question_id: TSB-050\\nhint_text: Go investigate the plane crash\\npuzzle_name: Getting to Quantelope Lodge\\nsource: UHS'),\n",
       "  Document(metadata={'source': './data/Thudbot_Hint_Data_1.csv', 'row': 92, 'question': 'What do I do about the plane crash?', 'hint_level': '2', 'character': 'Fleebix, Thud', 'speaker': '', 'narrative_context': 'Fleebix Flashback', 'planet': 'Yzore', 'location': 'Road near Glom Hole', 'category': 'Puzzle', 'tone': '', 'follow_up_hint_id': '', 'answer_keywords': '', 'tags': '', '_id': 'd459f59f380d494498789682fea8f0b0', '_collection_name': 'Thudbot_Hints'}, page_content='question_id: TSB-050\\nhint_text: Is there anything usable at the plane crash site?\\npuzzle_name: Getting to Quantelope Lodge\\nsource: UHS'),\n",
       "  Document(metadata={'source': './data/Thudbot_Hint_Data_1.csv', 'row': 28, 'question': 'When does the shuttle leave for Karkas-4', 'hint_level': '2', 'character': 'Alias Node', 'speaker': '', 'narrative_context': 'Background', 'planet': 'Armpit VI', 'location': '', 'category': 'General', 'tone': '', 'follow_up_hint_id': '', 'answer_keywords': '', 'tags': '', '_id': 'e2b558f85e064083b803661842253652', '_collection_name': 'Thudbot_Hints'}, page_content='question_id: TSB-026\\nhint_text: The flight information is on the monitor\\npuzzle_name: \\nsource: self'),\n",
       "  Document(metadata={'source': './data/Thudbot_Hint_Data_1.csv', 'row': 29, 'question': 'When does the shuttle leave for Karkas-4', 'hint_level': '3', 'character': 'Alias Node', 'speaker': '', 'narrative_context': 'Background', 'planet': 'Armpit VI', 'location': '', 'category': 'General', 'tone': '', 'follow_up_hint_id': '', 'answer_keywords': '', 'tags': '', '_id': '2b41847f1184452e82feae580fead693', '_collection_name': 'Thudbot_Hints'}, page_content='question_id: TSB-026\\nhint_text: The flight information is on the monitor in the vestibule\\npuzzle_name: \\nsource: self'),\n",
       "  Document(metadata={'source': './data/Thudbot_Hint_Data_1.csv', 'row': 140, 'question': 'How do I complete the Moderate level of the simulator', 'hint_level': '1', 'character': 'Fleebix', 'speaker': 'Fleebix', 'narrative_context': 'Fleebix Flashback', 'planet': 'Yzore', 'location': 'Simulator Screen', 'category': 'Puzzle', 'tone': '', 'follow_up_hint_id': '', 'answer_keywords': '', 'tags': '', '_id': '240d4d8e5be84e32a79eae7ca9d69d50', '_collection_name': 'Thudbot_Hints'}, page_content=\"question_id: TSB-068\\nhint_text: The moderate level isn't much harder than the easy level of the simulator\\npuzzle_name: Navigation Simulator\\nsource: UHS\"),\n",
       "  Document(metadata={'source': './data/Thudbot_Hint_Data_1.csv', 'row': 105, 'question': 'What can I do inside the mail truck?', 'hint_level': '3', 'character': 'Fleebix, Thud', 'speaker': '', 'narrative_context': 'Fleebix Flashback', 'planet': 'Yzore', 'location': 'Cardboard Box', 'category': 'Puzzle', 'tone': '', 'follow_up_hint_id': '', 'answer_keywords': '', 'tags': '', '_id': '3e9ca780117244efa8557e46928e205e', '_collection_name': 'Thudbot_Hints'}, page_content='question_id: TSB-054\\nhint_text: Listen to the drivers of the mail truck\\npuzzle_name: Getting to Quantelope Lodge\\nsource: UHS'),\n",
       "  Document(metadata={'source': './data/Thudbot_Hint_Data_1.csv', 'row': 94, 'question': 'What do I do with the large box, near the plane?', 'hint_level': '1', 'character': 'Fleebix, Thud', 'speaker': '', 'narrative_context': 'Fleebix Flashback', 'planet': 'Yzore', 'location': 'Road near Glom Hole', 'category': 'Puzzle', 'tone': '', 'follow_up_hint_id': '', 'answer_keywords': '', 'tags': '', '_id': 'e0c56a6b771d463d90bbd8fd39c6ef5f', '_collection_name': 'Thudbot_Hints'}, page_content='question_id: TSB-051\\nhint_text: Look at the mailing label on the large box near Glom Hole\\npuzzle_name: Getting to Quantelope Lodge\\nsource: UHS'),\n",
       "  Document(metadata={'source': './data/Thudbot_Hint_Data_1.csv', 'row': 13, 'question': 'Is there a map', 'hint_level': '1', 'character': 'Player', 'speaker': '', 'narrative_context': 'Meta', 'planet': '', 'location': '', 'category': 'Mechanics', 'tone': '', 'follow_up_hint_id': '', 'answer_keywords': '', 'tags': '', '_id': '9c92dc354d1a498fa818d06035250d32', '_collection_name': 'Thudbot_Hints'}, page_content='question_id: TSB-013\\nhint_text: There is a map of the current setting in your PDA\\npuzzle_name: \\nsource: self'),\n",
       "  Document(metadata={'source': './data/Thudbot_Hint_Data_1.csv', 'row': 149, 'question': 'How do I complete the Expert level of the simulator', 'hint_level': '4', 'character': 'Fleebix', 'speaker': 'Thud', 'narrative_context': 'Fleebix Flashback', 'planet': 'Yzore', 'location': 'Simulator Screen', 'category': 'Puzzle', 'tone': '', 'follow_up_hint_id': '', 'answer_keywords': '', 'tags': '', '_id': 'da927adc337747edb440e15c1ecd896c', '_collection_name': 'Thudbot_Hints'}, page_content='question_id: TSB-070\\nhint_text: If you followed the earlier clues, you should be done with the simulator. Congratulations are in order.\\npuzzle_name: Navigation Simulator\\nsource: UHS'),\n",
       "  Document(metadata={'source': './data/Thudbot_Hint_Data_1.csv', 'row': 63, 'question': 'How much time do I have to crack the case?', 'hint_level': '2', 'character': 'Alias Node', 'speaker': '', 'narrative_context': 'Bar', 'planet': 'Armpit VI', 'location': '', 'category': 'Meta', 'tone': '', 'follow_up_hint_id': '', 'answer_keywords': '', 'tags': '', '_id': 'ef165b2bf8eb4b748e6665d082dfa4bb', '_collection_name': 'Thudbot_Hints'}, page_content='question_id: TSB-039\\nhint_text: The shuttle to Karkas 4 leaves at 22:50. Karkas 4 is outside your jurisdiction.\\npuzzle_name: \\nsource: UHS'),\n",
       "  Document(metadata={'source': './data/Thudbot_Hint_Data_1.csv', 'row': 27, 'question': 'When does the shuttle leave for Karkas-4', 'hint_level': '1', 'character': 'Alias Node', 'speaker': '', 'narrative_context': 'Background', 'planet': 'Armpit VI', 'location': '', 'category': 'General', 'tone': '', 'follow_up_hint_id': '', 'answer_keywords': '', 'tags': '', '_id': '3fd91c904f234cbface0b5838a12ccb6', '_collection_name': 'Thudbot_Hints'}, page_content='question_id: TSB-026\\nhint_text: Have you checked the flight information to find out when the shuttle to Karkas 4 leaves?\\npuzzle_name: \\nsource: self'),\n",
       "  Document(metadata={'source': './data/Thudbot_Hint_Data_1.csv', 'row': 108, 'question': 'The box was delivered to the wrong place', 'hint_level': '2', 'character': 'Fleebix, Thud', 'speaker': '', 'narrative_context': 'Fleebix Flashback', 'planet': 'Yzore', 'location': 'Driveway', 'category': 'Puzzle', 'tone': '', 'follow_up_hint_id': '', 'answer_keywords': '', 'tags': '', '_id': '5a0f6b75f0544ff9beaa5789beedc803', '_collection_name': 'Thudbot_Hints'}, page_content='question_id: TSB-055\\nhint_text: The people here are missing something.\\npuzzle_name: Getting to Quantelope Lodge\\nsource: UHS'),\n",
       "  Document(metadata={'source': './data/Thudbot_Hint_Data_1.csv', 'row': 66, 'question': 'What do I need to do in the Thud flashback?', 'hint_level': '3', 'character': 'Thud', 'speaker': '', 'narrative_context': 'Thud Flashback', 'planet': 'Yzore', 'location': 'Your dwelling', 'category': 'Puzzle', 'tone': '', 'follow_up_hint_id': '', 'answer_keywords': '', 'tags': '', '_id': 'a82f43630766497c8e665212a5e5c091', '_collection_name': 'Thudbot_Hints'}, page_content=\"question_id: TSB-040\\nhint_text: All you need to do to solve Thud's flashback is just take the cup outside\\npuzzle_name: Getting to Quantelope Lodge\\nsource: UHS\"),\n",
       "  Document(metadata={'source': './data/Thudbot_Hint_Data_1.csv', 'row': 100, 'question': 'How do I get the box to the lodge?', 'hint_level': '3', 'character': 'Fleebix, Thud', 'speaker': '', 'narrative_context': 'Fleebix Flashback', 'planet': 'Yzore', 'location': 'Glom Hole', 'category': 'Puzzle', 'tone': '', 'follow_up_hint_id': '', 'answer_keywords': '', 'tags': '', '_id': '64cd9d46f5814de292c3179a6557de34', '_collection_name': 'Thudbot_Hints'}, page_content='question_id: TSB-052\\nhint_text: Climb inside the large box and wait\\npuzzle_name: Getting to Quantelope Lodge\\nsource: UHS'),\n",
       "  Document(metadata={'source': './data/Thudbot_Hint_Data_1.csv', 'row': 114, 'question': 'We arrived too early at Quantelope Lodge for the audition', 'hint_level': '2', 'character': 'Fleebix, Thud', 'speaker': '', 'narrative_context': 'Fleebix Flashback', 'planet': 'Yzore', 'location': 'Clocktower Base', 'category': 'Puzzle', 'tone': '', 'follow_up_hint_id': '', 'answer_keywords': '', 'tags': '', '_id': '7cbc735553944ab9a17af18c390f6339', '_collection_name': 'Thudbot_Hints'}, page_content='question_id: TSB-057\\nhint_text: Check the time on the clocktower\\npuzzle_name: Clocktower\\nsource: UHS')]}"
      ]
     },
     "execution_count": 12,
     "metadata": {},
     "output_type": "execute_result"
    }
   ],
   "source": [
    "# sample_q = platinum_data[0][\"eval_sample\"][\"user_input\"]\n",
    "# sample_q = \"What is the best way to get the token?\"\n",
    "sample_q = \"why is the weather so nice?\"\n",
    "# sample_q = sampled_platinum[4][\"eval_sample\"][\"user_input\"]\n",
    "multi_query_retrieval_chain.invoke({\"question\": sample_q})"
   ]
  },
  {
   "cell_type": "markdown",
   "id": "9962fc69",
   "metadata": {},
   "source": [
    "use @tool decorator to Wrap multi_query_retrieval_chain as a Tool"
   ]
  },
  {
   "cell_type": "code",
   "execution_count": 13,
   "id": "b0c41a98",
   "metadata": {},
   "outputs": [],
   "source": [
    "from langchain_core.tools import tool\n",
    "\n",
    "@tool\n",
    "def hint_lookup(question: str) -> str:\n",
    "    \"\"\"Answer in-game player questions or (if needed) give the weather.\"\"\"\n",
    "    result = multi_query_retrieval_chain.invoke({\"question\": question})\n",
    "    answer = result[\"response\"].content\n",
    "\n",
    "    if \"not sure\" in answer.lower() or \"look around\" in answer.lower():\n",
    "        return get_weather.invoke({\"city\": \"Boston\"})\n",
    "    \n",
    "    return answer\n"
   ]
  },
  {
   "cell_type": "markdown",
   "id": "78fd35c4",
   "metadata": {},
   "source": [
    "let's give thud another tool, using an api call"
   ]
  },
  {
   "cell_type": "code",
   "execution_count": 14,
   "id": "db844a0c",
   "metadata": {},
   "outputs": [],
   "source": [
    "from langchain_core.tools import tool\n",
    "import requests\n",
    "import os\n",
    "\n",
    "@tool\n",
    "def get_weather(city: str) -> str:\n",
    "    \"\"\"Gets the current weather for a given city using the OpenWeatherMap API.\"\"\"\n",
    "    api_key = os.getenv(\"OPENWEATHER_API_KEY\")\n",
    "    if not api_key:\n",
    "        return \"Oops, no weather API key found.\"\n",
    "\n",
    "    try:\n",
    "        url = (\n",
    "            f\"https://api.openweathermap.org/data/2.5/weather?\"\n",
    "            f\"q={city}&units=imperial&appid={api_key}\"\n",
    "        )\n",
    "        response = requests.get(url)\n",
    "        data = response.json()\n",
    "\n",
    "        if response.status_code != 200 or \"weather\" not in data:\n",
    "            return f\"Couldn't get weather for {city} right now.\"\n",
    "\n",
    "        weather = data[\"weather\"][0][\"description\"]\n",
    "        temp = data[\"main\"][\"temp\"]\n",
    "        return f\"It's currently {weather}, around {temp:.0f}°F in {city}.\"\n",
    "    \n",
    "    except Exception as e:\n",
    "        return f\"Weather system error: {e}\"\n"
   ]
  },
  {
   "cell_type": "code",
   "execution_count": 15,
   "id": "367253ac",
   "metadata": {},
   "outputs": [
    {
     "data": {
      "text/plain": [
       "\"It's currently smoke, around 82°F in New York.\""
      ]
     },
     "execution_count": 15,
     "metadata": {},
     "output_type": "execute_result"
    }
   ],
   "source": [
    "get_weather.invoke(\"New York\")\n"
   ]
  },
  {
   "cell_type": "code",
   "execution_count": 16,
   "id": "7fd047a0",
   "metadata": {},
   "outputs": [
    {
     "name": "stderr",
     "output_type": "stream",
     "text": [
      "/var/folders/xc/ddmjsd0x4sl7n58bhfwn6dv00000gn/T/ipykernel_92651/3189070583.py:5: LangChainDeprecationWarning: LangChain agents will continue to be supported, but it is recommended for new use cases to be built with LangGraph. LangGraph offers a more flexible and full-featured framework for building agents, including support for tool-calling, persistence of state, and human-in-the-loop workflows. For details, refer to the `LangGraph documentation <https://langchain-ai.github.io/langgraph/>`_ as well as guides for `Migrating from AgentExecutor <https://python.langchain.com/docs/how_to/migrate_agent/>`_ and LangGraph's `Pre-built ReAct agent <https://langchain-ai.github.io/langgraph/how-tos/create-react-agent/>`_.\n",
      "  thud_agent = initialize_agent(\n"
     ]
    }
   ],
   "source": [
    "from langchain.agents import initialize_agent, AgentType\n",
    "\n",
    "tools = [hint_lookup]  # just your @tool-wrapped function\n",
    "\n",
    "thud_agent = initialize_agent(\n",
    "    tools=tools,\n",
    "    agent=AgentType.ZERO_SHOT_REACT_DESCRIPTION,\n",
    "    llm=chat_model,\n",
    "    verbose=True\n",
    ")\n"
   ]
  },
  {
   "cell_type": "code",
   "execution_count": 17,
   "id": "c4c3caca",
   "metadata": {},
   "outputs": [
    {
     "name": "stderr",
     "output_type": "stream",
     "text": [
      "/var/folders/xc/ddmjsd0x4sl7n58bhfwn6dv00000gn/T/ipykernel_92651/354438210.py:1: LangChainDeprecationWarning: The method `Chain.run` was deprecated in langchain 0.1.0 and will be removed in 1.0. Use :meth:`~invoke` instead.\n",
      "  thud_agent.run(\"How do I get the token from the cup?\")\n"
     ]
    },
    {
     "name": "stdout",
     "output_type": "stream",
     "text": [
      "\n",
      "\n",
      "\u001b[1m> Entering new AgentExecutor chain...\u001b[0m\n",
      "\u001b[32;1m\u001b[1;3mThought: The question suggests the player wants to obtain a token from a cup, likely in a game scenario. I should ask for clarification or details about the game or situation to provide accurate instructions.\n",
      "Action: hint_lookup\n",
      "Action Input: How do I get the token from the cup?\u001b[0m\n",
      "Observation: \u001b[36;1m\u001b[1;3mOh, getting that token out of the cup, huh? Well, I’d say, maybe ask Thud himself to help you snatch it. Sometimes a friendly ask goes a long way! Just make sure you’re holding the cup steady when you do. Looking around for Thud nearby might help — he might be the one to tell you how to take the token without spilling your drink!\u001b[0m\n",
      "Thought:\u001b[32;1m\u001b[1;3mThought: The hint suggests that either asking Thud directly or waiting for a friendly opportunity to get the token is the way to proceed. Since the advice implies that asking Thud might be the best approach, I will provide that as the guidance.\n",
      "Final Answer: Try asking Thud directly to help you take the token from the cup. Sometimes a friendly request is all it takes!\u001b[0m\n",
      "\n",
      "\u001b[1m> Finished chain.\u001b[0m\n"
     ]
    },
    {
     "data": {
      "text/plain": [
       "'Try asking Thud directly to help you take the token from the cup. Sometimes a friendly request is all it takes!'"
      ]
     },
     "execution_count": 17,
     "metadata": {},
     "output_type": "execute_result"
    }
   ],
   "source": [
    "thud_agent.run(\"How do I get the token from the cup?\")\n",
    "# thud_agent.run(\"what is the weather?\")\n"
   ]
  }
 ],
 "metadata": {
  "kernelspec": {
   "display_name": ".venv",
   "language": "python",
   "name": "python3"
  },
  "language_info": {
   "codemirror_mode": {
    "name": "ipython",
    "version": 3
   },
   "file_extension": ".py",
   "mimetype": "text/x-python",
   "name": "python",
   "nbconvert_exporter": "python",
   "pygments_lexer": "ipython3",
   "version": "3.13.2"
  }
 },
 "nbformat": 4,
 "nbformat_minor": 5
}
