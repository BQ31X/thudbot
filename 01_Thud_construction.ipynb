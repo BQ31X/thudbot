{
 "cells": [
  {
   "cell_type": "markdown",
   "id": "fcc5f067",
   "metadata": {},
   "source": [
    "# Thudbot Scaffold - Next part\n",
    "\n",
    "This will be a prototype Thudbot built in jupyter.\n",
    "\n",
    "In notebook 00, I went through the steps below to evaluate and choose an appropriate retriever for Thudbot\n",
    "\n",
    "Steps:\n",
    "1. ✅ General setup\n",
    "2. ✅ Data collection and Preparation\n",
    "3. ✅ SDG with RAGAS to create a golden data set\n",
    "4. ✅ Setup the RAG chain (finally)\n",
    "5. ✅ Evaluate results with RAGAS\n",
    "6. ✅ Refine RAG performance (prompt tuning, retreival methods)\n",
    "\n",
    "Now I will:\n",
    "1. Rebuild the final RAG here (without the SDG or RAGAS eval)\n",
    "2. Add agentic tool calls\n",
    "3. Add external APIs\n",
    "\n",
    "Then:\n",
    "- Convert to a standalone Python script\n",
    "- Build or reuse a chatbot front end to run it locally"
   ]
  },
  {
   "cell_type": "markdown",
   "id": "3ad5c4c3",
   "metadata": {},
   "source": [
    "\n",
    "Naming this 01_ "
   ]
  },
  {
   "cell_type": "markdown",
   "id": "9badc3b1",
   "metadata": {},
   "source": [
    "## Step 1 General setup"
   ]
  },
  {
   "cell_type": "code",
   "execution_count": 35,
   "id": "182642a8",
   "metadata": {},
   "outputs": [
    {
     "name": "stdout",
     "output_type": "stream",
     "text": [
      "--- API Key Status ---\n",
      "OPENAI_API_KEY loaded: True\n",
      "LANGCHAIN_API_KEY loaded: True\n",
      "TAVILY_API_KEY loaded: True\n",
      "RAGAS_API_KEY loaded: False\n",
      "ANTHROPIC_API_KEY loaded: True\n",
      "COHERE_API_KEY loaded: True\n",
      "OPENWEATHER_API_KEY loaded: True\n",
      "\n",
      "--- Project Settings Status ---\n",
      "DEBUG mode enabled: True\n",
      "LangSmith Tracing V2 enabled: True\n",
      "LangChain Project Base: None\n",
      "LangChain Project: THUDBOT-CC\n"
     ]
    }
   ],
   "source": [
    "### API key management and environment variables\n",
    "\n",
    "### Reminder: Place .env file inside the root of the project folder so when calling the below from inside the notebook it should find the .env fule and load it inside the notebook environment\n",
    "### PLEASE ADD THIS `.env` FILE TO YOUR PROJECT'S `.gitignore` file before committing and pushing the changes to your remote repo, as it contains API Keys and Secrets in it\n",
    "\n",
    "import os\n",
    "from dotenv import load_dotenv\n",
    "\n",
    "load_dotenv(dotenv_path=\".env\", override=True)\n",
    "\n",
    "# --- Verify API Keys ---\n",
    "print(\"--- API Key Status ---\")\n",
    "print(f\"OPENAI_API_KEY loaded: {'OPENAI_API_KEY' in os.environ}\")\n",
    "print(f\"LANGCHAIN_API_KEY loaded: {'LANGCHAIN_API_KEY' in os.environ}\")\n",
    "print(f\"TAVILY_API_KEY loaded: {'TAVILY_API_KEY' in os.environ}\")\n",
    "print(f\"RAGAS_API_KEY loaded: {'RAGAS_API_KEY' in os.environ}\")\n",
    "print(f\"ANTHROPIC_API_KEY loaded: {'ANTHROPIC_API_KEY' in os.environ}\")\n",
    "print(f\"COHERE_API_KEY loaded: {'COHERE_API_KEY' in os.environ}\")\n",
    "print(f\"OPENWEATHER_API_KEY loaded: {'OPENWEATHER_API_KEY' in os.environ}\")\n",
    "\n",
    "# --- Verify General Settings ---\n",
    "print(\"\\n--- Project Settings Status ---\")\n",
    "print(f\"DEBUG mode enabled: {os.environ.get('DEBUG') == 'True'}\")\n",
    "print(f\"LangSmith Tracing V2 enabled: {os.environ.get('LANGCHAIN_TRACING_V2') == 'true'}\")\n",
    "print(f\"LangChain Project Base: {os.environ.get('LANGCHAIN_PROJECT_BASE')}\")\n",
    "print(f\"LangChain Project: {os.environ.get('LANGCHAIN_PROJECT')}\")\n"
   ]
  },
  {
   "cell_type": "markdown",
   "id": "9a09fc64",
   "metadata": {},
   "source": [
    "including nltk, because it worked before"
   ]
  },
  {
   "cell_type": "code",
   "execution_count": 2,
   "id": "140254c3",
   "metadata": {},
   "outputs": [
    {
     "name": "stderr",
     "output_type": "stream",
     "text": [
      "[nltk_data] Downloading package punkt to /Users/family/nltk_data...\n",
      "[nltk_data]   Package punkt is already up-to-date!\n",
      "[nltk_data] Downloading package averaged_perceptron_tagger to\n",
      "[nltk_data]     /Users/family/nltk_data...\n",
      "[nltk_data]   Package averaged_perceptron_tagger is already up-to-\n",
      "[nltk_data]       date!\n"
     ]
    },
    {
     "data": {
      "text/plain": [
       "True"
      ]
     },
     "execution_count": 2,
     "metadata": {},
     "output_type": "execute_result"
    }
   ],
   "source": [
    "import nltk\n",
    "nltk.download('punkt')\n",
    "nltk.download('averaged_perceptron_tagger')"
   ]
  },
  {
   "cell_type": "code",
   "execution_count": 3,
   "id": "06eb6339",
   "metadata": {},
   "outputs": [
    {
     "name": "stderr",
     "output_type": "stream",
     "text": [
      "/Users/family/Library/Mobile Documents/com~apple~CloudDocs/AppDev/thudbot/.venv/lib/python3.13/site-packages/pysbd/segmenter.py:66: SyntaxWarning: invalid escape sequence '\\s'\n",
      "  for match in re.finditer('{0}\\s*'.format(re.escape(sent)), self.original_text):\n",
      "/Users/family/Library/Mobile Documents/com~apple~CloudDocs/AppDev/thudbot/.venv/lib/python3.13/site-packages/pysbd/lang/arabic.py:29: SyntaxWarning: invalid escape sequence '\\.'\n",
      "  txt = re.sub('(?<={0})\\.'.format(am), '∯', txt)\n",
      "/Users/family/Library/Mobile Documents/com~apple~CloudDocs/AppDev/thudbot/.venv/lib/python3.13/site-packages/pysbd/lang/persian.py:29: SyntaxWarning: invalid escape sequence '\\.'\n",
      "  txt = re.sub('(?<={0})\\.'.format(am), '∯', txt)\n"
     ]
    }
   ],
   "source": [
    "from ragas.llms import LangchainLLMWrapper\n",
    "from ragas.embeddings import LangchainEmbeddingsWrapper\n",
    "from langchain_openai import ChatOpenAI\n",
    "from langchain_openai import OpenAIEmbeddings\n",
    "generator_llm = LangchainLLMWrapper(ChatOpenAI(model=\"gpt-4.1-nano\"))\n",
    "generator_embeddings = LangchainEmbeddingsWrapper(OpenAIEmbeddings())\n",
    "eval_llm = LangchainLLMWrapper(ChatOpenAI(model=\"gpt-4.1-nano\"))\n",
    "eval_embeddings = LangchainEmbeddingsWrapper(OpenAIEmbeddings())"
   ]
  },
  {
   "cell_type": "markdown",
   "id": "7854ab91",
   "metadata": {},
   "source": [
    "## Step 2: Data Collection and Preparation\n",
    "\n",
    "My data is CSV structured, so using code from HW9"
   ]
  },
  {
   "cell_type": "code",
   "execution_count": 4,
   "id": "89bf5b7f",
   "metadata": {},
   "outputs": [
    {
     "name": "stdout",
     "output_type": "stream",
     "text": [
      "question_id: TSB-001\n",
      "hint_text: Press the escape key to exit the opening animations\n",
      "puzzle_name: \n",
      "source: self\n",
      "{'source': './data/Thudbot_Hint_Data_1.csv', 'row': 0, 'question': 'How do I stop the opening movie', 'hint_level': '1', 'character': 'Player', 'speaker': '', 'narrative_context': 'Meta', 'planet': '', 'location': '', 'category': 'Meta', 'tone': '', 'follow_up_hint_id': '', 'answer_keywords': '', 'tags': ''}\n"
     ]
    }
   ],
   "source": [
    "from langchain_community.document_loaders.csv_loader import CSVLoader\n",
    "from datetime import datetime, timedelta\n",
    "\n",
    "loader = CSVLoader(\n",
    "    file_path=f\"./data/Thudbot_Hint_Data_1.csv\",\n",
    "    metadata_columns=[\n",
    "        \"question\",\n",
    "        \"hint_level\",\n",
    "        \"character\",\n",
    "        \"speaker\",\n",
    "        \"narrative_context\",\n",
    "        \"planet\",\n",
    "        \"location\",\n",
    "        \"category\",\n",
    "        \"tone\",\n",
    "        \"follow_up_hint_id\",\n",
    "        \"answer_keywords\",\n",
    "        \"tags\"\n",
    "    ]\n",
    ")\n",
    "\n",
    "hint_data = loader.load()\n",
    "\n",
    "# No need to overwrite page_content; not doing custom transformation\n",
    "print(hint_data[0].page_content)     # This will already be the hint_text\n",
    "print(hint_data[0].metadata)         # This will show all the metadata fields\n"
   ]
  },
  {
   "cell_type": "markdown",
   "id": "83858935",
   "metadata": {},
   "source": [
    "### Setting up QDrant! (from HW9)\n",
    "\n",
    "Now that we have our documents, let's create a QDrant VectorStore with the collection name \"ThudbotHints\".\n",
    "\n",
    "We'll leverage OpenAI's [`text-embedding-3-small`](https://openai.com/blog/new-embedding-models-and-api-updates) because it's a very powerful (and low-cost) embedding model.\n",
    "\n",
    " "
   ]
  },
  {
   "cell_type": "code",
   "execution_count": 5,
   "id": "55e047a6",
   "metadata": {},
   "outputs": [],
   "source": [
    "from langchain_community.vectorstores import Qdrant\n",
    "from langchain_openai import OpenAIEmbeddings\n",
    "\n",
    "embeddings = OpenAIEmbeddings(model=\"text-embedding-3-small\")\n",
    "\n",
    "vectorstore = Qdrant.from_documents(\n",
    "    documents=hint_data,\n",
    "    embedding=embeddings,\n",
    "    location=\":memory:\",\n",
    "    collection_name=\"Thudbot_Hints\"\n",
    ")"
   ]
  },
  {
   "cell_type": "markdown",
   "id": "b36831f3",
   "metadata": {},
   "source": [
    "### ▶️ reload platinum data set\n",
    "\n",
    "Might as well re-use it for any testing"
   ]
  },
  {
   "cell_type": "code",
   "execution_count": 19,
   "id": "15427af9",
   "metadata": {},
   "outputs": [],
   "source": [
    "import json\n",
    "\n",
    "# Load questions for testing retrievers\n",
    "with open(\"data/platinum_dataset.json\", \"r\") as f:\n",
    "    platinum_data = json.load(f)\n",
    "\n"
   ]
  },
  {
   "cell_type": "code",
   "execution_count": 20,
   "id": "017455bc",
   "metadata": {},
   "outputs": [],
   "source": [
    "sample_indices = [0, 2, 5, 7, 10]\n",
    "sampled_platinum = [platinum_data[i] for i in sample_indices]\n"
   ]
  },
  {
   "cell_type": "markdown",
   "id": "06cb2736",
   "metadata": {},
   "source": [
    "## Step 4: Setup the RAG chain\n"
   ]
  },
  {
   "cell_type": "markdown",
   "id": "8fc850ac",
   "metadata": {},
   "source": [
    "Starting with a \"naive\" dense vector retrieval"
   ]
  },
  {
   "cell_type": "markdown",
   "id": "1274cae5",
   "metadata": {},
   "source": [
    "### R - Retrieval - using multi-query retriever, based on previous evaluatin\n",
    "\n",
    "\n"
   ]
  },
  {
   "cell_type": "code",
   "execution_count": 11,
   "id": "a67ec143",
   "metadata": {},
   "outputs": [],
   "source": [
    "naive_retriever = vectorstore.as_retriever(search_kwargs={\"k\" : 10})"
   ]
  },
  {
   "cell_type": "markdown",
   "id": "513115e6",
   "metadata": {},
   "source": [
    "Moving next cell up in the flow, because multi-query retriever needs LLM"
   ]
  },
  {
   "cell_type": "code",
   "execution_count": 13,
   "id": "d27603ec",
   "metadata": {},
   "outputs": [],
   "source": [
    "from langchain_openai import ChatOpenAI\n",
    "\n",
    "chat_model = ChatOpenAI(model=\"gpt-4.1-nano\")\n",
    "#chat_model = ChatAnthropic(model=\"claude-3-5-sonnet-20240620\")"
   ]
  },
  {
   "cell_type": "code",
   "execution_count": null,
   "id": "56bb709e",
   "metadata": {},
   "outputs": [],
   "source": [
    "from langchain.retrievers.multi_query import MultiQueryRetriever\n",
    "\n",
    "multi_query_retriever = MultiQueryRetriever.from_llm(\n",
    "    retriever=naive_retriever, llm=chat_model, number_of_queries=3\n",
    ")"
   ]
  },
  {
   "cell_type": "markdown",
   "id": "d781088a",
   "metadata": {},
   "source": [
    "### A - Augmented\n",
    "\n",
    "My first pass at a Thud-like prompt, named as ```THUD_TEMPLATE```\n",
    "\n",
    "This will need tuning!"
   ]
  },
  {
   "cell_type": "code",
   "execution_count": null,
   "id": "90a920e0",
   "metadata": {},
   "outputs": [],
   "source": [
    "from langchain_core.prompts import ChatPromptTemplate\n",
    "\n",
    "THUD_TEMPLATE = \"\"\"\\\n",
    "You are Thud, a friendly and somewhat simple-minded patron at The Thirsty Tentacle. \n",
    "\n",
    "You're trying your best to help the player navigate the game \"The Space Bar.\"\n",
    "\n",
    "Use the clues and context provided below to offer a gentle hint — not a full solution.\n",
    "\n",
    "If you're not sure what to say, admit it honestly or say something silly — like talk about the weather or suggest looking around more.\n",
    "\n",
    "Player's question:\n",
    "{question}\n",
    "\n",
    "Context:\n",
    "{context}\n",
    "\n",
    "Your hint:\"\"\"\n",
    "\n",
    "rag_prompt = ChatPromptTemplate.from_template(THUD_TEMPLATE)"
   ]
  },
  {
   "cell_type": "markdown",
   "id": "f7e84599",
   "metadata": {},
   "source": [
    "### G - Generation\n",
    "\n",
    "Still using `gpt-4.1-nano` as our LLM today"
   ]
  },
  {
   "cell_type": "markdown",
   "id": "43372065",
   "metadata": {},
   "source": [
    "### LCEL RAG Chain\n",
    "\n",
    "We're going to use LCEL to construct our chain. (from HW9)\n"
   ]
  },
  {
   "cell_type": "markdown",
   "id": "83bc3681",
   "metadata": {},
   "source": [
    "Test the chain, and the langsmith tracing with a question.\n",
    "Might as well take the question from the platinum data set (just remember to load it above ▶️)"
   ]
  },
  {
   "cell_type": "markdown",
   "id": "17c87ec9",
   "metadata": {},
   "source": [
    "Using mq, based on eval results"
   ]
  },
  {
   "cell_type": "code",
   "execution_count": 17,
   "id": "1c2f4ce6",
   "metadata": {},
   "outputs": [],
   "source": [
    "from langchain_core.runnables import RunnablePassthrough\n",
    "from operator import itemgetter\n",
    "from langchain_core.output_parsers import StrOutputParser\n",
    "\n",
    "multi_query_retrieval_chain = (\n",
    "    {\"context\": itemgetter(\"question\") | multi_query_retriever, \"question\": itemgetter(\"question\")}\n",
    "    | RunnablePassthrough.assign(context=itemgetter(\"context\"))\n",
    "    | {\"response\": rag_prompt | chat_model, \"context\": itemgetter(\"context\")}\n",
    ").with_config({\"run_name\": \"multi_query_chain\"})"
   ]
  },
  {
   "cell_type": "markdown",
   "id": "c7c29933",
   "metadata": {},
   "source": [
    "test with sample questions"
   ]
  },
  {
   "cell_type": "code",
   "execution_count": 24,
   "id": "6d8ed63c",
   "metadata": {},
   "outputs": [
    {
     "data": {
      "text/plain": [
       "{'response': AIMessage(content=\"Hey there! It sounds like you're tryin' to get to Quantelope Lodge and need to find Thud and that vestibule terminal. Hmm... Maybe you should look around and see if there's a door you can click on—that might be the way to find Thud. Also, sometimes at Glom Hole or the Front Stoop, doing something with objects like the mailbox or the cup helps a lot. Oh! And if Thud is in a jar or something, talk to him or tell him what to do. Keep lookin' around those areas—you'll find a way!\", additional_kwargs={'refusal': None}, response_metadata={'token_usage': {'completion_tokens': 118, 'prompt_tokens': 2669, 'total_tokens': 2787, 'completion_tokens_details': {'accepted_prediction_tokens': 0, 'audio_tokens': 0, 'reasoning_tokens': 0, 'rejected_prediction_tokens': 0}, 'prompt_tokens_details': {'audio_tokens': 0, 'cached_tokens': 0}}, 'model_name': 'gpt-4.1-nano-2025-04-14', 'system_fingerprint': 'fp_f12167b370', 'id': 'chatcmpl-C0RcdCXNUM9C6UFtlop0vhFayni1c', 'service_tier': 'default', 'finish_reason': 'stop', 'logprobs': None}, id='run--25784200-d728-4f99-8b5f-040b2a8635d0-0', usage_metadata={'input_tokens': 2669, 'output_tokens': 118, 'total_tokens': 2787, 'input_token_details': {'audio': 0, 'cache_read': 0}, 'output_token_details': {'audio': 0, 'reasoning': 0}}),\n",
       " 'context': [Document(metadata={'source': './data/Thudbot_Hint_Data_1.csv', 'row': 74, 'question': 'What do I need to do in the Fleebix  flashback?', 'hint_level': '2', 'character': 'Fleebix', 'speaker': '', 'narrative_context': 'Fleebix Flashback', 'planet': 'Yzore', 'location': '', 'category': 'Puzzle', 'tone': '', 'follow_up_hint_id': '', 'answer_keywords': '', 'tags': '', '_id': '5257545425234a9d84853e8f25d4a2bb', '_collection_name': 'Thudbot_Hints'}, page_content='question_id: TSB-044\\nhint_text: Read the audition notice to find out where Thud and Fleebix need to go first\\npuzzle_name: Getting to Quantelope Lodge\\nsource: UHS'),\n",
       "  Document(metadata={'source': './data/Thudbot_Hint_Data_1.csv', 'row': 70, 'question': 'How do I find Thud when I am in a jar?', 'hint_level': '1', 'character': 'Fleebix', 'speaker': '', 'narrative_context': 'Fleebix Flashback', 'planet': 'Yzore', 'location': 'Front Stoop', 'category': 'Puzzle', 'tone': '', 'follow_up_hint_id': '', 'answer_keywords': '', 'tags': '', '_id': 'df0b598dd7a64094bc08d3e8260f7b5f', '_collection_name': 'Thudbot_Hints'}, page_content=\"question_id: TSB-042\\nhint_text: I could tell you how to find Thud, but maybe you should EmpTel with Thud first if you haven't\\npuzzle_name: Getting to Quantelope Lodge\\nsource: UHS\"),\n",
       "  Document(metadata={'source': './data/Thudbot_Hint_Data_1.csv', 'row': 71, 'question': 'How do I find Thud when I am in a jar?', 'hint_level': '2', 'character': 'Fleebix', 'speaker': '', 'narrative_context': 'Fleebix Flashback', 'planet': 'Yzore', 'location': 'Front Stoop', 'category': 'Puzzle', 'tone': '', 'follow_up_hint_id': '', 'answer_keywords': '', 'tags': '', '_id': '989ba830fcd04e4081d71b74e1f297f2', '_collection_name': 'Thudbot_Hints'}, page_content='question_id: TSB-042\\nhint_text: If you want to find Thud, try clicking on the door\\npuzzle_name: Getting to Quantelope Lodge\\nsource: UHS'),\n",
       "  Document(metadata={'source': './data/Thudbot_Hint_Data_1.csv', 'row': 64, 'question': 'What do I need to do in the Thud flashback?', 'hint_level': '1', 'character': 'Thud', 'speaker': '', 'narrative_context': 'Thud Flashback', 'planet': 'Yzore', 'location': 'Your dwelling', 'category': 'Puzzle', 'tone': '', 'follow_up_hint_id': '', 'answer_keywords': '', 'tags': '', '_id': '85b074aa7e36463fa3d9a70780251a9c', '_collection_name': 'Thudbot_Hints'}, page_content=\"question_id: TSB-040\\nhint_text: There's not too much you can do in the Thud flashback. Try interacting with all the objects.\\npuzzle_name: Getting to Quantelope Lodge\\nsource: UHS\"),\n",
       "  Document(metadata={'source': './data/Thudbot_Hint_Data_1.csv', 'row': 89, 'question': 'How do I get to Quantelope Lodge from Glom Hole', 'hint_level': '3', 'character': 'Fleebix, Thud', 'speaker': '', 'narrative_context': 'Fleebix Flashback', 'planet': 'Yzore', 'location': 'Glom Hole', 'category': 'Puzzle', 'tone': '', 'follow_up_hint_id': '', 'answer_keywords': '', 'tags': '', '_id': '46c7ee3754b14bc59b14d5d361838a37', '_collection_name': 'Thudbot_Hints'}, page_content='question_id: TSB-049\\nhint_text: Have Thud open the mailbox\\npuzzle_name: Getting to Quantelope Lodge\\nsource: UHS'),\n",
       "  Document(metadata={'source': './data/Thudbot_Hint_Data_1.csv', 'row': 80, 'question': 'How do I get on the bus to Quantelope Lodge?', 'hint_level': '3', 'character': 'Fleebix, Thud', 'speaker': '', 'narrative_context': 'Fleebix Flashback', 'planet': 'Yzore', 'location': 'Front Stoop', 'category': 'Puzzle', 'tone': '', 'follow_up_hint_id': '', 'answer_keywords': '', 'tags': '', '_id': 'ff4392a9d689472d9aab69521daae4f0', '_collection_name': 'Thudbot_Hints'}, page_content='question_id: TSB-046\\nhint_text: Ask Thud to take the token from the cup\\npuzzle_name: Getting to Quantelope Lodge\\nsource: UHS'),\n",
       "  Document(metadata={'source': './data/Thudbot_Hint_Data_1.csv', 'row': 75, 'question': 'What do I need to do in the Fleebix  flashback?', 'hint_level': '3', 'character': 'Fleebix', 'speaker': '', 'narrative_context': 'Fleebix Flashback', 'planet': 'Yzore', 'location': '', 'category': 'Puzzle', 'tone': '', 'follow_up_hint_id': '', 'answer_keywords': '', 'tags': '', '_id': '3e9faa032da04b148ddeb3106e3e6620', '_collection_name': 'Thudbot_Hints'}, page_content='question_id: TSB-044\\nhint_text: Thud and Fleebix need to get to the Quantelope Lodge\\npuzzle_name: Getting to Quantelope Lodge\\nsource: UHS'),\n",
       "  Document(metadata={'source': './data/Thudbot_Hint_Data_1.csv', 'row': 86, 'question': 'Thud got on the wrong bus.', 'hint_level': '2', 'character': 'Fleebix, Thud', 'speaker': '', 'narrative_context': 'Fleebix Flashback', 'planet': 'Yzore', 'location': 'Glom Hole', 'category': 'Puzzle', 'tone': '', 'follow_up_hint_id': '', 'answer_keywords': '', 'tags': '', '_id': '00b713372d174d7c852ab93e29e6d869', '_collection_name': 'Thudbot_Hints'}, page_content=\"question_id: TSB-048\\nhint_text: Maybe there's something you can do at Glom Hole?\\npuzzle_name: Getting to Quantelope Lodge\\nsource: UHS\"),\n",
       "  Document(metadata={'source': './data/Thudbot_Hint_Data_1.csv', 'row': 98, 'question': 'How do I get the box to the lodge?', 'hint_level': '1', 'character': 'Fleebix, Thud', 'speaker': '', 'narrative_context': 'Fleebix Flashback', 'planet': 'Yzore', 'location': 'Glom Hole', 'category': 'Puzzle', 'tone': '', 'follow_up_hint_id': '', 'answer_keywords': '', 'tags': '', '_id': 'c11b97373c2c4b7ea38b4bde1b81f82f', '_collection_name': 'Thudbot_Hints'}, page_content='question_id: TSB-052\\nhint_text: Have Thud leave the large box by the mailbox\\npuzzle_name: Getting to Quantelope Lodge\\nsource: UHS'),\n",
       "  Document(metadata={'source': './data/Thudbot_Hint_Data_1.csv', 'row': 65, 'question': 'What do I need to do in the Thud flashback?', 'hint_level': '2', 'character': 'Thud', 'speaker': '', 'narrative_context': 'Thud Flashback', 'planet': 'Yzore', 'location': 'Your dwelling', 'category': 'Puzzle', 'tone': '', 'follow_up_hint_id': '', 'answer_keywords': '', 'tags': '', '_id': '1d4744f227f4463e8ed23ce0ccd6651c', '_collection_name': 'Thudbot_Hints'}, page_content=\"question_id: TSB-040\\nhint_text: Fleebix will tell you what to do when you are Thud's flashback\\npuzzle_name: Getting to Quantelope Lodge\\nsource: UHS\"),\n",
       "  Document(metadata={'source': './data/Thudbot_Hint_Data_1.csv', 'row': 72, 'question': 'How do I find Thud when I am in a jar?', 'hint_level': '3', 'character': 'Fleebix', 'speaker': '', 'narrative_context': 'Fleebix Flashback', 'planet': 'Yzore', 'location': 'Front Stoop', 'category': 'Puzzle', 'tone': '', 'follow_up_hint_id': '', 'answer_keywords': '', 'tags': '', '_id': '83623bc842c14aadb2a26f02fc215478', '_collection_name': 'Thudbot_Hints'}, page_content='question_id: TSB-042\\nhint_text: Tell Thud to pick up the cup and come outside\\npuzzle_name: Getting to Quantelope Lodge\\nsource: UHS'),\n",
       "  Document(metadata={'source': './data/Thudbot_Hint_Data_1.csv', 'row': 83, 'question': 'How do I get to the lodge if I missed the bus?', 'hint_level': '3', 'character': 'Fleebix, Thud', 'speaker': '', 'narrative_context': 'Fleebix Flashback', 'planet': 'Yzore', 'location': 'Front Stoop', 'category': 'Puzzle', 'tone': '', 'follow_up_hint_id': '', 'answer_keywords': '', 'tags': '', '_id': '743fb9b6224f4cf4ba0948b20c0f0424', '_collection_name': 'Thudbot_Hints'}, page_content='question_id: TSB-047\\nhint_text: Also make sure Thud is holding the token before getting on the bus\\npuzzle_name: Getting to Quantelope Lodge\\nsource: UHS'),\n",
       "  Document(metadata={'source': './data/Thudbot_Hint_Data_1.csv', 'row': 66, 'question': 'What do I need to do in the Thud flashback?', 'hint_level': '3', 'character': 'Thud', 'speaker': '', 'narrative_context': 'Thud Flashback', 'planet': 'Yzore', 'location': 'Your dwelling', 'category': 'Puzzle', 'tone': '', 'follow_up_hint_id': '', 'answer_keywords': '', 'tags': '', '_id': '4a06bb5a725a46c99cb9d853d8cbba70', '_collection_name': 'Thudbot_Hints'}, page_content=\"question_id: TSB-040\\nhint_text: All you need to do to solve Thud's flashback is just take the cup outside\\npuzzle_name: Getting to Quantelope Lodge\\nsource: UHS\")]}"
      ]
     },
     "execution_count": 24,
     "metadata": {},
     "output_type": "execute_result"
    }
   ],
   "source": [
    "# sample_q = platinum_data[0][\"eval_sample\"][\"user_input\"]\n",
    "# sample_q = \"What is the best way to get the token?\"\n",
    "sample_q = sampled_platinum[4][\"eval_sample\"][\"user_input\"]\n",
    "multi_query_retrieval_chain.invoke({\"question\": sample_q})"
   ]
  },
  {
   "cell_type": "markdown",
   "id": "9962fc69",
   "metadata": {},
   "source": [
    "use @tool decorator to Wrap multi_query_retrieval_chain as a Tool"
   ]
  },
  {
   "cell_type": "code",
   "execution_count": 30,
   "id": "680afa83",
   "metadata": {},
   "outputs": [],
   "source": [
    "from langchain_core.tools import tool\n",
    "\n",
    "@tool\n",
    "def hint_lookup(question: str) -> str:\n",
    "    \"\"\"Answer in-game player questions about puzzles, items, or objectives in The Space Bar.\"\"\"\n",
    "    result = multi_query_retrieval_chain.invoke({\"question\": question})\n",
    "    return result[\"response\"].content\n"
   ]
  },
  {
   "cell_type": "code",
   "execution_count": 31,
   "id": "7fd047a0",
   "metadata": {},
   "outputs": [],
   "source": [
    "from langchain.agents import initialize_agent, AgentType\n",
    "\n",
    "tools = [hint_lookup]  # just your @tool-wrapped function\n",
    "\n",
    "thud_agent = initialize_agent(\n",
    "    tools=tools,\n",
    "    agent=AgentType.ZERO_SHOT_REACT_DESCRIPTION,\n",
    "    llm=chat_model,\n",
    "    verbose=True\n",
    ")\n"
   ]
  },
  {
   "cell_type": "code",
   "execution_count": 32,
   "id": "c4c3caca",
   "metadata": {},
   "outputs": [
    {
     "name": "stdout",
     "output_type": "stream",
     "text": [
      "\n",
      "\n",
      "\u001b[1m> Entering new AgentExecutor chain...\u001b[0m\n",
      "\u001b[32;1m\u001b[1;3mThought: I need to get specific guidance on how to retrieve the token from the cup in the game. I'll use the hint_lookup tool to ask about this puzzle.\n",
      "Action: hint_lookup\n",
      "Action Input: How do I get the token from the cup?\u001b[0m\n",
      "Observation: \u001b[36;1m\u001b[1;3mOh, hey there! To get that token from the cup, you might wanna ask Thud directly to help you out. Just tell him to pick up the cup and come outside, and make sure he's holding the token before you try to get on the bus. That way, you'll be all set! If you're still stuck, looking around more might help find the right moment or tool to get that token.\u001b[0m\n",
      "Thought:\u001b[32;1m\u001b[1;3mFinal Answer: Ask Thud to pick up the cup and come outside, ensuring he is holding the token before you try to get on the bus.\u001b[0m\n",
      "\n",
      "\u001b[1m> Finished chain.\u001b[0m\n"
     ]
    },
    {
     "data": {
      "text/plain": [
       "'Ask Thud to pick up the cup and come outside, ensuring he is holding the token before you try to get on the bus.'"
      ]
     },
     "execution_count": 32,
     "metadata": {},
     "output_type": "execute_result"
    }
   ],
   "source": [
    "thud_agent.run(\"How do I get the token from the cup?\")\n"
   ]
  },
  {
   "cell_type": "markdown",
   "id": "78fd35c4",
   "metadata": {},
   "source": [
    "let's give thud another tool, using an api call"
   ]
  },
  {
   "cell_type": "code",
   "execution_count": 33,
   "id": "db844a0c",
   "metadata": {},
   "outputs": [],
   "source": [
    "from langchain_core.tools import tool\n",
    "import requests\n",
    "import os\n",
    "\n",
    "@tool\n",
    "def get_weather(city: str) -> str:\n",
    "    \"\"\"Gets the current weather for a given city using the OpenWeatherMap API.\"\"\"\n",
    "    api_key = os.getenv(\"OPENWEATHER_API_KEY\")\n",
    "    if not api_key:\n",
    "        return \"Oops, no weather API key found.\"\n",
    "\n",
    "    try:\n",
    "        url = (\n",
    "            f\"https://api.openweathermap.org/data/2.5/weather?\"\n",
    "            f\"q={city}&units=imperial&appid={api_key}\"\n",
    "        )\n",
    "        response = requests.get(url)\n",
    "        data = response.json()\n",
    "\n",
    "        if response.status_code != 200 or \"weather\" not in data:\n",
    "            return f\"Couldn't get weather for {city} right now.\"\n",
    "\n",
    "        weather = data[\"weather\"][0][\"description\"]\n",
    "        temp = data[\"main\"][\"temp\"]\n",
    "        return f\"It's currently {weather}, around {temp:.0f}°F in {city}.\"\n",
    "    \n",
    "    except Exception as e:\n",
    "        return f\"Weather system error: {e}\"\n"
   ]
  },
  {
   "cell_type": "code",
   "execution_count": 36,
   "id": "367253ac",
   "metadata": {},
   "outputs": [
    {
     "data": {
      "text/plain": [
       "\"It's currently clear sky, around 72°F in New York.\""
      ]
     },
     "execution_count": 36,
     "metadata": {},
     "output_type": "execute_result"
    }
   ],
   "source": [
    "get_weather.invoke(\"New York\")\n"
   ]
  },
  {
   "cell_type": "markdown",
   "id": "f5d8a307",
   "metadata": {},
   "source": [
    "More cells straigh out of HW9"
   ]
  },
  {
   "cell_type": "code",
   "execution_count": null,
   "id": "595b7567",
   "metadata": {},
   "outputs": [],
   "source": [
    "# updated to use the sliced dataset\n",
    "# naive_outputs = run_retriever_on_dataset(\"naive\", naive_retrieval_chain, sampled_platinum)\n",
    "# bm25_outputs = run_retriever_on_dataset(\"bm25\", bm25_retrieval_chain, sampled_platinum)\n",
    "multi_query_outputs = run_retriever_on_dataset(\"multi_query\", multi_query_retrieval_chain, sampled_platinum)\n",
    "# parent_doc_outputs = run_retriever_on_dataset(\"parent_doc\", parent_document_retrieval_chain, sampled_platinum)\n",
    "# ensemble_outputs = run_retriever_on_dataset(\"ensemble\", ensemble_retrieval_chain, sampled_platinum)\n",
    "# contextual_compression_outputs = run_retriever_on_dataset(\"contextual_compression\", contextual_compression_retrieval_chain, sampled_platinum)"
   ]
  },
  {
   "cell_type": "code",
   "execution_count": null,
   "id": "bbd8eaa1",
   "metadata": {},
   "outputs": [],
   "source": [
    "# just checking the outputs\n",
    "multi_query_outputs[:3]"
   ]
  }
 ],
 "metadata": {
  "kernelspec": {
   "display_name": ".venv",
   "language": "python",
   "name": "python3"
  },
  "language_info": {
   "codemirror_mode": {
    "name": "ipython",
    "version": 3
   },
   "file_extension": ".py",
   "mimetype": "text/x-python",
   "name": "python",
   "nbconvert_exporter": "python",
   "pygments_lexer": "ipython3",
   "version": "3.13.2"
  }
 },
 "nbformat": 4,
 "nbformat_minor": 5
}
