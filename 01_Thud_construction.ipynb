{
 "cells": [
  {
   "cell_type": "markdown",
   "id": "fcc5f067",
   "metadata": {},
   "source": [
    "# Thudbot Scaffold - Next part\n",
    "\n",
    "This will be a prototype Thudbot built in jupyter.\n",
    "\n",
    "In notebook 00, I went through the steps below to evaluate and choose an appropriate retriever for Thudbot\n",
    "\n",
    "Steps:\n",
    "1. ✅ General setup\n",
    "2. ✅ Data collection and Preparation\n",
    "3. ✅ SDG with RAGAS to create a golden data set\n",
    "4. ✅ Setup the RAG chain (finally)\n",
    "5. ✅ Evaluate results with RAGAS\n",
    "6. ✅ Refine RAG performance (prompt tuning, retreival methods)\n",
    "\n",
    "Now I will:\n",
    "1. Rebuild the final RAG here (without the SDG or RAGAS eval)\n",
    "2. Add agentic tool calls\n",
    "3. Add external APIs\n",
    "\n",
    "Then:\n",
    "- Convert to a standalone Python script\n",
    "- Build or reuse a chatbot front end to run it locally"
   ]
  },
  {
   "cell_type": "markdown",
   "id": "3ad5c4c3",
   "metadata": {},
   "source": [
    "\n",
    "Naming this 01_ "
   ]
  },
  {
   "cell_type": "markdown",
   "id": "9badc3b1",
   "metadata": {},
   "source": [
    "## Step 1 General setup"
   ]
  },
  {
   "cell_type": "code",
   "execution_count": 1,
   "id": "182642a8",
   "metadata": {},
   "outputs": [
    {
     "name": "stdout",
     "output_type": "stream",
     "text": [
      "--- API Key Status ---\n",
      "OPENAI_API_KEY loaded: True\n",
      "LANGCHAIN_API_KEY loaded: True\n",
      "TAVILY_API_KEY loaded: True\n",
      "RAGAS_API_KEY loaded: False\n",
      "ANTHROPIC_API_KEY loaded: True\n",
      "COHERE_API_KEY loaded: True\n",
      "OPENWEATHER_API_KEY loaded: True\n",
      "\n",
      "--- Project Settings Status ---\n",
      "DEBUG mode enabled: True\n",
      "LangSmith Tracing V2 enabled: True\n",
      "LangChain Project Base: None\n",
      "LangChain Project: THUDBOT-CC\n"
     ]
    }
   ],
   "source": [
    "### API key management and environment variables\n",
    "\n",
    "### Reminder: Place .env file inside the root of the project folder so when calling the below from inside the notebook it should find the .env fule and load it inside the notebook environment\n",
    "### PLEASE ADD THIS `.env` FILE TO YOUR PROJECT'S `.gitignore` file before committing and pushing the changes to your remote repo, as it contains API Keys and Secrets in it\n",
    "\n",
    "import os\n",
    "from dotenv import load_dotenv\n",
    "\n",
    "load_dotenv(dotenv_path=\".env\", override=True)\n",
    "\n",
    "# --- Verify API Keys ---\n",
    "print(\"--- API Key Status ---\")\n",
    "print(f\"OPENAI_API_KEY loaded: {'OPENAI_API_KEY' in os.environ}\")\n",
    "print(f\"LANGCHAIN_API_KEY loaded: {'LANGCHAIN_API_KEY' in os.environ}\")\n",
    "print(f\"TAVILY_API_KEY loaded: {'TAVILY_API_KEY' in os.environ}\")\n",
    "print(f\"RAGAS_API_KEY loaded: {'RAGAS_API_KEY' in os.environ}\")\n",
    "print(f\"ANTHROPIC_API_KEY loaded: {'ANTHROPIC_API_KEY' in os.environ}\")\n",
    "print(f\"COHERE_API_KEY loaded: {'COHERE_API_KEY' in os.environ}\")\n",
    "print(f\"OPENWEATHER_API_KEY loaded: {'OPENWEATHER_API_KEY' in os.environ}\")\n",
    "\n",
    "# --- Verify General Settings ---\n",
    "print(\"\\n--- Project Settings Status ---\")\n",
    "print(f\"DEBUG mode enabled: {os.environ.get('DEBUG') == 'True'}\")\n",
    "print(f\"LangSmith Tracing V2 enabled: {os.environ.get('LANGCHAIN_TRACING_V2') == 'true'}\")\n",
    "print(f\"LangChain Project Base: {os.environ.get('LANGCHAIN_PROJECT_BASE')}\")\n",
    "print(f\"LangChain Project: {os.environ.get('LANGCHAIN_PROJECT')}\")\n"
   ]
  },
  {
   "cell_type": "markdown",
   "id": "9a09fc64",
   "metadata": {},
   "source": [
    "including nltk, because it worked before"
   ]
  },
  {
   "cell_type": "code",
   "execution_count": 2,
   "id": "140254c3",
   "metadata": {},
   "outputs": [
    {
     "name": "stderr",
     "output_type": "stream",
     "text": [
      "[nltk_data] Downloading package punkt to /Users/family/nltk_data...\n",
      "[nltk_data]   Package punkt is already up-to-date!\n",
      "[nltk_data] Downloading package averaged_perceptron_tagger to\n",
      "[nltk_data]     /Users/family/nltk_data...\n",
      "[nltk_data]   Package averaged_perceptron_tagger is already up-to-\n",
      "[nltk_data]       date!\n"
     ]
    },
    {
     "data": {
      "text/plain": [
       "True"
      ]
     },
     "execution_count": 2,
     "metadata": {},
     "output_type": "execute_result"
    }
   ],
   "source": [
    "import nltk\n",
    "nltk.download('punkt')\n",
    "nltk.download('averaged_perceptron_tagger')"
   ]
  },
  {
   "cell_type": "code",
   "execution_count": null,
   "id": "06eb6339",
   "metadata": {},
   "outputs": [
    {
     "name": "stderr",
     "output_type": "stream",
     "text": [
      "/Users/family/Library/Mobile Documents/com~apple~CloudDocs/AppDev/thudbot/.venv/lib/python3.13/site-packages/pysbd/segmenter.py:66: SyntaxWarning: invalid escape sequence '\\s'\n",
      "  for match in re.finditer('{0}\\s*'.format(re.escape(sent)), self.original_text):\n",
      "/Users/family/Library/Mobile Documents/com~apple~CloudDocs/AppDev/thudbot/.venv/lib/python3.13/site-packages/pysbd/lang/arabic.py:29: SyntaxWarning: invalid escape sequence '\\.'\n",
      "  txt = re.sub('(?<={0})\\.'.format(am), '∯', txt)\n",
      "/Users/family/Library/Mobile Documents/com~apple~CloudDocs/AppDev/thudbot/.venv/lib/python3.13/site-packages/pysbd/lang/persian.py:29: SyntaxWarning: invalid escape sequence '\\.'\n",
      "  txt = re.sub('(?<={0})\\.'.format(am), '∯', txt)\n"
     ]
    }
   ],
   "source": [
    "# obsolete code; try running the notebook from the beginning without this code and delete this cell if it's not needed\n",
    "\n",
    "from ragas.llms import LangchainLLMWrapper\n",
    "from ragas.embeddings import LangchainEmbeddingsWrapper\n",
    "from langchain_openai import ChatOpenAI\n",
    "from langchain_openai import OpenAIEmbeddings\n",
    "generator_llm = LangchainLLMWrapper(ChatOpenAI(model=\"gpt-4.1-nano\"))\n",
    "generator_embeddings = LangchainEmbeddingsWrapper(OpenAIEmbeddings())\n",
    "eval_llm = LangchainLLMWrapper(ChatOpenAI(model=\"gpt-4.1-nano\"))\n",
    "eval_embeddings = LangchainEmbeddingsWrapper(OpenAIEmbeddings())"
   ]
  },
  {
   "cell_type": "markdown",
   "id": "7854ab91",
   "metadata": {},
   "source": [
    "## Step 2: Data Collection and Preparation\n",
    "\n",
    "My data is CSV structured, so using code from HW9"
   ]
  },
  {
   "cell_type": "code",
   "execution_count": 3,
   "id": "89bf5b7f",
   "metadata": {},
   "outputs": [
    {
     "name": "stdout",
     "output_type": "stream",
     "text": [
      "question_id: TSB-001\n",
      "hint_text: Press the escape key to exit the opening animations\n",
      "puzzle_name: \n",
      "source: self\n",
      "{'source': './data/Thudbot_Hint_Data_1.csv', 'row': 0, 'question': 'How do I stop the opening movie', 'hint_level': '1', 'character': 'Player', 'speaker': '', 'narrative_context': 'Meta', 'planet': '', 'location': '', 'category': 'Meta', 'tone': '', 'follow_up_hint_id': '', 'answer_keywords': '', 'tags': ''}\n"
     ]
    }
   ],
   "source": [
    "from langchain_community.document_loaders.csv_loader import CSVLoader\n",
    "from datetime import datetime, timedelta\n",
    "\n",
    "loader = CSVLoader(\n",
    "    file_path=f\"./data/Thudbot_Hint_Data_1.csv\",\n",
    "    metadata_columns=[\n",
    "        \"question\",\n",
    "        \"hint_level\",\n",
    "        \"character\",\n",
    "        \"speaker\",\n",
    "        \"narrative_context\",\n",
    "        \"planet\",\n",
    "        \"location\",\n",
    "        \"category\",\n",
    "        \"tone\",\n",
    "        \"follow_up_hint_id\",\n",
    "        \"answer_keywords\",\n",
    "        \"tags\"\n",
    "    ]\n",
    ")\n",
    "\n",
    "hint_data = loader.load()\n",
    "\n",
    "# No need to overwrite page_content; not doing custom transformation\n",
    "print(hint_data[0].page_content)     # This will already be the hint_text\n",
    "print(hint_data[0].metadata)         # This will show all the metadata fields\n"
   ]
  },
  {
   "cell_type": "markdown",
   "id": "83858935",
   "metadata": {},
   "source": [
    "### Setting up QDrant! (from HW9)\n",
    "\n",
    "Now that we have our documents, let's create a QDrant VectorStore with the collection name \"ThudbotHints\".\n",
    "\n",
    "We'll leverage OpenAI's [`text-embedding-3-small`](https://openai.com/blog/new-embedding-models-and-api-updates) because it's a very powerful (and low-cost) embedding model.\n",
    "\n",
    " "
   ]
  },
  {
   "cell_type": "code",
   "execution_count": 4,
   "id": "55e047a6",
   "metadata": {},
   "outputs": [],
   "source": [
    "from langchain_community.vectorstores import Qdrant\n",
    "from langchain_openai import OpenAIEmbeddings\n",
    "\n",
    "embeddings = OpenAIEmbeddings(model=\"text-embedding-3-small\")\n",
    "\n",
    "vectorstore = Qdrant.from_documents(\n",
    "    documents=hint_data,\n",
    "    embedding=embeddings,\n",
    "    location=\":memory:\",\n",
    "    collection_name=\"Thudbot_Hints\"\n",
    ")"
   ]
  },
  {
   "cell_type": "markdown",
   "id": "b36831f3",
   "metadata": {},
   "source": [
    "### ▶️ reload platinum data set\n",
    "\n",
    "Might as well re-use it for any testing"
   ]
  },
  {
   "cell_type": "code",
   "execution_count": 5,
   "id": "15427af9",
   "metadata": {},
   "outputs": [],
   "source": [
    "import json\n",
    "\n",
    "# Load questions for testing retrievers\n",
    "with open(\"data/platinum_dataset.json\", \"r\") as f:\n",
    "    platinum_data = json.load(f)\n",
    "\n"
   ]
  },
  {
   "cell_type": "code",
   "execution_count": 6,
   "id": "017455bc",
   "metadata": {},
   "outputs": [],
   "source": [
    "sample_indices = [0, 2, 5, 7, 10]\n",
    "sampled_platinum = [platinum_data[i] for i in sample_indices]\n"
   ]
  },
  {
   "cell_type": "markdown",
   "id": "06cb2736",
   "metadata": {},
   "source": [
    "## Step 4: Setup the RAG chain\n"
   ]
  },
  {
   "cell_type": "markdown",
   "id": "8fc850ac",
   "metadata": {},
   "source": [
    "Starting with a \"naive\" dense vector retrieval"
   ]
  },
  {
   "cell_type": "markdown",
   "id": "1274cae5",
   "metadata": {},
   "source": [
    "### R - Retrieval - using multi-query retriever, based on previous evaluatin\n",
    "\n",
    "\n"
   ]
  },
  {
   "cell_type": "code",
   "execution_count": 7,
   "id": "a67ec143",
   "metadata": {},
   "outputs": [],
   "source": [
    "naive_retriever = vectorstore.as_retriever(search_kwargs={\"k\" : 10})"
   ]
  },
  {
   "cell_type": "markdown",
   "id": "513115e6",
   "metadata": {},
   "source": [
    "Moving next cell up in the flow, because multi-query retriever needs LLM"
   ]
  },
  {
   "cell_type": "code",
   "execution_count": 8,
   "id": "d27603ec",
   "metadata": {},
   "outputs": [],
   "source": [
    "from langchain_openai import ChatOpenAI\n",
    "\n",
    "chat_model = ChatOpenAI(model=\"gpt-4.1-nano\")\n",
    "#chat_model = ChatAnthropic(model=\"claude-3-5-sonnet-20240620\")"
   ]
  },
  {
   "cell_type": "code",
   "execution_count": 10,
   "id": "56bb709e",
   "metadata": {},
   "outputs": [],
   "source": [
    "from langchain.retrievers.multi_query import MultiQueryRetriever\n",
    "\n",
    "multi_query_retriever = MultiQueryRetriever.from_llm(\n",
    "    retriever=naive_retriever, llm=chat_model\n",
    ")"
   ]
  },
  {
   "cell_type": "markdown",
   "id": "d781088a",
   "metadata": {},
   "source": [
    "### A - Augmented\n",
    "\n",
    "My first pass at a Thud-like prompt, named as ```THUD_TEMPLATE```\n",
    "\n",
    "This will need tuning!"
   ]
  },
  {
   "cell_type": "code",
   "execution_count": 24,
   "id": "90a920e0",
   "metadata": {},
   "outputs": [],
   "source": [
    "from langchain_core.prompts import ChatPromptTemplate\n",
    "\n",
    "THUD_TEMPLATE = \"\"\"\\\n",
    "You are Thud, a friendly and somewhat simple-minded patron at The Thirsty Tentacle. \n",
    "\n",
    "You're trying your best to help the player navigate the game \"The Space Bar.\"\n",
    "\n",
    "Use the clues and context provided below to offer a gentle hint — not a full solution.\n",
    "\n",
    "If you're not sure what to say, admit it honestly or say something silly — like talk about the weather or suggest looking around more.\n",
    "\n",
    "If the player's question is clearly outside the game's scope (e.g., about real-world topics), \n",
    "you may consult the get_weather tool to offer a friendly distraction.\n",
    "\n",
    "Player's question:\n",
    "{question}\n",
    "\n",
    "Context:\n",
    "{context}\n",
    "\n",
    "Your hint:\"\"\"\n",
    "\n",
    "rag_prompt = ChatPromptTemplate.from_template(THUD_TEMPLATE)"
   ]
  },
  {
   "cell_type": "markdown",
   "id": "f7e84599",
   "metadata": {},
   "source": [
    "### G - Generation\n",
    "\n",
    "Still using `gpt-4.1-nano` as our LLM today"
   ]
  },
  {
   "cell_type": "markdown",
   "id": "43372065",
   "metadata": {},
   "source": [
    "### LCEL RAG Chain\n",
    "\n",
    "We're going to use LCEL to construct our chain. (from HW9)\n"
   ]
  },
  {
   "cell_type": "markdown",
   "id": "83bc3681",
   "metadata": {},
   "source": [
    "Test the chain, and the langsmith tracing with a question.\n",
    "Might as well take the question from the platinum data set (just remember to load it above ▶️)"
   ]
  },
  {
   "cell_type": "markdown",
   "id": "17c87ec9",
   "metadata": {},
   "source": [
    "Using mq, based on eval results"
   ]
  },
  {
   "cell_type": "code",
   "execution_count": 25,
   "id": "1c2f4ce6",
   "metadata": {},
   "outputs": [],
   "source": [
    "from langchain_core.runnables import RunnablePassthrough\n",
    "from operator import itemgetter\n",
    "from langchain_core.output_parsers import StrOutputParser\n",
    "\n",
    "multi_query_retrieval_chain = (\n",
    "    {\"context\": itemgetter(\"question\") | multi_query_retriever, \"question\": itemgetter(\"question\")}\n",
    "    | RunnablePassthrough.assign(context=itemgetter(\"context\"))\n",
    "    | {\"response\": rag_prompt | chat_model, \"context\": itemgetter(\"context\")}\n",
    ").with_config({\"run_name\": \"multi_query_chain\"})"
   ]
  },
  {
   "cell_type": "markdown",
   "id": "c7c29933",
   "metadata": {},
   "source": [
    "test with sample questions"
   ]
  },
  {
   "cell_type": "code",
   "execution_count": 26,
   "id": "6d8ed63c",
   "metadata": {},
   "outputs": [
    {
     "data": {
      "text/plain": [
       "{'response': AIMessage(content=\"Oh, the weather? Well, I haven't stepped outside today, but it’s always nice to think about a good sunny day! Say, maybe it’s a good time to look around your surroundings more—sometimes the weather’s just extra cheerful when you’re on a good game adventure! Or, if you want, I can check the weather info for you. Would you like me to do that?\", additional_kwargs={'refusal': None}, response_metadata={'token_usage': {'completion_tokens': 80, 'prompt_tokens': 4371, 'total_tokens': 4451, 'completion_tokens_details': {'accepted_prediction_tokens': 0, 'audio_tokens': 0, 'reasoning_tokens': 0, 'rejected_prediction_tokens': 0}, 'prompt_tokens_details': {'audio_tokens': 0, 'cached_tokens': 0}}, 'model_name': 'gpt-4.1-nano-2025-04-14', 'system_fingerprint': 'fp_f12167b370', 'id': 'chatcmpl-C0TRT4gFWOiDy2zCIEEjsyR9VveWJ', 'service_tier': 'default', 'finish_reason': 'stop', 'logprobs': None}, id='run--8c5d2120-fd29-48c8-ba18-0b881ebd3a6b-0', usage_metadata={'input_tokens': 4371, 'output_tokens': 80, 'total_tokens': 4451, 'input_token_details': {'audio': 0, 'cache_read': 0}, 'output_token_details': {'audio': 0, 'reasoning': 0}}),\n",
       " 'context': [Document(metadata={'source': './data/Thudbot_Hint_Data_1.csv', 'row': 93, 'question': 'What do I do about the plane crash?', 'hint_level': '3', 'character': 'Fleebix, Thud', 'speaker': '', 'narrative_context': 'Fleebix Flashback', 'planet': 'Yzore', 'location': 'Road near Glom Hole', 'category': 'Puzzle', 'tone': '', 'follow_up_hint_id': '', 'answer_keywords': '', 'tags': '', '_id': '3057703250be4b0c971adb6e34d549f8', '_collection_name': 'Thudbot_Hints'}, page_content=\"question_id: TSB-050\\nhint_text: What's lying on the ground near the plane wreck?\\npuzzle_name: Getting to Quantelope Lodge\\nsource: UHS\"),\n",
       "  Document(metadata={'source': './data/Thudbot_Hint_Data_1.csv', 'row': 91, 'question': 'What do I do about the plane crash?', 'hint_level': '1', 'character': 'Fleebix, Thud', 'speaker': '', 'narrative_context': 'Fleebix Flashback', 'planet': 'Yzore', 'location': 'Road near Glom Hole', 'category': 'Puzzle', 'tone': '', 'follow_up_hint_id': '', 'answer_keywords': '', 'tags': '', '_id': '80193cd39c4447d5ad11140b645c6d20', '_collection_name': 'Thudbot_Hints'}, page_content='question_id: TSB-050\\nhint_text: Go investigate the plane crash\\npuzzle_name: Getting to Quantelope Lodge\\nsource: UHS'),\n",
       "  Document(metadata={'source': './data/Thudbot_Hint_Data_1.csv', 'row': 92, 'question': 'What do I do about the plane crash?', 'hint_level': '2', 'character': 'Fleebix, Thud', 'speaker': '', 'narrative_context': 'Fleebix Flashback', 'planet': 'Yzore', 'location': 'Road near Glom Hole', 'category': 'Puzzle', 'tone': '', 'follow_up_hint_id': '', 'answer_keywords': '', 'tags': '', '_id': '9f70bc8bda1246c1a0798f8c3551aee6', '_collection_name': 'Thudbot_Hints'}, page_content='question_id: TSB-050\\nhint_text: Is there anything usable at the plane crash site?\\npuzzle_name: Getting to Quantelope Lodge\\nsource: UHS'),\n",
       "  Document(metadata={'source': './data/Thudbot_Hint_Data_1.csv', 'row': 28, 'question': 'When does the shuttle leave for Karkas-4', 'hint_level': '2', 'character': 'Alias Node', 'speaker': '', 'narrative_context': 'Background', 'planet': 'Armpit VI', 'location': '', 'category': 'General', 'tone': '', 'follow_up_hint_id': '', 'answer_keywords': '', 'tags': '', '_id': 'a755e8ac300b4e3188e9da230b255a5b', '_collection_name': 'Thudbot_Hints'}, page_content='question_id: TSB-026\\nhint_text: The flight information is on the monitor\\npuzzle_name: \\nsource: self'),\n",
       "  Document(metadata={'source': './data/Thudbot_Hint_Data_1.csv', 'row': 29, 'question': 'When does the shuttle leave for Karkas-4', 'hint_level': '3', 'character': 'Alias Node', 'speaker': '', 'narrative_context': 'Background', 'planet': 'Armpit VI', 'location': '', 'category': 'General', 'tone': '', 'follow_up_hint_id': '', 'answer_keywords': '', 'tags': '', '_id': 'f023a45d5e27493ea54d46e22b4cfd00', '_collection_name': 'Thudbot_Hints'}, page_content='question_id: TSB-026\\nhint_text: The flight information is on the monitor in the vestibule\\npuzzle_name: \\nsource: self'),\n",
       "  Document(metadata={'source': './data/Thudbot_Hint_Data_1.csv', 'row': 140, 'question': 'How do I complete the Moderate level of the simulator', 'hint_level': '1', 'character': 'Fleebix', 'speaker': 'Fleebix', 'narrative_context': 'Fleebix Flashback', 'planet': 'Yzore', 'location': 'Simulator Screen', 'category': 'Puzzle', 'tone': '', 'follow_up_hint_id': '', 'answer_keywords': '', 'tags': '', '_id': '7784cb99a63640b993457a1de4c474fe', '_collection_name': 'Thudbot_Hints'}, page_content=\"question_id: TSB-068\\nhint_text: The moderate level isn't much harder than the easy level of the simulator\\npuzzle_name: Navigation Simulator\\nsource: UHS\"),\n",
       "  Document(metadata={'source': './data/Thudbot_Hint_Data_1.csv', 'row': 105, 'question': 'What can I do inside the mail truck?', 'hint_level': '3', 'character': 'Fleebix, Thud', 'speaker': '', 'narrative_context': 'Fleebix Flashback', 'planet': 'Yzore', 'location': 'Cardboard Box', 'category': 'Puzzle', 'tone': '', 'follow_up_hint_id': '', 'answer_keywords': '', 'tags': '', '_id': 'e7fd47f7a1464da9a5b1f8d95b2a14e0', '_collection_name': 'Thudbot_Hints'}, page_content='question_id: TSB-054\\nhint_text: Listen to the drivers of the mail truck\\npuzzle_name: Getting to Quantelope Lodge\\nsource: UHS'),\n",
       "  Document(metadata={'source': './data/Thudbot_Hint_Data_1.csv', 'row': 94, 'question': 'What do I do with the large box, near the plane?', 'hint_level': '1', 'character': 'Fleebix, Thud', 'speaker': '', 'narrative_context': 'Fleebix Flashback', 'planet': 'Yzore', 'location': 'Road near Glom Hole', 'category': 'Puzzle', 'tone': '', 'follow_up_hint_id': '', 'answer_keywords': '', 'tags': '', '_id': '746a61ae820d4910a1bab3a1625eed46', '_collection_name': 'Thudbot_Hints'}, page_content='question_id: TSB-051\\nhint_text: Look at the mailing label on the large box near Glom Hole\\npuzzle_name: Getting to Quantelope Lodge\\nsource: UHS'),\n",
       "  Document(metadata={'source': './data/Thudbot_Hint_Data_1.csv', 'row': 13, 'question': 'Is there a map', 'hint_level': '1', 'character': 'Player', 'speaker': '', 'narrative_context': 'Meta', 'planet': '', 'location': '', 'category': 'Mechanics', 'tone': '', 'follow_up_hint_id': '', 'answer_keywords': '', 'tags': '', '_id': '24c7ec41f73c40bfbca152dd6def8855', '_collection_name': 'Thudbot_Hints'}, page_content='question_id: TSB-013\\nhint_text: There is a map of the current setting in your PDA\\npuzzle_name: \\nsource: self'),\n",
       "  Document(metadata={'source': './data/Thudbot_Hint_Data_1.csv', 'row': 149, 'question': 'How do I complete the Expert level of the simulator', 'hint_level': '4', 'character': 'Fleebix', 'speaker': 'Thud', 'narrative_context': 'Fleebix Flashback', 'planet': 'Yzore', 'location': 'Simulator Screen', 'category': 'Puzzle', 'tone': '', 'follow_up_hint_id': '', 'answer_keywords': '', 'tags': '', '_id': 'e52c38d4697c4179b62b56ba48a3f7a4', '_collection_name': 'Thudbot_Hints'}, page_content='question_id: TSB-070\\nhint_text: If you followed the earlier clues, you should be done with the simulator. Congratulations are in order.\\npuzzle_name: Navigation Simulator\\nsource: UHS'),\n",
       "  Document(metadata={'source': './data/Thudbot_Hint_Data_1.csv', 'row': 114, 'question': 'We arrived too early at Quantelope Lodge for the audition', 'hint_level': '2', 'character': 'Fleebix, Thud', 'speaker': '', 'narrative_context': 'Fleebix Flashback', 'planet': 'Yzore', 'location': 'Clocktower Base', 'category': 'Puzzle', 'tone': '', 'follow_up_hint_id': '', 'answer_keywords': '', 'tags': '', '_id': '5a293c59054f4c59815196614fa2c205', '_collection_name': 'Thudbot_Hints'}, page_content='question_id: TSB-057\\nhint_text: Check the time on the clocktower\\npuzzle_name: Clocktower\\nsource: UHS'),\n",
       "  Document(metadata={'source': './data/Thudbot_Hint_Data_1.csv', 'row': 60, 'question': 'What if I forgot something from a flashback?', 'hint_level': '1', 'character': 'Alias Node', 'speaker': '', 'narrative_context': 'Bar', 'planet': 'Armpit VI', 'location': '', 'category': 'Mechanics', 'tone': '', 'follow_up_hint_id': '', 'answer_keywords': '', 'tags': '', '_id': '953b8f5253494a31bfa2d5532896d0f1', '_collection_name': 'Thudbot_Hints'}, page_content='question_id: TSB-038\\nhint_text: Have you checked with your PDA to see what it recorded from your flashback\\npuzzle_name: \\nsource: UHS'),\n",
       "  Document(metadata={'source': './data/Thudbot_Hint_Data_1.csv', 'row': 27, 'question': 'When does the shuttle leave for Karkas-4', 'hint_level': '1', 'character': 'Alias Node', 'speaker': '', 'narrative_context': 'Background', 'planet': 'Armpit VI', 'location': '', 'category': 'General', 'tone': '', 'follow_up_hint_id': '', 'answer_keywords': '', 'tags': '', '_id': 'c0c8895ce537401eb81a85ed94379d4f', '_collection_name': 'Thudbot_Hints'}, page_content='question_id: TSB-026\\nhint_text: Have you checked the flight information to find out when the shuttle to Karkas 4 leaves?\\npuzzle_name: \\nsource: self'),\n",
       "  Document(metadata={'source': './data/Thudbot_Hint_Data_1.csv', 'row': 50, 'question': 'Why did my gear stop working?', 'hint_level': '1', 'character': 'Alias Node', 'speaker': '', 'narrative_context': 'Bar', 'planet': 'Armpit VI', 'location': '', 'category': 'Puzzle', 'tone': '', 'follow_up_hint_id': '', 'answer_keywords': '', 'tags': '', '_id': '1c7873f3ac834da2a729ace30e8e57bf', '_collection_name': 'Thudbot_Hints'}, page_content='question_id: TSB-035\\nhint_text: If your gear is not working, you should check the time\\npuzzle_name: Jammer\\nsource: UHS'),\n",
       "  Document(metadata={'source': './data/Thudbot_Hint_Data_1.csv', 'row': 130, 'question': 'All the crystals are in place, now what?', 'hint_level': '3', 'character': 'Fleebix, Thud', 'speaker': '', 'narrative_context': 'Fleebix Flashback', 'planet': 'Yzore', 'location': 'Clocktower Base', 'category': 'Puzzle', 'tone': '', 'follow_up_hint_id': '', 'answer_keywords': '', 'tags': '', '_id': '8bf0e4dc27e04cc0a076317d5e943f98', '_collection_name': 'Thudbot_Hints'}, page_content='question_id: TSB-063\\nhint_text: Are all the slots on the status report reading O?\\npuzzle_name: Clocktower\\nsource: UHS'),\n",
       "  Document(metadata={'source': './data/Thudbot_Hint_Data_1.csv', 'row': 134, 'question': 'How do I pass the audition?', 'hint_level': '2', 'character': 'Fleebix', 'speaker': 'Fleebix', 'narrative_context': 'Fleebix Flashback', 'planet': 'Yzore', 'location': 'Simulator Screen', 'category': 'Puzzle', 'tone': '', 'follow_up_hint_id': '', 'answer_keywords': '', 'tags': '', '_id': '64c1532a5af94ff78718057894f81b13', '_collection_name': 'Thudbot_Hints'}, page_content='question_id: TSB-065\\nhint_text: In the simulator, try to use low numbers when you can\\npuzzle_name: Navigation Simulator\\nsource: UHS'),\n",
       "  Document(metadata={'source': './data/Thudbot_Hint_Data_1.csv', 'row': 116, 'question': 'How do I fix the clocktower clock?', 'hint_level': '1', 'character': 'Fleebix, Thud', 'speaker': '', 'narrative_context': 'Fleebix Flashback', 'planet': 'Yzore', 'location': 'Clocktower Base', 'category': 'Puzzle', 'tone': '', 'follow_up_hint_id': '', 'answer_keywords': '', 'tags': '', '_id': '0232c261e22e46bbb8c0d3501d89977b', '_collection_name': 'Thudbot_Hints'}, page_content=\"question_id: TSB-058\\nhint_text: First, you need to figure out what's wrong with the clock\\npuzzle_name: Clocktower\\nsource: UHS\"),\n",
       "  Document(metadata={'source': './data/Thudbot_Hint_Data_1.csv', 'row': 63, 'question': 'How much time do I have to crack the case?', 'hint_level': '2', 'character': 'Alias Node', 'speaker': '', 'narrative_context': 'Bar', 'planet': 'Armpit VI', 'location': '', 'category': 'Meta', 'tone': '', 'follow_up_hint_id': '', 'answer_keywords': '', 'tags': '', '_id': '2676ca9ac9cd4fb59f4734e02575f66c', '_collection_name': 'Thudbot_Hints'}, page_content='question_id: TSB-039\\nhint_text: The shuttle to Karkas 4 leaves at 22:50. Karkas 4 is outside your jurisdiction.\\npuzzle_name: \\nsource: UHS'),\n",
       "  Document(metadata={'source': './data/Thudbot_Hint_Data_1.csv', 'row': 54, 'question': 'Where is the infrared jammer?', 'hint_level': '2', 'character': 'Alias Node', 'speaker': '', 'narrative_context': 'Bar', 'planet': 'Armpit VI', 'location': '', 'category': 'Puzzle', 'tone': '', 'follow_up_hint_id': '', 'answer_keywords': '', 'tags': '', '_id': '2b0fa713fb644c20a0cc280ba7959118', '_collection_name': 'Thudbot_Hints'}, page_content='question_id: TSB-036\\nhint_text: Try some out of the way places to look for the infrared jammer\\npuzzle_name: Jammer\\nsource: UHS'),\n",
       "  Document(metadata={'source': './data/Thudbot_Hint_Data_1.csv', 'row': 53, 'question': 'Where is the infrared jammer?', 'hint_level': '1', 'character': 'Alias Node', 'speaker': '', 'narrative_context': 'Bar', 'planet': 'Armpit VI', 'location': '', 'category': 'Puzzle', 'tone': '', 'follow_up_hint_id': '', 'answer_keywords': '', 'tags': '', '_id': '2747dadd429849f7baccb7c30cc7264b', '_collection_name': 'Thudbot_Hints'}, page_content=\"question_id: TSB-036\\nhint_text: The infrared jammer won't be easy to find\\npuzzle_name: Jammer\\nsource: UHS\"),\n",
       "  Document(metadata={'source': './data/Thudbot_Hint_Data_1.csv', 'row': 62, 'question': 'How much time do I have to crack the case?', 'hint_level': '1', 'character': 'Alias Node', 'speaker': '', 'narrative_context': 'Bar', 'planet': 'Armpit VI', 'location': '', 'category': 'Meta', 'tone': '', 'follow_up_hint_id': '', 'answer_keywords': '', 'tags': '', '_id': '656b367288b348689d3560dc14787b1f', '_collection_name': 'Thudbot_Hints'}, page_content='question_id: TSB-039\\nhint_text: You better crack the case before the shuttle leaves for Karkas IV\\npuzzle_name: \\nsource: UHS'),\n",
       "  Document(metadata={'source': './data/Thudbot_Hint_Data_1.csv', 'row': 56, 'question': 'Where is the infrared jammer?', 'hint_level': '4', 'character': 'Alias Node', 'speaker': '', 'narrative_context': 'Bar', 'planet': 'Armpit VI', 'location': '', 'category': 'Puzzle', 'tone': '', 'follow_up_hint_id': '', 'answer_keywords': '', 'tags': '', '_id': 'ba51f1b7111d42da9db5bd70cd9d1a03', '_collection_name': 'Thudbot_Hints'}, page_content='question_id: TSB-036\\nhint_text: Look in the Moist Grotto for the infrared jammer\\npuzzle_name: Jammer\\nsource: UHS'),\n",
       "  Document(metadata={'source': './data/Thudbot_Hint_Data_1.csv', 'row': 46, 'question': 'Where can I get a battery for my residue printer', 'hint_level': '1', 'character': 'Alias Node', 'speaker': '', 'narrative_context': 'Bar', 'planet': 'Armpit VI', 'location': '', 'category': 'Puzzle', 'tone': '', 'follow_up_hint_id': '', 'answer_keywords': '', 'tags': '', '_id': 'b7b3a62e81d24e1eb1aa27fbb9304164', '_collection_name': 'Thudbot_Hints'}, page_content='question_id: TSB-034\\nhint_text: Have you seen anything else that might run on batteries?\\npuzzle_name: Battery\\nsource: UHS')]}"
      ]
     },
     "execution_count": 26,
     "metadata": {},
     "output_type": "execute_result"
    }
   ],
   "source": [
    "# sample_q = platinum_data[0][\"eval_sample\"][\"user_input\"]\n",
    "# sample_q = \"What is the best way to get the token?\"\n",
    "sample_q = \"why is the weather so nice?\"\n",
    "# sample_q = sampled_platinum[4][\"eval_sample\"][\"user_input\"]\n",
    "multi_query_retrieval_chain.invoke({\"question\": sample_q})"
   ]
  },
  {
   "cell_type": "markdown",
   "id": "9962fc69",
   "metadata": {},
   "source": [
    "use @tool decorator to Wrap multi_query_retrieval_chain as a Tool"
   ]
  },
  {
   "cell_type": "code",
   "execution_count": null,
   "id": "680afa83",
   "metadata": {},
   "outputs": [],
   "source": [
    "# obsolete code; try running the notebook from the beginning without this code and delete this cell if it's not needed\n",
    "from langchain_core.tools import tool\n",
    "\n",
    "@tool\n",
    "def hint_lookup(question: str) -> str:\n",
    "    \"\"\"Answer in-game player questions about puzzles, items, or objectives in The Space Bar.\"\"\"\n",
    "    result = multi_query_retrieval_chain.invoke({\"question\": question})\n",
    "    return result[\"response\"].content\n"
   ]
  },
  {
   "cell_type": "code",
   "execution_count": null,
   "id": "b0c41a98",
   "metadata": {},
   "outputs": [],
   "source": [
    "from langchain_core.tools import tool\n",
    "\n",
    "@tool\n",
    "def hint_lookup(question: str) -> str:\n",
    "    \"\"\"Answer in-game player questions or (if needed) give the weather.\"\"\"\n",
    "    result = multi_query_retrieval_chain.invoke({\"question\": question})\n",
    "    answer = result[\"response\"].content\n",
    "\n",
    "    if \"not sure\" in answer.lower() or \"look around\" in answer.lower():\n",
    "        return get_weather.invoke({\"city\": \"Boston\"})\n",
    "    \n",
    "    return answer\n"
   ]
  },
  {
   "cell_type": "markdown",
   "id": "78fd35c4",
   "metadata": {},
   "source": [
    "let's give thud another tool, using an api call"
   ]
  },
  {
   "cell_type": "code",
   "execution_count": 30,
   "id": "db844a0c",
   "metadata": {},
   "outputs": [],
   "source": [
    "from langchain_core.tools import tool\n",
    "import requests\n",
    "import os\n",
    "\n",
    "@tool\n",
    "def get_weather(city: str) -> str:\n",
    "    \"\"\"Gets the current weather for a given city using the OpenWeatherMap API.\"\"\"\n",
    "    api_key = os.getenv(\"OPENWEATHER_API_KEY\")\n",
    "    if not api_key:\n",
    "        return \"Oops, no weather API key found.\"\n",
    "\n",
    "    try:\n",
    "        url = (\n",
    "            f\"https://api.openweathermap.org/data/2.5/weather?\"\n",
    "            f\"q={city}&units=imperial&appid={api_key}\"\n",
    "        )\n",
    "        response = requests.get(url)\n",
    "        data = response.json()\n",
    "\n",
    "        if response.status_code != 200 or \"weather\" not in data:\n",
    "            return f\"Couldn't get weather for {city} right now.\"\n",
    "\n",
    "        weather = data[\"weather\"][0][\"description\"]\n",
    "        temp = data[\"main\"][\"temp\"]\n",
    "        return f\"It's currently {weather}, around {temp:.0f}°F in {city}.\"\n",
    "    \n",
    "    except Exception as e:\n",
    "        return f\"Weather system error: {e}\"\n"
   ]
  },
  {
   "cell_type": "code",
   "execution_count": 18,
   "id": "367253ac",
   "metadata": {},
   "outputs": [
    {
     "data": {
      "text/plain": [
       "\"It's currently clear sky, around 73°F in New York.\""
      ]
     },
     "execution_count": 18,
     "metadata": {},
     "output_type": "execute_result"
    }
   ],
   "source": [
    "get_weather.invoke(\"New York\")\n"
   ]
  },
  {
   "cell_type": "code",
   "execution_count": 31,
   "id": "7fd047a0",
   "metadata": {},
   "outputs": [],
   "source": [
    "from langchain.agents import initialize_agent, AgentType\n",
    "\n",
    "tools = [hint_lookup]  # just your @tool-wrapped function\n",
    "\n",
    "thud_agent = initialize_agent(\n",
    "    tools=tools,\n",
    "    agent=AgentType.ZERO_SHOT_REACT_DESCRIPTION,\n",
    "    llm=chat_model,\n",
    "    verbose=True\n",
    ")\n"
   ]
  },
  {
   "cell_type": "code",
   "execution_count": 32,
   "id": "c4c3caca",
   "metadata": {},
   "outputs": [
    {
     "name": "stdout",
     "output_type": "stream",
     "text": [
      "\n",
      "\n",
      "\u001b[1m> Entering new AgentExecutor chain...\u001b[0m\n",
      "\u001b[32;1m\u001b[1;3mAction: hint_lookup  \n",
      "Action Input: what is the weather?  \u001b[0m\n",
      "Observation: \u001b[36;1m\u001b[1;3mIt's currently clear sky, around 74°F in Boston.\u001b[0m\n",
      "Thought:\u001b[32;1m\u001b[1;3mFinal Answer: The weather is currently clear with a temperature of around 74°F in Boston.\u001b[0m\n",
      "\n",
      "\u001b[1m> Finished chain.\u001b[0m\n"
     ]
    },
    {
     "data": {
      "text/plain": [
       "'The weather is currently clear with a temperature of around 74°F in Boston.'"
      ]
     },
     "execution_count": 32,
     "metadata": {},
     "output_type": "execute_result"
    }
   ],
   "source": [
    "# thud_agent.run(\"How do I get the token from the cup?\")\n",
    "thud_agent.run(\"what is the weather?\")\n"
   ]
  },
  {
   "cell_type": "markdown",
   "id": "70fc02da",
   "metadata": {},
   "source": []
  },
  {
   "cell_type": "markdown",
   "id": "f5d8a307",
   "metadata": {},
   "source": [
    "below cells are leftover from 00 - waiting to see if I need them"
   ]
  },
  {
   "cell_type": "code",
   "execution_count": null,
   "id": "595b7567",
   "metadata": {},
   "outputs": [],
   "source": [
    "# updated to use the sliced dataset\n",
    "# naive_outputs = run_retriever_on_dataset(\"naive\", naive_retrieval_chain, sampled_platinum)\n",
    "# bm25_outputs = run_retriever_on_dataset(\"bm25\", bm25_retrieval_chain, sampled_platinum)\n",
    "multi_query_outputs = run_retriever_on_dataset(\"multi_query\", multi_query_retrieval_chain, sampled_platinum)\n",
    "# parent_doc_outputs = run_retriever_on_dataset(\"parent_doc\", parent_document_retrieval_chain, sampled_platinum)\n",
    "# ensemble_outputs = run_retriever_on_dataset(\"ensemble\", ensemble_retrieval_chain, sampled_platinum)\n",
    "# contextual_compression_outputs = run_retriever_on_dataset(\"contextual_compression\", contextual_compression_retrieval_chain, sampled_platinum)"
   ]
  },
  {
   "cell_type": "code",
   "execution_count": null,
   "id": "bbd8eaa1",
   "metadata": {},
   "outputs": [],
   "source": [
    "# just checking the outputs\n",
    "multi_query_outputs[:3]"
   ]
  }
 ],
 "metadata": {
  "kernelspec": {
   "display_name": ".venv",
   "language": "python",
   "name": "python3"
  },
  "language_info": {
   "codemirror_mode": {
    "name": "ipython",
    "version": 3
   },
   "file_extension": ".py",
   "mimetype": "text/x-python",
   "name": "python",
   "nbconvert_exporter": "python",
   "pygments_lexer": "ipython3",
   "version": "3.13.2"
  }
 },
 "nbformat": 4,
 "nbformat_minor": 5
}
