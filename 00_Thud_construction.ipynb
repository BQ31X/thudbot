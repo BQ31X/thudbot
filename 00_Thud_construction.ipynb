{
 "cells": [
  {
   "cell_type": "markdown",
   "id": "fcc5f067",
   "metadata": {},
   "source": [
    "# Thudbot Scaffold\n",
    "\n",
    "This will be a prototype Thudbot built in jupyter.\n",
    "\n",
    "Steps:\n",
    "1. General setup\n",
    "2. Data collection and Preparation\n",
    "3. SDG with RAGAS to create a golden data set\n",
    "4. Setup the RAG chain (finally)\n",
    "5. Evaluate results with RAGAS\n",
    "6. Refine RAG performance (prompt tuning, retreival methods)\n",
    "\n",
    "Once everything works:\n",
    "- Convert to a standalone Python script\n",
    "- Build or reuse a chatbot front end to run it locally"
   ]
  },
  {
   "cell_type": "markdown",
   "id": "3ad5c4c3",
   "metadata": {},
   "source": [
    "\n",
    "Naming this 00_ so that it will be the first notebook every time I start a new session."
   ]
  },
  {
   "cell_type": "markdown",
   "id": "9badc3b1",
   "metadata": {},
   "source": [
    "## Step 1 General setup"
   ]
  },
  {
   "cell_type": "code",
   "execution_count": 1,
   "id": "182642a8",
   "metadata": {},
   "outputs": [
    {
     "name": "stdout",
     "output_type": "stream",
     "text": [
      "--- API Key Status ---\n",
      "OPENAI_API_KEY loaded: True\n",
      "LANGCHAIN_API_KEY loaded: True\n",
      "TAVILY_API_KEY loaded: True\n",
      "RAGAS_API_KEY loaded: False\n",
      "ANTHROPIC_API_KEY loaded: True\n",
      "COHERE_API_KEY loaded: True\n",
      "\n",
      "--- Project Settings Status ---\n",
      "DEBUG mode enabled: True\n",
      "LangSmith Tracing V2 enabled: True\n",
      "LangChain Project Base: None\n",
      "LangChain Project: THUDBOT-CC\n"
     ]
    }
   ],
   "source": [
    "### API key management and environment variables\n",
    "\n",
    "### Reminder: Place .env file inside the root of the project folder so when calling the below from inside the notebook it should find the .env fule and load it inside the notebook environment\n",
    "### PLEASE ADD THIS `.env` FILE TO YOUR PROJECT'S `.gitignore` file before committing and pushing the changes to your remote repo, as it contains API Keys and Secrets in it\n",
    "\n",
    "import os\n",
    "from dotenv import load_dotenv\n",
    "\n",
    "load_dotenv(dotenv_path=\"../.env\", override=True)\n",
    "\n",
    "# --- Verify API Keys ---\n",
    "print(\"--- API Key Status ---\")\n",
    "print(f\"OPENAI_API_KEY loaded: {'OPENAI_API_KEY' in os.environ}\")\n",
    "print(f\"LANGCHAIN_API_KEY loaded: {'LANGCHAIN_API_KEY' in os.environ}\")\n",
    "print(f\"TAVILY_API_KEY loaded: {'TAVILY_API_KEY' in os.environ}\")\n",
    "print(f\"RAGAS_API_KEY loaded: {'RAGAS_API_KEY' in os.environ}\")\n",
    "print(f\"ANTHROPIC_API_KEY loaded: {'ANTHROPIC_API_KEY' in os.environ}\")\n",
    "print(f\"COHERE_API_KEY loaded: {'COHERE_API_KEY' in os.environ}\")\n",
    "\n",
    "# --- Verify General Settings ---\n",
    "print(\"\\n--- Project Settings Status ---\")\n",
    "print(f\"DEBUG mode enabled: {os.environ.get('DEBUG') == 'True'}\")\n",
    "print(f\"LangSmith Tracing V2 enabled: {os.environ.get('LANGCHAIN_TRACING_V2') == 'true'}\")\n",
    "print(f\"LangChain Project Base: {os.environ.get('LANGCHAIN_PROJECT_BASE')}\")\n",
    "print(f\"LangChain Project: {os.environ.get('LANGCHAIN_PROJECT')}\")\n"
   ]
  },
  {
   "cell_type": "markdown",
   "id": "9a09fc64",
   "metadata": {},
   "source": [
    "including nltk, because it worked before"
   ]
  },
  {
   "cell_type": "code",
   "execution_count": 2,
   "id": "140254c3",
   "metadata": {},
   "outputs": [
    {
     "name": "stderr",
     "output_type": "stream",
     "text": [
      "[nltk_data] Downloading package punkt to /Users/family/nltk_data...\n",
      "[nltk_data]   Package punkt is already up-to-date!\n",
      "[nltk_data] Downloading package averaged_perceptron_tagger to\n",
      "[nltk_data]     /Users/family/nltk_data...\n",
      "[nltk_data]   Package averaged_perceptron_tagger is already up-to-\n",
      "[nltk_data]       date!\n"
     ]
    },
    {
     "data": {
      "text/plain": [
       "True"
      ]
     },
     "execution_count": 2,
     "metadata": {},
     "output_type": "execute_result"
    }
   ],
   "source": [
    "import nltk\n",
    "nltk.download('punkt')\n",
    "nltk.download('averaged_perceptron_tagger')"
   ]
  },
  {
   "cell_type": "code",
   "execution_count": 3,
   "id": "06eb6339",
   "metadata": {},
   "outputs": [],
   "source": [
    "from ragas.llms import LangchainLLMWrapper\n",
    "from ragas.embeddings import LangchainEmbeddingsWrapper\n",
    "from langchain_openai import ChatOpenAI\n",
    "from langchain_openai import OpenAIEmbeddings\n",
    "generator_llm = LangchainLLMWrapper(ChatOpenAI(model=\"gpt-4.1-nano\"))\n",
    "generator_embeddings = LangchainEmbeddingsWrapper(OpenAIEmbeddings())\n",
    "eval_llm = LangchainLLMWrapper(ChatOpenAI(model=\"gpt-4.1-nano\"))\n",
    "eval_embeddings = LangchainEmbeddingsWrapper(OpenAIEmbeddings())"
   ]
  },
  {
   "cell_type": "markdown",
   "id": "7854ab91",
   "metadata": {},
   "source": [
    "## Step 2: Data Collection and Preparation\n",
    "\n",
    "My data is CSV structured, so using code from HW9"
   ]
  },
  {
   "cell_type": "code",
   "execution_count": 4,
   "id": "89bf5b7f",
   "metadata": {},
   "outputs": [
    {
     "name": "stdout",
     "output_type": "stream",
     "text": [
      "question_id: TSB-001\n",
      "hint_text: Press the escape key to exit the opening animations\n",
      "puzzle_name: \n",
      "source: self\n",
      "{'source': './data/Thudbot_Hint_Data_1.csv', 'row': 0, 'question': 'How do I stop the opening movie', 'hint_level': '1', 'character': 'Player', 'speaker': '', 'narrative_context': 'Meta', 'planet': '', 'location': '', 'category': 'Meta', 'tone': '', 'follow_up_hint_id': '', 'answer_keywords': '', 'tags': ''}\n"
     ]
    }
   ],
   "source": [
    "from langchain_community.document_loaders.csv_loader import CSVLoader\n",
    "from datetime import datetime, timedelta\n",
    "\n",
    "loader = CSVLoader(\n",
    "    file_path=f\"./data/Thudbot_Hint_Data_1.csv\",\n",
    "    metadata_columns=[\n",
    "        \"question\",\n",
    "        \"hint_level\",\n",
    "        \"character\",\n",
    "        \"speaker\",\n",
    "        \"narrative_context\",\n",
    "        \"planet\",\n",
    "        \"location\",\n",
    "        \"category\",\n",
    "        \"tone\",\n",
    "        \"follow_up_hint_id\",\n",
    "        \"answer_keywords\",\n",
    "        \"tags\"\n",
    "    ]\n",
    ")\n",
    "\n",
    "hint_data = loader.load()\n",
    "\n",
    "# No need to overwrite page_content; not doing custom transformation\n",
    "print(hint_data[0].page_content)     # This will already be the hint_text\n",
    "print(hint_data[0].metadata)         # This will show all the metadata fields\n"
   ]
  },
  {
   "cell_type": "markdown",
   "id": "83858935",
   "metadata": {},
   "source": [
    "### Setting up QDrant! (from HW9)\n",
    "\n",
    "Now that we have our documents, let's create a QDrant VectorStore with the collection name \"ThudbotHints\".\n",
    "\n",
    "We'll leverage OpenAI's [`text-embedding-3-small`](https://openai.com/blog/new-embedding-models-and-api-updates) because it's a very powerful (and low-cost) embedding model.\n",
    "\n",
    " "
   ]
  },
  {
   "cell_type": "code",
   "execution_count": 5,
   "id": "55e047a6",
   "metadata": {},
   "outputs": [],
   "source": [
    "from langchain_community.vectorstores import Qdrant\n",
    "from langchain_openai import OpenAIEmbeddings\n",
    "\n",
    "embeddings = OpenAIEmbeddings(model=\"text-embedding-3-small\")\n",
    "\n",
    "vectorstore = Qdrant.from_documents(\n",
    "    documents=hint_data,\n",
    "    embedding=embeddings,\n",
    "    location=\":memory:\",\n",
    "    collection_name=\"Thudbot_Hints\"\n",
    ")"
   ]
  },
  {
   "cell_type": "markdown",
   "id": "c42404f5",
   "metadata": {},
   "source": [
    "## Step 3: Synthetic data generation (SDG) with RAGAS to create a golden dataset\n",
    "\n",
    "Adapted from HW 7 & 9\n",
    "\n",
    "NOTE: this step is a one-time deal. Once the appropriate golden data set is finalized, don't run any of these cells, but pick up at the JSON import cell"
   ]
  },
  {
   "cell_type": "markdown",
   "id": "16656100",
   "metadata": {},
   "source": [
    "### ⏭️ Skip these steps until/unless want new golden data"
   ]
  },
  {
   "cell_type": "markdown",
   "id": "1156621a",
   "metadata": {},
   "source": [
    "#### Group data by narrative context\n",
    "\n",
    "the data is too granular for Ragas, I got this error:\n",
    "\n",
    "ValueError: Documents appears to be too short (ie 100 tokens or less). Please provide longer documents\n",
    "\n",
    "so,  I will to group it and \n",
    "Create a new list called  ```merged_docs``` , just to feed to ragas, but not for retrieval"
   ]
  },
  {
   "cell_type": "code",
   "execution_count": 6,
   "id": "c9037046",
   "metadata": {},
   "outputs": [
    {
     "name": "stdout",
     "output_type": "stream",
     "text": [
      "Meta: 505 words\n",
      "Bar: 562 words\n",
      "Background: 75 words\n",
      "Thud Flashback: 94 words\n",
      "Fleebix Flashback: 1725 words\n"
     ]
    }
   ],
   "source": [
    "from langchain.schema import Document\n",
    "from collections import defaultdict\n",
    "\n",
    "# Group hints by narrative context\n",
    "grouped = defaultdict(list)\n",
    "\n",
    "for doc in hint_data:\n",
    "    key = doc.metadata.get(\"narrative_context\", \"unknown\")\n",
    "    grouped[key].append(doc.page_content)\n",
    "\n",
    "# Create longer Documents for SDG\n",
    "merged_docs = [\n",
    "    Document(\n",
    "        page_content=\"\\n\".join(hints),\n",
    "        metadata={\"narrative_context\": context}\n",
    "    )\n",
    "    for context, hints in grouped.items()\n",
    "]\n",
    "\n",
    "# Optional: preview length\n",
    "for doc in merged_docs:\n",
    "    print(f\"{doc.metadata['narrative_context']}: {len(doc.page_content.split())} words\")\n"
   ]
  },
  {
   "cell_type": "markdown",
   "id": "3e012e8d",
   "metadata": {},
   "source": [
    "Need to select a random subset, because the data is grouped"
   ]
  },
  {
   "cell_type": "code",
   "execution_count": 7,
   "id": "284659a0",
   "metadata": {},
   "outputs": [
    {
     "data": {
      "application/vnd.jupyter.widget-view+json": {
       "model_id": "f5bace51e99b481bb16b96a771b80412",
       "version_major": 2,
       "version_minor": 0
      },
      "text/plain": [
       "Applying HeadlinesExtractor:   0%|          | 0/3 [00:00<?, ?it/s]"
      ]
     },
     "metadata": {},
     "output_type": "display_data"
    },
    {
     "data": {
      "application/vnd.jupyter.widget-view+json": {
       "model_id": "1c53daa62edd4703ae7abd7c5ee00739",
       "version_major": 2,
       "version_minor": 0
      },
      "text/plain": [
       "Applying HeadlineSplitter:   0%|          | 0/5 [00:00<?, ?it/s]"
      ]
     },
     "metadata": {},
     "output_type": "display_data"
    },
    {
     "name": "stderr",
     "output_type": "stream",
     "text": [
      "unable to apply transformation: 'headlines' property not found in this node\n",
      "unable to apply transformation: 'headlines' property not found in this node\n"
     ]
    },
    {
     "data": {
      "application/vnd.jupyter.widget-view+json": {
       "model_id": "37679363b5af473da98b7a7af73aea0b",
       "version_major": 2,
       "version_minor": 0
      },
      "text/plain": [
       "Applying SummaryExtractor:   0%|          | 0/4 [00:00<?, ?it/s]"
      ]
     },
     "metadata": {},
     "output_type": "display_data"
    },
    {
     "name": "stderr",
     "output_type": "stream",
     "text": [
      "Property 'summary' already exists in node 'd38336'. Skipping!\n"
     ]
    },
    {
     "data": {
      "application/vnd.jupyter.widget-view+json": {
       "model_id": "afb9429f332140788faeaeebb1eaccfd",
       "version_major": 2,
       "version_minor": 0
      },
      "text/plain": [
       "Applying CustomNodeFilter:   0%|          | 0/5 [00:00<?, ?it/s]"
      ]
     },
     "metadata": {},
     "output_type": "display_data"
    },
    {
     "data": {
      "application/vnd.jupyter.widget-view+json": {
       "model_id": "412d7afcf70148b08edf3e84eb98ae36",
       "version_major": 2,
       "version_minor": 0
      },
      "text/plain": [
       "Applying [EmbeddingExtractor, ThemesExtractor, NERExtractor]:   0%|          | 0/10 [00:00<?, ?it/s]"
      ]
     },
     "metadata": {},
     "output_type": "display_data"
    },
    {
     "name": "stderr",
     "output_type": "stream",
     "text": [
      "Property 'summary_embedding' already exists in node 'd38336'. Skipping!\n"
     ]
    },
    {
     "data": {
      "application/vnd.jupyter.widget-view+json": {
       "model_id": "4e44ddd5d64c494db1c810f550b10954",
       "version_major": 2,
       "version_minor": 0
      },
      "text/plain": [
       "Applying [CosineSimilarityBuilder, OverlapScoreBuilder]:   0%|          | 0/2 [00:00<?, ?it/s]"
      ]
     },
     "metadata": {},
     "output_type": "display_data"
    },
    {
     "data": {
      "application/vnd.jupyter.widget-view+json": {
       "model_id": "3b6f48b8bc7541609e7697e69c7a6435",
       "version_major": 2,
       "version_minor": 0
      },
      "text/plain": [
       "Generating personas:   0%|          | 0/3 [00:00<?, ?it/s]"
      ]
     },
     "metadata": {},
     "output_type": "display_data"
    },
    {
     "data": {
      "application/vnd.jupyter.widget-view+json": {
       "model_id": "30343c35c0bd4ab7bd49d416c8a26c36",
       "version_major": 2,
       "version_minor": 0
      },
      "text/plain": [
       "Generating Scenarios:   0%|          | 0/3 [00:00<?, ?it/s]"
      ]
     },
     "metadata": {},
     "output_type": "display_data"
    },
    {
     "data": {
      "application/vnd.jupyter.widget-view+json": {
       "model_id": "9064e6820f15486691bd452d66947d99",
       "version_major": 2,
       "version_minor": 0
      },
      "text/plain": [
       "Generating Samples:   0%|          | 0/11 [00:00<?, ?it/s]"
      ]
     },
     "metadata": {},
     "output_type": "display_data"
    }
   ],
   "source": [
    "from ragas.testset import TestsetGenerator\n",
    "import random\n",
    "\n",
    "sampled_docs = random.sample(merged_docs, 5)\n",
    "generator = TestsetGenerator(llm=generator_llm, embedding_model=generator_embeddings)\n",
    "golden_dataset = generator.generate_with_langchain_docs(sampled_docs, testset_size=10)"
   ]
  },
  {
   "cell_type": "code",
   "execution_count": 8,
   "id": "40b52029",
   "metadata": {},
   "outputs": [
    {
     "data": {
      "text/html": [
       "<div>\n",
       "<style scoped>\n",
       "    .dataframe tbody tr th:only-of-type {\n",
       "        vertical-align: middle;\n",
       "    }\n",
       "\n",
       "    .dataframe tbody tr th {\n",
       "        vertical-align: top;\n",
       "    }\n",
       "\n",
       "    .dataframe thead th {\n",
       "        text-align: right;\n",
       "    }\n",
       "</style>\n",
       "<table border=\"1\" class=\"dataframe\">\n",
       "  <thead>\n",
       "    <tr style=\"text-align: right;\">\n",
       "      <th></th>\n",
       "      <th>user_input</th>\n",
       "      <th>reference_contexts</th>\n",
       "      <th>reference</th>\n",
       "      <th>synthesizer_name</th>\n",
       "    </tr>\n",
       "  </thead>\n",
       "  <tbody>\n",
       "    <tr>\n",
       "      <th>0</th>\n",
       "      <td>TSB-041 what do I do?</td>\n",
       "      <td>[question_id: TSB-041 hint_text: You can't do ...</td>\n",
       "      <td>You can't do much on your own as Fleebix, beca...</td>\n",
       "      <td>single_hop_specifc_query_synthesizer</td>\n",
       "    </tr>\n",
       "    <tr>\n",
       "      <th>1</th>\n",
       "      <td>What does UHS stand for in the context of the ...</td>\n",
       "      <td>[question_id: TSB-041 hint_text: You can't do ...</td>\n",
       "      <td>The context mentions UHS as the source related...</td>\n",
       "      <td>single_hop_specifc_query_synthesizer</td>\n",
       "    </tr>\n",
       "    <tr>\n",
       "      <th>2</th>\n",
       "      <td>What is the UHS that I need to look in the sma...</td>\n",
       "      <td>[look in the small package when you were insid...</td>\n",
       "      <td>The context mentions looking in the small pack...</td>\n",
       "      <td>single_hop_specifc_query_synthesizer</td>\n",
       "    </tr>\n",
       "    <tr>\n",
       "      <th>3</th>\n",
       "      <td>In the context of the UHS puzzles, what does t...</td>\n",
       "      <td>[look in the small package when you were insid...</td>\n",
       "      <td>The term 'UHS' in the provided context refers ...</td>\n",
       "      <td>single_hop_specifc_query_synthesizer</td>\n",
       "    </tr>\n",
       "    <tr>\n",
       "      <th>4</th>\n",
       "      <td>How do I get to Quantelope Lodge after explori...</td>\n",
       "      <td>[&lt;1-hop&gt;\\n\\nquestion_id: TSB-019 hint_text: Lo...</td>\n",
       "      <td>First, in the entry vestibule, you should try ...</td>\n",
       "      <td>multi_hop_abstract_query_synthesizer</td>\n",
       "    </tr>\n",
       "    <tr>\n",
       "      <th>5</th>\n",
       "      <td>how get to quantelope lodge from entry vestibule</td>\n",
       "      <td>[&lt;1-hop&gt;\\n\\nquestion_id: TSB-019 hint_text: Lo...</td>\n",
       "      <td>First, you need to look around in the entry ve...</td>\n",
       "      <td>multi_hop_abstract_query_synthesizer</td>\n",
       "    </tr>\n",
       "    <tr>\n",
       "      <th>6</th>\n",
       "      <td>Wht lvl of travel goal is to get to quantelope...</td>\n",
       "      <td>[&lt;1-hop&gt;\\n\\nquestion_id: TSB-041 hint_text: Yo...</td>\n",
       "      <td>To reach Quantelope Lodge, the goal is to foll...</td>\n",
       "      <td>multi_hop_abstract_query_synthesizer</td>\n",
       "    </tr>\n",
       "    <tr>\n",
       "      <th>7</th>\n",
       "      <td>How can understanding the clues from the entry...</td>\n",
       "      <td>[&lt;1-hop&gt;\\n\\nquestion_id: TSB-041 hint_text: Yo...</td>\n",
       "      <td>To reach Quantelope Lodge, you need to explore...</td>\n",
       "      <td>multi_hop_specific_query_synthesizer</td>\n",
       "    </tr>\n",
       "    <tr>\n",
       "      <th>8</th>\n",
       "      <td>How can I use the information from the entry v...</td>\n",
       "      <td>[&lt;1-hop&gt;\\n\\nquestion_id: TSB-041 hint_text: Yo...</td>\n",
       "      <td>To progress in getting to Quantelope Lodge, yo...</td>\n",
       "      <td>multi_hop_specific_query_synthesizer</td>\n",
       "    </tr>\n",
       "    <tr>\n",
       "      <th>9</th>\n",
       "      <td>how TSB-041 and TSB-031 help me get to Quantel...</td>\n",
       "      <td>[&lt;1-hop&gt;\\n\\nquestion_id: TSB-041 hint_text: Yo...</td>\n",
       "      <td>TSB-041 explains that you can't do much on you...</td>\n",
       "      <td>multi_hop_specific_query_synthesizer</td>\n",
       "    </tr>\n",
       "    <tr>\n",
       "      <th>10</th>\n",
       "      <td>As a game enthusiast navigating the complex pu...</td>\n",
       "      <td>[&lt;1-hop&gt;\\n\\nquestion_id: TSB-041 hint_text: Yo...</td>\n",
       "      <td>To progress effectively in 'Getting to Quantel...</td>\n",
       "      <td>multi_hop_specific_query_synthesizer</td>\n",
       "    </tr>\n",
       "  </tbody>\n",
       "</table>\n",
       "</div>"
      ],
      "text/plain": [
       "                                           user_input  \\\n",
       "0                               TSB-041 what do I do?   \n",
       "1   What does UHS stand for in the context of the ...   \n",
       "2   What is the UHS that I need to look in the sma...   \n",
       "3   In the context of the UHS puzzles, what does t...   \n",
       "4   How do I get to Quantelope Lodge after explori...   \n",
       "5    how get to quantelope lodge from entry vestibule   \n",
       "6   Wht lvl of travel goal is to get to quantelope...   \n",
       "7   How can understanding the clues from the entry...   \n",
       "8   How can I use the information from the entry v...   \n",
       "9   how TSB-041 and TSB-031 help me get to Quantel...   \n",
       "10  As a game enthusiast navigating the complex pu...   \n",
       "\n",
       "                                   reference_contexts  \\\n",
       "0   [question_id: TSB-041 hint_text: You can't do ...   \n",
       "1   [question_id: TSB-041 hint_text: You can't do ...   \n",
       "2   [look in the small package when you were insid...   \n",
       "3   [look in the small package when you were insid...   \n",
       "4   [<1-hop>\\n\\nquestion_id: TSB-019 hint_text: Lo...   \n",
       "5   [<1-hop>\\n\\nquestion_id: TSB-019 hint_text: Lo...   \n",
       "6   [<1-hop>\\n\\nquestion_id: TSB-041 hint_text: Yo...   \n",
       "7   [<1-hop>\\n\\nquestion_id: TSB-041 hint_text: Yo...   \n",
       "8   [<1-hop>\\n\\nquestion_id: TSB-041 hint_text: Yo...   \n",
       "9   [<1-hop>\\n\\nquestion_id: TSB-041 hint_text: Yo...   \n",
       "10  [<1-hop>\\n\\nquestion_id: TSB-041 hint_text: Yo...   \n",
       "\n",
       "                                            reference  \\\n",
       "0   You can't do much on your own as Fleebix, beca...   \n",
       "1   The context mentions UHS as the source related...   \n",
       "2   The context mentions looking in the small pack...   \n",
       "3   The term 'UHS' in the provided context refers ...   \n",
       "4   First, in the entry vestibule, you should try ...   \n",
       "5   First, you need to look around in the entry ve...   \n",
       "6   To reach Quantelope Lodge, the goal is to foll...   \n",
       "7   To reach Quantelope Lodge, you need to explore...   \n",
       "8   To progress in getting to Quantelope Lodge, yo...   \n",
       "9   TSB-041 explains that you can't do much on you...   \n",
       "10  To progress effectively in 'Getting to Quantel...   \n",
       "\n",
       "                        synthesizer_name  \n",
       "0   single_hop_specifc_query_synthesizer  \n",
       "1   single_hop_specifc_query_synthesizer  \n",
       "2   single_hop_specifc_query_synthesizer  \n",
       "3   single_hop_specifc_query_synthesizer  \n",
       "4   multi_hop_abstract_query_synthesizer  \n",
       "5   multi_hop_abstract_query_synthesizer  \n",
       "6   multi_hop_abstract_query_synthesizer  \n",
       "7   multi_hop_specific_query_synthesizer  \n",
       "8   multi_hop_specific_query_synthesizer  \n",
       "9   multi_hop_specific_query_synthesizer  \n",
       "10  multi_hop_specific_query_synthesizer  "
      ]
     },
     "execution_count": 8,
     "metadata": {},
     "output_type": "execute_result"
    }
   ],
   "source": [
    "golden_dataset.to_pandas()"
   ]
  },
  {
   "cell_type": "markdown",
   "id": "3b4da258",
   "metadata": {},
   "source": [
    "save the RAGAS golden data set as a json"
   ]
  },
  {
   "cell_type": "code",
   "execution_count": null,
   "id": "d636a1ba",
   "metadata": {},
   "outputs": [],
   "source": [
    "import json\n",
    "\n",
    "with open(\"data/goldendataset.json\", \"w\") as f:\n",
    "    json.dump([sample.model_dump() for sample in golden_dataset], f, indent=2)\n"
   ]
  },
  {
   "cell_type": "code",
   "execution_count": null,
   "id": "65f64552",
   "metadata": {},
   "outputs": [],
   "source": [
    "## Export Golden Dataset to Human-Readable Formats\n",
    "\n",
    "import json\n",
    "import pandas as pd\n",
    "\n",
    "# Load the golden dataset\n",
    "with open('./data/goldendataset.json', 'r') as f:\n",
    "    golden_data = json.load(f)\n",
    "\n",
    "# Extract the key information into a clean DataFrame\n",
    "readable_data = []\n",
    "for i, item in enumerate(golden_data):\n",
    "    eval_sample = item['eval_sample']\n",
    "    \n",
    "    # Clean up the reference contexts (truncate if too long)\n",
    "    contexts = eval_sample.get('reference_contexts', [])\n",
    "    contexts_preview = str(contexts[0])[:200] + \"...\" if contexts else \"No context\"\n",
    "    \n",
    "    readable_data.append({\n",
    "        'Question_ID': f\"Q{i+1:02d}\",\n",
    "        'User_Question': eval_sample.get('user_input', ''),\n",
    "        'Expected_Answer': eval_sample.get('reference', ''),\n",
    "        'Synthesizer_Type': item.get('synthesizer_name', ''),\n",
    "        'Context_Preview': contexts_preview,\n",
    "        'Full_Context_Length': len(str(contexts)) if contexts else 0\n",
    "    })\n",
    "\n",
    "# Create DataFrame\n",
    "df = pd.DataFrame(readable_data)\n",
    "\n",
    "# Export to CSV\n",
    "df.to_csv('./data/golden_dataset_readable.csv', index=False)\n",
    "\n",
    "# Display preview\n",
    "print(\"Golden Dataset Preview:\")\n",
    "print(\"=\" * 60)\n",
    "for _, row in df.head(3).iterrows():\n",
    "    print(f\"Question {row['Question_ID']}: {row['User_Question']}\")\n",
    "    print(f\"Expected: {row['Expected_Answer']}\")\n",
    "    print(f\"Synthesizer: {row['Synthesizer_Type']}\")\n",
    "    print(\"-\" * 40)\n",
    "\n",
    "print(f\"\\n✅ Exported {len(df)} questions to: ./data/golden_dataset_readable.csv\")\n"
   ]
  },
  {
   "cell_type": "code",
   "execution_count": null,
   "id": "a9551336",
   "metadata": {},
   "outputs": [],
   "source": [
    "## Option 2: Create Detailed Markdown Report\n",
    "\n",
    "def create_markdown_report(golden_data, output_file='./data/golden_dataset_report.md'):\n",
    "    \"\"\"Create a detailed, human-readable markdown report of the golden dataset.\"\"\"\n",
    "    \n",
    "    with open(output_file, 'w') as f:\n",
    "        f.write(\"# Thudbot Golden Dataset Report\\n\\n\")\n",
    "        f.write(\"Generated synthetic test questions and answers for RAGAS evaluation.\\n\\n\")\n",
    "        f.write(f\"**Total Questions:** {len(golden_data)}\\n\\n\")\n",
    "        f.write(\"---\\n\\n\")\n",
    "        \n",
    "        for i, item in enumerate(golden_data, 1):\n",
    "            eval_sample = item['eval_sample']\n",
    "            \n",
    "            f.write(f\"## Question {i:02d}\\n\\n\")\n",
    "            f.write(f\"**User Input:** {eval_sample.get('user_input', 'N/A')}\\n\\n\")\n",
    "            f.write(f\"**Expected Answer:**\\n{eval_sample.get('reference', 'N/A')}\\n\\n\")\n",
    "            f.write(f\"**Synthesizer:** `{item.get('synthesizer_name', 'unknown')}`\\n\\n\")\n",
    "            \n",
    "            # Add context information\n",
    "            contexts = eval_sample.get('reference_contexts', [])\n",
    "            if contexts:\n",
    "                f.write(\"**Reference Context Preview:**\\n\")\n",
    "                context_preview = str(contexts[0])[:300] + \"...\" if len(str(contexts[0])) > 300 else str(contexts[0])\n",
    "                f.write(f\"```\\n{context_preview}\\n```\\n\\n\")\n",
    "            \n",
    "            f.write(\"---\\n\\n\")\n",
    "    \n",
    "    print(f\"✅ Created detailed report: {output_file}\")\n",
    "\n",
    "# Generate the markdown report\n",
    "create_markdown_report(golden_data)\n"
   ]
  },
  {
   "cell_type": "markdown",
   "id": "332e7aad",
   "metadata": {},
   "source": [
    "the answers are okay, but the questions are crappy. Let's see if we can get an LLM to rewrite the questions in a more natural game-player voice"
   ]
  },
  {
   "cell_type": "markdown",
   "id": "c0a0010f",
   "metadata": {},
   "source": [
    "##### Five step plan to re-write the questions:\n",
    "\n",
    "1. Define rewriter prompt\n",
    "2. Set up a rewriter chain using the rewriter prompt\n",
    "3. Define rewrite function that invokes rewriter_chain\n",
    "4. Run the function on the original \"golden\" dataset\n",
    "5. Write the re-written questions to **platinum_dataset.json** (and an .md file)\n",
    "\n",
    "\"Vibe-check\" the output, and iterate until I like it!"
   ]
  },
  {
   "cell_type": "markdown",
   "id": "7ee97c56",
   "metadata": {},
   "source": [
    "#### Question Rewriter: Transform Formal Questions → Casual Player Questions\n",
    "\n",
    "Using the same pattern as HW7 for LLM chains\n"
   ]
  },
  {
   "cell_type": "code",
   "execution_count": 9,
   "id": "13af26e5",
   "metadata": {},
   "outputs": [],
   "source": [
    "# Step 1: Create the rewriter prompt (following HW7 prompt pattern)\n",
    "\n",
    "from langchain.prompts import ChatPromptTemplate\n",
    "from langchain_openai import ChatOpenAI\n",
    "\n",
    "QUESTION_REWRITER_PROMPT = \"\"\"\\\n",
    "You are helping rewrite questions to sound like real confused players asking for game hints.\n",
    "\n",
    "Your job is to transform formal/academic questions into casual, human-like questions that real players would ask when stuck in \"The Space Bar\" adventure game.\n",
    "\n",
    "IMPORTANT: If the question contains a question ID like \"TSB-041\" or similar, ignore that completely - it's just an organizational code that doesn't exist in the real game.\n",
    "\n",
    "Original question: {original_question}\n",
    "Game context: {context_preview}\n",
    "\n",
    "Examples of good player questions:\n",
    "- \"How do I get past the guard?\"\n",
    "- \"I'm stuck in this room, what do I do?\"\n",
    "- \"Help! I can't figure out this puzzle\"\n",
    "- \"Where's the token I need?\"\n",
    "\n",
    "Make it sound confused, or casual - like a real person, not an academic paper.\n",
    "\n",
    "Rewritten question:\"\"\"\n",
    "\n",
    "# Create the prompt template (same pattern as HW7)\n",
    "rewriter_prompt = ChatPromptTemplate.from_template(QUESTION_REWRITER_PROMPT)\n"
   ]
  },
  {
   "cell_type": "code",
   "execution_count": 10,
   "id": "6ba4723f",
   "metadata": {},
   "outputs": [],
   "source": [
    "# Step 2: Set up a rewriter chain using the rewriter prompt\n",
    "\n",
    "# Set up the LLM for rewriting (following HW7 pattern)\n",
    "rewriter_llm = ChatOpenAI(model=\"gpt-4o-mini\", temperature=0.3)\n",
    "\n",
    "# Create the rewriter chain (same LCEL pattern as HW7)\n",
    "from langchain.schema import StrOutputParser\n",
    "\n",
    "rewriter_chain = rewriter_prompt | rewriter_llm | StrOutputParser()\n"
   ]
  },
  {
   "cell_type": "code",
   "execution_count": 11,
   "id": "da4e36f7",
   "metadata": {},
   "outputs": [],
   "source": [
    "# Step 3: Define rewrite function that invokes rewriter_chain\n",
    "# Main rewriting function (following HW7 iteration pattern)\n",
    "def rewrite_questions_to_player_style(golden_data):\n",
    "    \"\"\"Rewrite formal RAGAS questions to sound like casual game players\"\"\"\n",
    "    \n",
    "    updated_data = []\n",
    "    \n",
    "    print(\"🔄 Rewriting questions to sound like real players...\")\n",
    "    print(\"-\" * 50)\n",
    "    \n",
    "    for i, item in enumerate(golden_data, 1):\n",
    "        eval_sample = item['eval_sample']\n",
    "        original_q = eval_sample.get('user_input', '')\n",
    "        \n",
    "        # Get context preview for better rewriting\n",
    "        contexts = eval_sample.get('reference_contexts', [])\n",
    "        context_preview = str(contexts[0])[:200] + \"...\" if contexts else \"No context available\"\n",
    "        \n",
    "        # Rewrite the question using our chain\n",
    "        try:\n",
    "            rewritten_q = rewriter_chain.invoke({\n",
    "                \"original_question\": original_q,\n",
    "                \"context_preview\": context_preview\n",
    "            })\n",
    "            \n",
    "            # Update the question in place\n",
    "            eval_sample['user_input'] = rewritten_q.strip()\n",
    "            eval_sample['original_question'] = original_q  # Keep original for comparison\n",
    "            \n",
    "            # Show progress\n",
    "            print(f\"✅ Question {i:02d}:\")\n",
    "            print(f\"   Original: {original_q[:70]}...\")\n",
    "            print(f\"   Rewritten: {rewritten_q.strip()[:70]}...\")\n",
    "            print()\n",
    "            \n",
    "        except Exception as e:\n",
    "            print(f\"❌ Error rewriting question {i}: {e}\")\n",
    "            # Keep original if rewriting fails\n",
    "            eval_sample['original_question'] = original_q\n",
    "        \n",
    "        updated_data.append(item)\n",
    "    \n",
    "    print(f\"✅ Successfully rewrote {len(updated_data)} questions!\")\n",
    "    return updated_data\n"
   ]
  },
  {
   "cell_type": "code",
   "execution_count": 12,
   "id": "6c249a1c",
   "metadata": {},
   "outputs": [
    {
     "name": "stdout",
     "output_type": "stream",
     "text": [
      "📊 Loaded 12 questions to rewrite\n",
      "🔄 Rewriting questions to sound like real players...\n",
      "--------------------------------------------------\n",
      "✅ Question 01:\n",
      "   Original: In the context of the game, what is the significance of the Yzore in r...\n",
      "   Rewritten: \"Wait, what’s the deal with the Yzore? How does it help me get to the ...\n",
      "\n",
      "✅ Question 02:\n",
      "   Original: TSB-041 what do I do?...\n",
      "   Rewritten: \"Uh, I'm really lost here. What am I supposed to do as Fleebix? I'm st...\n",
      "\n",
      "✅ Question 03:\n",
      "   Original: What UHS mean in the game?...\n",
      "   Rewritten: \"Wait, what does UHS even mean in this game?\"...\n",
      "\n",
      "✅ Question 04:\n",
      "   Original: WhaT is TSB-027?...\n",
      "   Rewritten: \"Wait, what am I supposed to do in this entry vestibule? I'm totally l...\n",
      "\n",
      "✅ Question 05:\n",
      "   Original: H0w do the residue printer and fingerprint analysis help in cracking t...\n",
      "   Rewritten: \"Hey, I'm totally lost! How do I use the residue printer and the finge...\n",
      "\n",
      "✅ Question 06:\n",
      "   Original: how use tokens for bus and find object like door or cup...\n",
      "   Rewritten: \"Hey, how do I use these tokens for the bus? And where do I find stuff...\n",
      "\n",
      "✅ Question 07:\n",
      "   Original: How can you effectively utilize navigation and movement strategies wit...\n",
      "   Rewritten: \"Hey, I'm totally lost! How do I use the simulator to check out the ma...\n",
      "\n",
      "✅ Question 08:\n",
      "   Original: How Fleebix rely on Thud and follow clues to get to Quantelope Lodge?...\n",
      "   Rewritten: \"Wait, how am I supposed to get Fleebix to follow Thud and find my way...\n",
      "\n",
      "✅ Question 09:\n",
      "   Original: how to get to Quantelope Lodge with Thud and Fleebix, and find the tok...\n",
      "   Rewritten: \"Wait, how do I get to Quantelope Lodge with Thud and Fleebix? And wha...\n",
      "\n",
      "✅ Question 10:\n",
      "   Original: How do Fleebix and Thud get to the Quantelope Lodge, and what role doe...\n",
      "   Rewritten: \"Wait, how do Fleebix and Thud even get to the Quantelope Lodge? And w...\n",
      "\n",
      "✅ Question 11:\n",
      "   Original: How can a casual adventure gamer utilize the clues about TSB-031 and T...\n",
      "   Rewritten: \"Okay, I'm super lost! I keep hearing about this vestibule terminal an...\n",
      "\n",
      "✅ Question 12:\n",
      "   Original: How do the TSB-031 hints about fixing or trying the terminal relate to...\n",
      "   Rewritten: \"Wait, how do the hints about fixing the terminal connect to finding T...\n",
      "\n",
      "✅ Successfully rewrote 12 questions!\n"
     ]
    }
   ],
   "source": [
    "#Step 4: Run the re-writer on the original \"golden\" dataset\n",
    "\n",
    "import json\n",
    "\n",
    "# Load the original golden dataset\n",
    "with open('./data/goldendataset.json', 'r') as f:\n",
    "    original_golden_data = json.load(f)\n",
    "\n",
    "print(f\"📊 Loaded {len(original_golden_data)} questions to rewrite\")\n",
    "\n",
    "# Rewrite the questions\n",
    "rewritten_data = rewrite_questions_to_player_style(original_golden_data)\n"
   ]
  },
  {
   "cell_type": "code",
   "execution_count": 13,
   "id": "31116011",
   "metadata": {},
   "outputs": [
    {
     "name": "stdout",
     "output_type": "stream",
     "text": [
      "📝 Created comparison report: ./data/question_rewrite_comparison.md\n",
      "💾 Saved rewritten dataset to: ./data/platinum_dataset.json\n",
      "\n",
      "🎯 Ready to use the player-style questions for RAGAS evaluation!\n"
     ]
    }
   ],
   "source": [
    "# Step 5: Save the rewritten dataset and create comparison report\n",
    "with open('./data/platinum_dataset.json', 'w') as f:\n",
    "    json.dump(rewritten_data, f, indent=2)\n",
    "\n",
    "# Create a comparison report to review the changes\n",
    "def create_comparison_report(rewritten_data, output_file='./data/question_rewrite_comparison.md'):\n",
    "    with open(output_file, 'w') as f:\n",
    "        f.write(\"# Question Rewriting Comparison Report\\n\\n\")\n",
    "        f.write(\"Comparison of original RAGAS questions vs. player-style questions\\n\\n\")\n",
    "        f.write(\"---\\n\\n\")\n",
    "        \n",
    "        for i, item in enumerate(rewritten_data, 1):\n",
    "            eval_sample = item['eval_sample']\n",
    "            original = eval_sample.get('original_question', 'N/A')\n",
    "            rewritten = eval_sample.get('user_input', 'N/A')\n",
    "            \n",
    "            f.write(f\"## Question {i:02d}\\n\\n\")\n",
    "            f.write(f\"**Original (RAGAS):** {original}\\n\\n\")\n",
    "            f.write(f\"**Rewritten (Player Style):** {rewritten}\\n\\n\")\n",
    "            f.write(\"---\\n\\n\")\n",
    "    \n",
    "    print(f\"📝 Created comparison report: {output_file}\")\n",
    "\n",
    "create_comparison_report(rewritten_data)\n",
    "print(f\"💾 Saved rewritten dataset to: ./data/platinum_dataset.json\")\n",
    "print(\"\\n🎯 Ready to use the player-style questions for RAGAS evaluation!\")\n"
   ]
  },
  {
   "cell_type": "markdown",
   "id": "908666af",
   "metadata": {},
   "source": [
    "I ran a few iterations with different prompts, and an now reasonably happy with the questions. \n",
    "\n",
    "Next step is to import the ```platinum_dataset.json``` for use by ragas eval"
   ]
  },
  {
   "cell_type": "markdown",
   "id": "8cacdfd8",
   "metadata": {},
   "source": [
    "#### End of SDG work"
   ]
  },
  {
   "cell_type": "markdown",
   "id": "b36831f3",
   "metadata": {},
   "source": [
    "### ▶️ Resume here to load data for any RAGAS eval"
   ]
  },
  {
   "cell_type": "code",
   "execution_count": 11,
   "id": "15427af9",
   "metadata": {},
   "outputs": [],
   "source": [
    "import json\n",
    "\n",
    "# Load questions for testing retrievers\n",
    "with open(\"data/platinum_dataset.json\", \"r\") as f:\n",
    "    platinum_data = json.load(f)\n",
    "\n"
   ]
  },
  {
   "cell_type": "code",
   "execution_count": null,
   "id": "017455bc",
   "metadata": {},
   "outputs": [],
   "source": [
    "\n"
   ]
  },
  {
   "cell_type": "markdown",
   "id": "06cb2736",
   "metadata": {},
   "source": [
    "## Step 4: Setup the RAG chain\n"
   ]
  },
  {
   "cell_type": "markdown",
   "id": "8fc850ac",
   "metadata": {},
   "source": [
    "Starting with a \"naive\" dense vector retrieval"
   ]
  },
  {
   "cell_type": "markdown",
   "id": "1274cae5",
   "metadata": {},
   "source": [
    "### R - Retrieval\n",
    "\n",
    "This naive retriever will simply look at each review as a document, and use cosine-similarity to fetch the 10 most relevant documents.\n",
    "\n",
    "> NOTE: We're choosing `10` as our `k` here to provide enough documents for our reranking process later"
   ]
  },
  {
   "cell_type": "code",
   "execution_count": 6,
   "id": "a67ec143",
   "metadata": {},
   "outputs": [],
   "source": [
    "naive_retriever = vectorstore.as_retriever(search_kwargs={\"k\" : 10})"
   ]
  },
  {
   "cell_type": "markdown",
   "id": "d781088a",
   "metadata": {},
   "source": [
    "### A - Augmented\n",
    "\n",
    "My first pass at a Thud-like prompt, named as ```THUD_TEMPLATE```\n",
    "\n",
    "This will need tuning!"
   ]
  },
  {
   "cell_type": "code",
   "execution_count": 7,
   "id": "90a920e0",
   "metadata": {},
   "outputs": [],
   "source": [
    "from langchain_core.prompts import ChatPromptTemplate\n",
    "\n",
    "THUD_TEMPLATE = \"\"\"\\\n",
    "You are Thud, a friendly and somewhat simple-minded patron at The Thirsty Tentacle. \n",
    "\n",
    "You're trying your best to help the player navigate the game \"The Space Bar.\"\n",
    "\n",
    "Use the clues and context provided below to offer a gentle hint — not a full solution.\n",
    "\n",
    "If you're not sure, say so, or suggest the player look around more.\n",
    "\n",
    "Player's question:\n",
    "{question}\n",
    "\n",
    "Context:\n",
    "{context}\n",
    "\n",
    "Your hint:\"\"\"\n",
    "\n",
    "rag_prompt = ChatPromptTemplate.from_template(THUD_TEMPLATE)"
   ]
  },
  {
   "cell_type": "markdown",
   "id": "f7e84599",
   "metadata": {},
   "source": [
    "### G - Generation\n",
    "\n",
    "We're going to leverage `gpt-4.1-nano` as our LLM today, as - again - we want this to largely be about the Retrieval process."
   ]
  },
  {
   "cell_type": "code",
   "execution_count": 8,
   "id": "d27603ec",
   "metadata": {},
   "outputs": [],
   "source": [
    "from langchain_openai import ChatOpenAI\n",
    "\n",
    "chat_model = ChatOpenAI(model=\"gpt-4.1-nano\")\n",
    "#chat_model = ChatAnthropic(model=\"claude-3-5-sonnet-20240620\")"
   ]
  },
  {
   "cell_type": "markdown",
   "id": "43372065",
   "metadata": {},
   "source": [
    "### LCEL RAG Chain\n",
    "\n",
    "We're going to use LCEL to construct our chain. (from HW9)\n"
   ]
  },
  {
   "cell_type": "code",
   "execution_count": 16,
   "id": "f8e85297",
   "metadata": {},
   "outputs": [],
   "source": [
    "from langchain_core.runnables import RunnablePassthrough\n",
    "from operator import itemgetter\n",
    "from langchain_core.output_parsers import StrOutputParser\n",
    "\n",
    "naive_retrieval_chain = (\n",
    "    \n",
    "    {\"context\": itemgetter(\"question\") | naive_retriever, \"question\": itemgetter(\"question\")}\n",
    "    \n",
    "    | RunnablePassthrough.assign(context=itemgetter(\"context\"))\n",
    "\n",
    "    | {\"response\": rag_prompt | chat_model, \"context\": itemgetter(\"context\")}\n",
    ").with_config({\"run_name\": \"naive_retriever_chain\"})"
   ]
  },
  {
   "cell_type": "markdown",
   "id": "83bc3681",
   "metadata": {},
   "source": [
    "Test the chain, and the langsmith tracing with a question.\n",
    "Might as well take the question from the platinum data set (just remember to load it above ▶️)"
   ]
  },
  {
   "cell_type": "code",
   "execution_count": 31,
   "id": "a17b91e8",
   "metadata": {},
   "outputs": [
    {
     "data": {
      "text/plain": [
       "{'response': AIMessage(content=\"Oh, Yzore is important because you need a special token to ride the bus there. Maybe there's something you can do at Glom Hole to get that token or figure out a way into the bus. Look around and see if you can find a clue or item related to the bus or the token!\", additional_kwargs={'refusal': None}, response_metadata={'token_usage': {'completion_tokens': 62, 'prompt_tokens': 2070, 'total_tokens': 2132, 'completion_tokens_details': {'accepted_prediction_tokens': 0, 'audio_tokens': 0, 'reasoning_tokens': 0, 'rejected_prediction_tokens': 0}, 'prompt_tokens_details': {'audio_tokens': 0, 'cached_tokens': 0}}, 'model_name': 'gpt-4.1-nano-2025-04-14', 'system_fingerprint': 'fp_38343a2f8f', 'id': 'chatcmpl-C0IcJB7LA0t2SXT4aNbR1X6ilYuL3', 'service_tier': 'default', 'finish_reason': 'stop', 'logprobs': None}, id='run--2f4c421c-7ad9-4332-9172-a6a9e8e958c4-0', usage_metadata={'input_tokens': 2070, 'output_tokens': 62, 'total_tokens': 2132, 'input_token_details': {'audio': 0, 'cache_read': 0}, 'output_token_details': {'audio': 0, 'reasoning': 0}}),\n",
       " 'context': [Document(metadata={'source': './data/Thudbot_Hint_Data_1.csv', 'row': 78, 'question': 'How do I get on the bus to Quantelope Lodge?', 'hint_level': '1', 'character': 'Fleebix, Thud', 'speaker': '', 'narrative_context': 'Fleebix Flashback', 'planet': 'Yzore', 'location': 'Front Stoop', 'category': 'Puzzle', 'tone': '', 'follow_up_hint_id': '', 'answer_keywords': '', 'tags': '', '_id': '716a46b211ba4466b32a9df1d6976943', '_collection_name': 'Thudbot_Hints'}, page_content='question_id: TSB-046\\nhint_text: You need a token to get on a bus in Yzore\\npuzzle_name: Getting to Quantelope Lodge\\nsource: UHS'),\n",
       "  Document(metadata={'source': './data/Thudbot_Hint_Data_1.csv', 'row': 86, 'question': 'Thud got on the wrong bus.', 'hint_level': '2', 'character': 'Fleebix, Thud', 'speaker': '', 'narrative_context': 'Fleebix Flashback', 'planet': 'Yzore', 'location': 'Glom Hole', 'category': 'Puzzle', 'tone': '', 'follow_up_hint_id': '', 'answer_keywords': '', 'tags': '', '_id': 'f1b82b41aa4a460688bcdc620a959a06', '_collection_name': 'Thudbot_Hints'}, page_content=\"question_id: TSB-048\\nhint_text: Maybe there's something you can do at Glom Hole?\\npuzzle_name: Getting to Quantelope Lodge\\nsource: UHS\"),\n",
       "  Document(metadata={'source': './data/Thudbot_Hint_Data_1.csv', 'row': 76, 'question': 'How do I get to the Quantelope lodge', 'hint_level': '1', 'character': 'Fleebix, Thud', 'speaker': '', 'narrative_context': 'Fleebix Flashback', 'planet': 'Yzore', 'location': 'Front Stoop', 'category': 'Puzzle', 'tone': '', 'follow_up_hint_id': '', 'answer_keywords': '', 'tags': '', '_id': '5ad1d54675fb46ae9cad4c22088168de', '_collection_name': 'Thudbot_Hints'}, page_content='question_id: TSB-045\\nhint_text: To get to the Quantelpoe Lodge, Thud and Fleebix should take a bus\\npuzzle_name: Getting to Quantelope Lodge\\nsource: UHS'),\n",
       "  Document(metadata={'source': './data/Thudbot_Hint_Data_1.csv', 'row': 70, 'question': 'How do I find Thud when I am in a jar?', 'hint_level': '1', 'character': 'Fleebix', 'speaker': '', 'narrative_context': 'Fleebix Flashback', 'planet': 'Yzore', 'location': 'Front Stoop', 'category': 'Puzzle', 'tone': '', 'follow_up_hint_id': '', 'answer_keywords': '', 'tags': '', '_id': '51cb2d1103514130ada6220b247a8ca5', '_collection_name': 'Thudbot_Hints'}, page_content=\"question_id: TSB-042\\nhint_text: I could tell you how to find Thud, but maybe you should EmpTel with Thud first if you haven't\\npuzzle_name: Getting to Quantelope Lodge\\nsource: UHS\"),\n",
       "  Document(metadata={'source': './data/Thudbot_Hint_Data_1.csv', 'row': 74, 'question': 'What do I need to do in the Fleebix  flashback?', 'hint_level': '2', 'character': 'Fleebix', 'speaker': '', 'narrative_context': 'Fleebix Flashback', 'planet': 'Yzore', 'location': '', 'category': 'Puzzle', 'tone': '', 'follow_up_hint_id': '', 'answer_keywords': '', 'tags': '', '_id': 'e8fe04297b5d4a6d85e16830079ef62c', '_collection_name': 'Thudbot_Hints'}, page_content='question_id: TSB-044\\nhint_text: Read the audition notice to find out where Thud and Fleebix need to go first\\npuzzle_name: Getting to Quantelope Lodge\\nsource: UHS'),\n",
       "  Document(metadata={'source': './data/Thudbot_Hint_Data_1.csv', 'row': 75, 'question': 'What do I need to do in the Fleebix  flashback?', 'hint_level': '3', 'character': 'Fleebix', 'speaker': '', 'narrative_context': 'Fleebix Flashback', 'planet': 'Yzore', 'location': '', 'category': 'Puzzle', 'tone': '', 'follow_up_hint_id': '', 'answer_keywords': '', 'tags': '', '_id': 'ff4b47178a394d2e89c284843f4274b8', '_collection_name': 'Thudbot_Hints'}, page_content='question_id: TSB-044\\nhint_text: Thud and Fleebix need to get to the Quantelope Lodge\\npuzzle_name: Getting to Quantelope Lodge\\nsource: UHS'),\n",
       "  Document(metadata={'source': './data/Thudbot_Hint_Data_1.csv', 'row': 102, 'question': 'What can I do inside the mail truck?', 'hint_level': '1', 'character': 'Fleebix, Thud', 'speaker': '', 'narrative_context': 'Fleebix Flashback', 'planet': 'Yzore', 'location': 'Mail truck', 'category': 'Puzzle', 'tone': '', 'follow_up_hint_id': '', 'answer_keywords': '', 'tags': '', '_id': 'c5b5f2b7aab544d08d4cef00be8d9234', '_collection_name': 'Thudbot_Hints'}, page_content=\"question_id: TSB-054\\nhint_text: Not much to do here. Look around the truck. Don't get caught.\\npuzzle_name: Getting to Quantelope Lodge\\nsource: UHS\"),\n",
       "  Document(metadata={'source': './data/Thudbot_Hint_Data_1.csv', 'row': 88, 'question': 'How do I get to Quantelope Lodge from Glom Hole', 'hint_level': '2', 'character': 'Fleebix, Thud', 'speaker': '', 'narrative_context': 'Fleebix Flashback', 'planet': 'Yzore', 'location': 'Glom Hole', 'category': 'Puzzle', 'tone': '', 'follow_up_hint_id': '', 'answer_keywords': '', 'tags': '', '_id': '7753b54d1b1d450e80799b4904f60459', '_collection_name': 'Thudbot_Hints'}, page_content='question_id: TSB-049\\nhint_text: Have you looked at the mailbox near Glom Hole?\\npuzzle_name: Getting to Quantelope Lodge\\nsource: UHS'),\n",
       "  Document(metadata={'source': './data/Thudbot_Hint_Data_1.csv', 'row': 69, 'question': \"Why can't I do anything when I EmpTel as Fleebix\", 'hint_level': '2', 'character': 'Fleebix', 'speaker': '', 'narrative_context': 'Fleebix Flashback', 'planet': 'Yzore', 'location': '', 'category': 'Puzzle', 'tone': '', 'follow_up_hint_id': '', 'answer_keywords': '', 'tags': '', '_id': '5784dced05b046e293c75f8344186ef4', '_collection_name': 'Thudbot_Hints'}, page_content='question_id: TSB-041\\nhint_text: When you are Fleebix, you can rely on Thud to help you with many taks\\npuzzle_name: Getting to Quantelope Lodge\\nsource: UHS'),\n",
       "  Document(metadata={'source': './data/Thudbot_Hint_Data_1.csv', 'row': 106, 'question': 'What can I do inside the mail truck?', 'hint_level': '4', 'character': 'Fleebix, Thud', 'speaker': '', 'narrative_context': 'Fleebix Flashback', 'planet': 'Yzore', 'location': 'Cardboard Box', 'category': 'Puzzle', 'tone': '', 'follow_up_hint_id': '', 'answer_keywords': '', 'tags': '', '_id': '73451846d8fc475680b99a994f2c729c', '_collection_name': 'Thudbot_Hints'}, page_content='question_id: TSB-054\\nhint_text: Wait for the truck to deliver you\\npuzzle_name: Getting to Quantelope Lodge\\nsource: UHS')]}"
      ]
     },
     "execution_count": 31,
     "metadata": {},
     "output_type": "execute_result"
    }
   ],
   "source": [
    "sample_q = platinum_data[0][\"eval_sample\"][\"user_input\"]\n",
    "naive_retrieval_chain.invoke({\"question\": sample_q})\n"
   ]
  },
  {
   "cell_type": "markdown",
   "id": "17c87ec9",
   "metadata": {},
   "source": [
    "The design hypothesis is that multi-query or BM25 might be better. \n",
    "Let's define those chains now, so I can compare all three together"
   ]
  },
  {
   "cell_type": "code",
   "execution_count": 26,
   "id": "56bb709e",
   "metadata": {},
   "outputs": [],
   "source": [
    "from langchain.retrievers.multi_query import MultiQueryRetriever\n",
    "\n",
    "multi_query_retriever = MultiQueryRetriever.from_llm(\n",
    "    retriever=naive_retriever, llm=chat_model\n",
    ")"
   ]
  },
  {
   "cell_type": "code",
   "execution_count": 33,
   "id": "1c2f4ce6",
   "metadata": {},
   "outputs": [],
   "source": [
    "multi_query_retrieval_chain = (\n",
    "    {\"context\": itemgetter(\"question\") | multi_query_retriever, \"question\": itemgetter(\"question\")}\n",
    "    | RunnablePassthrough.assign(context=itemgetter(\"context\"))\n",
    "    | {\"response\": rag_prompt | chat_model, \"context\": itemgetter(\"context\")}\n",
    ").with_config({\"run_name\": \"multi_query_chain\"})"
   ]
  },
  {
   "cell_type": "code",
   "execution_count": 34,
   "id": "6d8ed63c",
   "metadata": {},
   "outputs": [
    {
     "data": {
      "text/plain": [
       "{'response': AIMessage(content=\"Oh, yzore, huh? Well, the Yzore planet's got a special token you need if you wanna hop on a bus there. Maybe look around for something that could be a token or a special item that helps you get on that bus. Just a little hint — sometimes those tokens are hidden or tucked away somewhere neat. Keep an eye out!\", additional_kwargs={'refusal': None}, response_metadata={'token_usage': {'completion_tokens': 74, 'prompt_tokens': 3071, 'total_tokens': 3145, 'completion_tokens_details': {'accepted_prediction_tokens': 0, 'audio_tokens': 0, 'reasoning_tokens': 0, 'rejected_prediction_tokens': 0}, 'prompt_tokens_details': {'audio_tokens': 0, 'cached_tokens': 0}}, 'model_name': 'gpt-4.1-nano-2025-04-14', 'system_fingerprint': 'fp_38343a2f8f', 'id': 'chatcmpl-C0Ie2O670bHFk084QEellk0wsin69', 'service_tier': 'default', 'finish_reason': 'stop', 'logprobs': None}, id='run--e9aa8a58-bd39-4a5b-93bb-fcce248c173d-0', usage_metadata={'input_tokens': 3071, 'output_tokens': 74, 'total_tokens': 3145, 'input_token_details': {'audio': 0, 'cache_read': 0}, 'output_token_details': {'audio': 0, 'reasoning': 0}}),\n",
       " 'context': [Document(metadata={'source': './data/Thudbot_Hint_Data_1.csv', 'row': 78, 'question': 'How do I get on the bus to Quantelope Lodge?', 'hint_level': '1', 'character': 'Fleebix, Thud', 'speaker': '', 'narrative_context': 'Fleebix Flashback', 'planet': 'Yzore', 'location': 'Front Stoop', 'category': 'Puzzle', 'tone': '', 'follow_up_hint_id': '', 'answer_keywords': '', 'tags': '', '_id': '716a46b211ba4466b32a9df1d6976943', '_collection_name': 'Thudbot_Hints'}, page_content='question_id: TSB-046\\nhint_text: You need a token to get on a bus in Yzore\\npuzzle_name: Getting to Quantelope Lodge\\nsource: UHS'),\n",
       "  Document(metadata={'source': './data/Thudbot_Hint_Data_1.csv', 'row': 70, 'question': 'How do I find Thud when I am in a jar?', 'hint_level': '1', 'character': 'Fleebix', 'speaker': '', 'narrative_context': 'Fleebix Flashback', 'planet': 'Yzore', 'location': 'Front Stoop', 'category': 'Puzzle', 'tone': '', 'follow_up_hint_id': '', 'answer_keywords': '', 'tags': '', '_id': '51cb2d1103514130ada6220b247a8ca5', '_collection_name': 'Thudbot_Hints'}, page_content=\"question_id: TSB-042\\nhint_text: I could tell you how to find Thud, but maybe you should EmpTel with Thud first if you haven't\\npuzzle_name: Getting to Quantelope Lodge\\nsource: UHS\"),\n",
       "  Document(metadata={'source': './data/Thudbot_Hint_Data_1.csv', 'row': 76, 'question': 'How do I get to the Quantelope lodge', 'hint_level': '1', 'character': 'Fleebix, Thud', 'speaker': '', 'narrative_context': 'Fleebix Flashback', 'planet': 'Yzore', 'location': 'Front Stoop', 'category': 'Puzzle', 'tone': '', 'follow_up_hint_id': '', 'answer_keywords': '', 'tags': '', '_id': '5ad1d54675fb46ae9cad4c22088168de', '_collection_name': 'Thudbot_Hints'}, page_content='question_id: TSB-045\\nhint_text: To get to the Quantelpoe Lodge, Thud and Fleebix should take a bus\\npuzzle_name: Getting to Quantelope Lodge\\nsource: UHS'),\n",
       "  Document(metadata={'source': './data/Thudbot_Hint_Data_1.csv', 'row': 86, 'question': 'Thud got on the wrong bus.', 'hint_level': '2', 'character': 'Fleebix, Thud', 'speaker': '', 'narrative_context': 'Fleebix Flashback', 'planet': 'Yzore', 'location': 'Glom Hole', 'category': 'Puzzle', 'tone': '', 'follow_up_hint_id': '', 'answer_keywords': '', 'tags': '', '_id': 'f1b82b41aa4a460688bcdc620a959a06', '_collection_name': 'Thudbot_Hints'}, page_content=\"question_id: TSB-048\\nhint_text: Maybe there's something you can do at Glom Hole?\\npuzzle_name: Getting to Quantelope Lodge\\nsource: UHS\"),\n",
       "  Document(metadata={'source': './data/Thudbot_Hint_Data_1.csv', 'row': 100, 'question': 'How do I get the box to the lodge?', 'hint_level': '3', 'character': 'Fleebix, Thud', 'speaker': '', 'narrative_context': 'Fleebix Flashback', 'planet': 'Yzore', 'location': 'Glom Hole', 'category': 'Puzzle', 'tone': '', 'follow_up_hint_id': '', 'answer_keywords': '', 'tags': '', '_id': '54b36584fdb74cac980833f00a91d87c', '_collection_name': 'Thudbot_Hints'}, page_content='question_id: TSB-052\\nhint_text: Climb inside the large box and wait\\npuzzle_name: Getting to Quantelope Lodge\\nsource: UHS'),\n",
       "  Document(metadata={'source': './data/Thudbot_Hint_Data_1.csv', 'row': 69, 'question': \"Why can't I do anything when I EmpTel as Fleebix\", 'hint_level': '2', 'character': 'Fleebix', 'speaker': '', 'narrative_context': 'Fleebix Flashback', 'planet': 'Yzore', 'location': '', 'category': 'Puzzle', 'tone': '', 'follow_up_hint_id': '', 'answer_keywords': '', 'tags': '', '_id': '5784dced05b046e293c75f8344186ef4', '_collection_name': 'Thudbot_Hints'}, page_content='question_id: TSB-041\\nhint_text: When you are Fleebix, you can rely on Thud to help you with many taks\\npuzzle_name: Getting to Quantelope Lodge\\nsource: UHS'),\n",
       "  Document(metadata={'source': './data/Thudbot_Hint_Data_1.csv', 'row': 88, 'question': 'How do I get to Quantelope Lodge from Glom Hole', 'hint_level': '2', 'character': 'Fleebix, Thud', 'speaker': '', 'narrative_context': 'Fleebix Flashback', 'planet': 'Yzore', 'location': 'Glom Hole', 'category': 'Puzzle', 'tone': '', 'follow_up_hint_id': '', 'answer_keywords': '', 'tags': '', '_id': '7753b54d1b1d450e80799b4904f60459', '_collection_name': 'Thudbot_Hints'}, page_content='question_id: TSB-049\\nhint_text: Have you looked at the mailbox near Glom Hole?\\npuzzle_name: Getting to Quantelope Lodge\\nsource: UHS'),\n",
       "  Document(metadata={'source': './data/Thudbot_Hint_Data_1.csv', 'row': 75, 'question': 'What do I need to do in the Fleebix  flashback?', 'hint_level': '3', 'character': 'Fleebix', 'speaker': '', 'narrative_context': 'Fleebix Flashback', 'planet': 'Yzore', 'location': '', 'category': 'Puzzle', 'tone': '', 'follow_up_hint_id': '', 'answer_keywords': '', 'tags': '', '_id': 'ff4b47178a394d2e89c284843f4274b8', '_collection_name': 'Thudbot_Hints'}, page_content='question_id: TSB-044\\nhint_text: Thud and Fleebix need to get to the Quantelope Lodge\\npuzzle_name: Getting to Quantelope Lodge\\nsource: UHS'),\n",
       "  Document(metadata={'source': './data/Thudbot_Hint_Data_1.csv', 'row': 104, 'question': 'What can I do inside the mail truck?', 'hint_level': '2', 'character': 'Fleebix, Thud', 'speaker': '', 'narrative_context': 'Fleebix Flashback', 'planet': 'Yzore', 'location': 'Mail truck', 'category': 'Puzzle', 'tone': '', 'follow_up_hint_id': '', 'answer_keywords': '', 'tags': '', '_id': '375cd65e65aa411b88a8cb1ce076e22c', '_collection_name': 'Thudbot_Hints'}, page_content='question_id: TSB-054\\nhint_text: Stash the small package that you found in the mail truck\\npuzzle_name: Getting to Quantelope Lodge\\nsource: UHS'),\n",
       "  Document(metadata={'source': './data/Thudbot_Hint_Data_1.csv', 'row': 68, 'question': \"Why can't I do anything when I EmpTel as Fleebix\", 'hint_level': '1', 'character': 'Fleebix', 'speaker': '', 'narrative_context': 'Fleebix Flashback', 'planet': 'Yzore', 'location': '', 'category': 'Puzzle', 'tone': '', 'follow_up_hint_id': '', 'answer_keywords': '', 'tags': '', '_id': '737adf6e38f941f2afce0ffc0a25cd4f', '_collection_name': 'Thudbot_Hints'}, page_content=\"question_id: TSB-041\\nhint_text: You can't do much on your own as Fleebix, because you are in a jar\\npuzzle_name: Getting to Quantelope Lodge\\nsource: UHS\"),\n",
       "  Document(metadata={'source': './data/Thudbot_Hint_Data_1.csv', 'row': 73, 'question': 'What is the goal of the Fleebix  flashback?', 'hint_level': '1', 'character': 'Alias Node', 'speaker': '', 'narrative_context': 'Fleebix Flashback', 'planet': 'Yzore', 'location': '', 'category': 'Meta', 'tone': '', 'follow_up_hint_id': '', 'answer_keywords': '', 'tags': '', '_id': '1182916a89a64eb3852b5c8b46d6d65d', '_collection_name': 'Thudbot_Hints'}, page_content=\"question_id: TSB-043\\nhint_text: The overall goal of Fleebix's flaschback is to help him remember the name of the planet that Thud and Fleebix need to go to for their new navigation job\\npuzzle_name: Getting to Quantelope Lodge\\nsource: UHS\"),\n",
       "  Document(metadata={'source': './data/Thudbot_Hint_Data_1.csv', 'row': 109, 'question': 'The box was delivered to the wrong place', 'hint_level': '3', 'character': 'Fleebix, Thud', 'speaker': '', 'narrative_context': 'Fleebix Flashback', 'planet': 'Yzore', 'location': 'Driveway', 'category': 'Puzzle', 'tone': '', 'follow_up_hint_id': '', 'answer_keywords': '', 'tags': '', '_id': '5a12cc6103c44fadab9b9c297545a438', '_collection_name': 'Thudbot_Hints'}, page_content='question_id: TSB-055\\nhint_text: The characters her need a nav dial\\npuzzle_name: Getting to Quantelope Lodge\\nsource: UHS'),\n",
       "  Document(metadata={'source': './data/Thudbot_Hint_Data_1.csv', 'row': 111, 'question': 'What do I do with the Nav dial?', 'hint_level': '2', 'character': 'Fleebix, Thud', 'speaker': '', 'narrative_context': 'Fleebix Flashback', 'planet': 'Yzore', 'location': 'Driveway', 'category': 'Puzzle', 'tone': '', 'follow_up_hint_id': '', 'answer_keywords': '', 'tags': '', '_id': '7baa4ef99fc74295a79c25e40d9697b0', '_collection_name': 'Thudbot_Hints'}, page_content='question_id: TSB-056\\nhint_text: You should set the nav dial after the other couple goes to look for goggles\\npuzzle_name: Getting to Quantelope Lodge\\nsource: UHS'),\n",
       "  Document(metadata={'source': './data/Thudbot_Hint_Data_1.csv', 'row': 74, 'question': 'What do I need to do in the Fleebix  flashback?', 'hint_level': '2', 'character': 'Fleebix', 'speaker': '', 'narrative_context': 'Fleebix Flashback', 'planet': 'Yzore', 'location': '', 'category': 'Puzzle', 'tone': '', 'follow_up_hint_id': '', 'answer_keywords': '', 'tags': '', '_id': 'e8fe04297b5d4a6d85e16830079ef62c', '_collection_name': 'Thudbot_Hints'}, page_content='question_id: TSB-044\\nhint_text: Read the audition notice to find out where Thud and Fleebix need to go first\\npuzzle_name: Getting to Quantelope Lodge\\nsource: UHS'),\n",
       "  Document(metadata={'source': './data/Thudbot_Hint_Data_1.csv', 'row': 87, 'question': 'How do I get to Quantelope Lodge from Glom Hole', 'hint_level': '1', 'character': 'Fleebix, Thud', 'speaker': '', 'narrative_context': 'Fleebix Flashback', 'planet': 'Yzore', 'location': 'Glom Hole', 'category': 'Puzzle', 'tone': '', 'follow_up_hint_id': '', 'answer_keywords': '', 'tags': '', '_id': '19cabce7b84443acb6d9a7df556a3a86', '_collection_name': 'Thudbot_Hints'}, page_content=\"question_id: TSB-049\\nhint_text: You can't take a bus from Glom Hole to the Quantelope Lodge. Find another way to get to the Quantelope lodge.\\npuzzle_name: Getting to Quantelope Lodge\\nsource: UHS\")]}"
      ]
     },
     "execution_count": 34,
     "metadata": {},
     "output_type": "execute_result"
    }
   ],
   "source": [
    "sample_q = platinum_data[0][\"eval_sample\"][\"user_input\"]\n",
    "multi_query_retrieval_chain.invoke({\"question\": sample_q})"
   ]
  },
  {
   "cell_type": "markdown",
   "id": "5784e21a",
   "metadata": {},
   "source": [
    "BM25 next"
   ]
  },
  {
   "cell_type": "code",
   "execution_count": 37,
   "id": "e07346dd",
   "metadata": {},
   "outputs": [],
   "source": [
    "from langchain_community.retrievers import BM25Retriever\n",
    "\n",
    "bm25_retriever = BM25Retriever.from_documents(hint_data, k=10)\n",
    "\n",
    "bm25_retrieval_chain = (\n",
    "    {\"context\": itemgetter(\"question\") | bm25_retriever, \"question\": itemgetter(\"question\")}\n",
    "    | RunnablePassthrough.assign(context=itemgetter(\"context\"))\n",
    "    | {\"response\": rag_prompt | chat_model, \"context\": itemgetter(\"context\")}\n",
    ").with_config({\"run_name\": \"bm25_chain\"})"
   ]
  },
  {
   "cell_type": "code",
   "execution_count": 38,
   "id": "5aaab1da",
   "metadata": {},
   "outputs": [
    {
     "data": {
      "text/plain": [
       "{'response': AIMessage(content='Oh, the Yzore planet and the Yzore Yzore Yzore... Well, I remember Fleebix talking about the Yzore a little. The Yzore Yzore—uh, the Yzore Yzore—can help you figure out the way to Quantelope Lodge... but I think you might need to find something specific about the Yzore to get there. Maybe look around and check if the Yzore has any special features or clues that can guide your way. Sometimes, the Yzore helps by revealing the right route when you pay attention to the details. Just keep an eye out!', additional_kwargs={'refusal': None}, response_metadata={'token_usage': {'completion_tokens': 132, 'prompt_tokens': 1712, 'total_tokens': 1844, 'completion_tokens_details': {'accepted_prediction_tokens': 0, 'audio_tokens': 0, 'reasoning_tokens': 0, 'rejected_prediction_tokens': 0}, 'prompt_tokens_details': {'audio_tokens': 0, 'cached_tokens': 1536}}, 'model_name': 'gpt-4.1-nano-2025-04-14', 'system_fingerprint': 'fp_38343a2f8f', 'id': 'chatcmpl-C0Iql6DsHVbX7gnynZXBqZCwpD686', 'service_tier': 'default', 'finish_reason': 'stop', 'logprobs': None}, id='run--e87d5616-0258-4604-93b7-d6b86809b855-0', usage_metadata={'input_tokens': 1712, 'output_tokens': 132, 'total_tokens': 1844, 'input_token_details': {'audio': 0, 'cache_read': 1536}, 'output_token_details': {'audio': 0, 'reasoning': 0}}),\n",
       " 'context': [Document(metadata={'source': './data/Thudbot_Hint_Data_1.csv', 'row': 11, 'question': 'Why is the light on my PDA blinking', 'hint_level': '1', 'character': 'Player', 'speaker': '', 'narrative_context': 'Meta', 'planet': '', 'location': '', 'category': 'Mechanics', 'tone': '', 'follow_up_hint_id': '', 'answer_keywords': '', 'tags': ''}, page_content='question_id: TSB-012\\nhint_text: Try clicking on the PDA light to find out what it does\\npuzzle_name: \\nsource: self'),\n",
       "  Document(metadata={'source': './data/Thudbot_Hint_Data_1.csv', 'row': 90, 'question': 'How do I get to Quantelope Lodge from Glom Hole', 'hint_level': '4', 'character': 'Fleebix, Thud', 'speaker': '', 'narrative_context': 'Fleebix Flashback', 'planet': 'Yzore', 'location': 'Glom Hole', 'category': 'Puzzle', 'tone': '', 'follow_up_hint_id': '', 'answer_keywords': '', 'tags': ''}, page_content='question_id: TSB-049\\nhint_text: Have Thud get the letter from the mailbox\\npuzzle_name: Getting to Quantelope Lodge\\nsource: UHS'),\n",
       "  Document(metadata={'source': './data/Thudbot_Hint_Data_1.csv', 'row': 99, 'question': 'How do I get the box to the lodge?', 'hint_level': '2', 'character': 'Fleebix, Thud', 'speaker': '', 'narrative_context': 'Fleebix Flashback', 'planet': 'Yzore', 'location': 'Glom Hole', 'category': 'Puzzle', 'tone': '', 'follow_up_hint_id': '', 'answer_keywords': '', 'tags': ''}, page_content='question_id: TSB-052\\nhint_text: Put the label on the large box before getting into it\\npuzzle_name: Getting to Quantelope Lodge\\nsource: UHS'),\n",
       "  Document(metadata={'source': './data/Thudbot_Hint_Data_1.csv', 'row': 87, 'question': 'How do I get to Quantelope Lodge from Glom Hole', 'hint_level': '1', 'character': 'Fleebix, Thud', 'speaker': '', 'narrative_context': 'Fleebix Flashback', 'planet': 'Yzore', 'location': 'Glom Hole', 'category': 'Puzzle', 'tone': '', 'follow_up_hint_id': '', 'answer_keywords': '', 'tags': ''}, page_content=\"question_id: TSB-049\\nhint_text: You can't take a bus from Glom Hole to the Quantelope Lodge. Find another way to get to the Quantelope lodge.\\npuzzle_name: Getting to Quantelope Lodge\\nsource: UHS\"),\n",
       "  Document(metadata={'source': './data/Thudbot_Hint_Data_1.csv', 'row': 101, 'question': 'What do I do inside the box?', 'hint_level': '1', 'character': 'Fleebix, Thud', 'speaker': '', 'narrative_context': 'Fleebix Flashback', 'planet': 'Yzore', 'location': 'Cardboard Box', 'category': 'Puzzle', 'tone': '', 'follow_up_hint_id': '', 'answer_keywords': '', 'tags': ''}, page_content='question_id: TSB-053\\nhint_text: Once you are in the truck, get out of the large box\\npuzzle_name: Getting to Quantelope Lodge\\nsource: UHS'),\n",
       "  Document(metadata={'source': './data/Thudbot_Hint_Data_1.csv', 'row': 112, 'question': 'What do I do with the Nav dial?', 'hint_level': '3', 'character': 'Fleebix, Thud', 'speaker': '', 'narrative_context': 'Fleebix Flashback', 'planet': 'Yzore', 'location': 'Driveway', 'category': 'Puzzle', 'tone': '', 'follow_up_hint_id': '', 'answer_keywords': '', 'tags': ''}, page_content='question_id: TSB-056\\nhint_text: After setting the nav dial, get back in the box and wait\\npuzzle_name: Getting to Quantelope Lodge\\nsource: UHS'),\n",
       "  Document(metadata={'source': './data/Thudbot_Hint_Data_1.csv', 'row': 75, 'question': 'What do I need to do in the Fleebix  flashback?', 'hint_level': '3', 'character': 'Fleebix', 'speaker': '', 'narrative_context': 'Fleebix Flashback', 'planet': 'Yzore', 'location': '', 'category': 'Puzzle', 'tone': '', 'follow_up_hint_id': '', 'answer_keywords': '', 'tags': ''}, page_content='question_id: TSB-044\\nhint_text: Thud and Fleebix need to get to the Quantelope Lodge\\npuzzle_name: Getting to Quantelope Lodge\\nsource: UHS'),\n",
       "  Document(metadata={'source': './data/Thudbot_Hint_Data_1.csv', 'row': 84, 'question': 'How do I get to the lodge if I missed the bus?', 'hint_level': '4', 'character': 'Fleebix, Thud', 'speaker': '', 'narrative_context': 'Fleebix Flashback', 'planet': 'Yzore', 'location': 'Front Stoop', 'category': 'Puzzle', 'tone': '', 'follow_up_hint_id': '', 'answer_keywords': '', 'tags': ''}, page_content='question_id: TSB-047\\nhint_text: Make sure Thud has Fleebix and the token before trying to get on the bus\\npuzzle_name: Getting to Quantelope Lodge\\nsource: UHS'),\n",
       "  Document(metadata={'source': './data/Thudbot_Hint_Data_1.csv', 'row': 55, 'question': 'Where is the infrared jammer?', 'hint_level': '3', 'character': 'Alias Node', 'speaker': '', 'narrative_context': 'Bar', 'planet': 'Armpit VI', 'location': '', 'category': 'Puzzle', 'tone': '', 'follow_up_hint_id': '', 'answer_keywords': '', 'tags': ''}, page_content='question_id: TSB-036\\nhint_text: Are you sure you want me to tell you where the jammer is?\\npuzzle_name: Jammer\\nsource: UHS'),\n",
       "  Document(metadata={'source': './data/Thudbot_Hint_Data_1.csv', 'row': 73, 'question': 'What is the goal of the Fleebix  flashback?', 'hint_level': '1', 'character': 'Alias Node', 'speaker': '', 'narrative_context': 'Fleebix Flashback', 'planet': 'Yzore', 'location': '', 'category': 'Meta', 'tone': '', 'follow_up_hint_id': '', 'answer_keywords': '', 'tags': ''}, page_content=\"question_id: TSB-043\\nhint_text: The overall goal of Fleebix's flaschback is to help him remember the name of the planet that Thud and Fleebix need to go to for their new navigation job\\npuzzle_name: Getting to Quantelope Lodge\\nsource: UHS\")]}"
      ]
     },
     "execution_count": 38,
     "metadata": {},
     "output_type": "execute_result"
    }
   ],
   "source": [
    "sample_q = platinum_data[0][\"eval_sample\"][\"user_input\"]\n",
    "bm25_retrieval_chain.invoke({\"question\": sample_q})"
   ]
  },
  {
   "cell_type": "markdown",
   "id": "f0eb0b03",
   "metadata": {},
   "source": [
    "## Step 5: Evaluate results with RAGAS"
   ]
  },
  {
   "cell_type": "markdown",
   "id": "d0d3dfb5",
   "metadata": {},
   "source": [
    "next function is from HW9, but updated to add some metadata to the Langsmith trace!"
   ]
  },
  {
   "cell_type": "code",
   "execution_count": 20,
   "id": "2358104c",
   "metadata": {},
   "outputs": [],
   "source": [
    "#define function to run selected retriever on the eval (platinum) data\n",
    "# import time\n",
    "\n",
    "def run_retriever_on_dataset(name, retriever_chain, platinum_data):\n",
    "    \"\"\"Run retriever and format for Ragas evaluation - using the platinum dataset\"\"\"\n",
    "    print(f\"Running {name} on platinum data\")\n",
    "    outputs = []\n",
    "    \n",
    "    for item in platinum_data:\n",
    "        question = item[\"eval_sample\"][\"user_input\"]\n",
    "        reference = item[\"eval_sample\"][\"reference\"]\n",
    "        \n",
    "        # Run retriever with LangSmith config for trace grouping\n",
    "        response = (\n",
    "            retriever_chain\n",
    "            .with_config({\n",
    "                \"run_name\": f\"{name}_retriever_chain\",\n",
    "                \"tags\": [\"platinum-eval\", name],\n",
    "                \"metadata\": {\n",
    "                    \"retriever\": name,\n",
    "                    \"dataset\": \"platinum\"\n",
    "                }\n",
    "            })\n",
    "            .invoke({\"question\": question})\n",
    "        )\n",
    "        \n",
    "        outputs.append({\n",
    "            \"user_input\": question,\n",
    "            \"reference\": reference,\n",
    "            \"response\": response[\"response\"].content if hasattr(response[\"response\"], \"content\") else response[\"response\"],\n",
    "            \"retrieved_contexts\": [ctx.page_content for ctx in response[\"context\"]],\n",
    "            \"retriever_name\": name\n",
    "        })\n",
    "\n",
    "    #    # Add delay between requests if needed (for rate limiting)\n",
    "    #     if i < len(platinum_dataset) - 1:  # Don't sleep after last item\n",
    "    #         print(f\"  Waiting 2 seconds before next request...\")\n",
    "    #         time.sleep(2)  # Adjust this value as needed\n",
    "\n",
    "    return outputs\n"
   ]
  },
  {
   "cell_type": "markdown",
   "id": "f5d8a307",
   "metadata": {},
   "source": [
    "More cells straigh out of HW9"
   ]
  },
  {
   "cell_type": "code",
   "execution_count": 22,
   "id": "595b7567",
   "metadata": {},
   "outputs": [
    {
     "name": "stdout",
     "output_type": "stream",
     "text": [
      "Running naive on platinum data\n"
     ]
    }
   ],
   "source": [
    "naive_outputs = run_retriever_on_dataset(\"naive\", naive_retrieval_chain, platinum_data)\n",
    "# bm25_outputs = run_retriever_on_dataset(\"bm25\", bm25_retrieval_chain, platinum_data)\n",
    "# multi_query_outputs = run_retriever_on_dataset(\"multi_query\", multi_query_retrieval_chain, platinum_data)\n",
    "# parent_doc_outputs = run_retriever_on_dataset(\"parent_doc\", parent_document_retrieval_chain, platinum_data)\n",
    "# ensemble_outputs = run_retriever_on_dataset(\"ensemble\", ensemble_retrieval_chain, platinum_data)\n",
    "# contextual_compression_outputs = run_retriever_on_dataset(\"contextual_compression\", contextual_compression_retrieval_chain, platinum_dataset)"
   ]
  },
  {
   "cell_type": "code",
   "execution_count": 15,
   "id": "bbd8eaa1",
   "metadata": {},
   "outputs": [
    {
     "data": {
      "text/plain": [
       "[{'user_input': '\"Wait, what’s the deal with the Yzore? How does it help me get to the Quantelope Lodge?\"',\n",
       "  'reference': \"The hint_text indicates that in Yzore, you need a token to get on a bus, and there's a token in the cup. You can ask Thud to take the token from the cup, which is part of the process to reach the Quantelope Lodge.\",\n",
       "  'response': 'Oh, Yzore, huh? Well, I think the Yzore is kind of like a place where you need a special token to get on a bus. Maybe that token is important for your trip to Quantelope Lodge. Have you looked around Glom Hole or near the mailbox there? Sometimes, the things you need are hidden nearby or at a specific spot. I’d suggest checking out the mailbox or nearby areas to see if you can find something that might be your ticket—literally! Hope that helps a bit!',\n",
       "  'retrieved_contexts': ['question_id: TSB-046\\nhint_text: You need a token to get on a bus in Yzore\\npuzzle_name: Getting to Quantelope Lodge\\nsource: UHS',\n",
       "   \"question_id: TSB-048\\nhint_text: Maybe there's something you can do at Glom Hole?\\npuzzle_name: Getting to Quantelope Lodge\\nsource: UHS\",\n",
       "   'question_id: TSB-045\\nhint_text: To get to the Quantelpoe Lodge, Thud and Fleebix should take a bus\\npuzzle_name: Getting to Quantelope Lodge\\nsource: UHS',\n",
       "   \"question_id: TSB-042\\nhint_text: I could tell you how to find Thud, but maybe you should EmpTel with Thud first if you haven't\\npuzzle_name: Getting to Quantelope Lodge\\nsource: UHS\",\n",
       "   'question_id: TSB-044\\nhint_text: Read the audition notice to find out where Thud and Fleebix need to go first\\npuzzle_name: Getting to Quantelope Lodge\\nsource: UHS',\n",
       "   'question_id: TSB-044\\nhint_text: Thud and Fleebix need to get to the Quantelope Lodge\\npuzzle_name: Getting to Quantelope Lodge\\nsource: UHS',\n",
       "   \"question_id: TSB-054\\nhint_text: Not much to do here. Look around the truck. Don't get caught.\\npuzzle_name: Getting to Quantelope Lodge\\nsource: UHS\",\n",
       "   'question_id: TSB-049\\nhint_text: Have you looked at the mailbox near Glom Hole?\\npuzzle_name: Getting to Quantelope Lodge\\nsource: UHS',\n",
       "   'question_id: TSB-041\\nhint_text: When you are Fleebix, you can rely on Thud to help you with many taks\\npuzzle_name: Getting to Quantelope Lodge\\nsource: UHS',\n",
       "   'question_id: TSB-054\\nhint_text: Wait for the truck to deliver you\\npuzzle_name: Getting to Quantelope Lodge\\nsource: UHS'],\n",
       "  'retriever_name': 'naive'},\n",
       " {'user_input': '\"Uh, I\\'m really lost here. What am I supposed to do as Fleebix? I\\'m stuck in this jar!\"',\n",
       "  'reference': \"You can't do much on your own as Fleebix, because you are in a jar. To progress, you might need to rely on Thud to help you with many tasks, such as finding Thud or interacting with objects like the door or the cup, to get to Quantelope Lodge.\",\n",
       "  'response': \"Hey there, friend! You're in a bit of a jam being stuck in that jar as Fleebix, huh? Well, since Fleebix is in a jar, there's not much he can do by himself. Usually, when you're in a tricky spot like this, you need to find someone or something to help you get out. Maybe you should look around more or see if Thud or another character can lend a hand or provide a clue? Remember, Fleebix often relies on Thud to help him with tasks. Keep exploring, and you'll get closer to figuring out what to do!\",\n",
       "  'retrieved_contexts': [\"question_id: TSB-041\\nhint_text: You can't do much on your own as Fleebix, because you are in a jar\\npuzzle_name: Getting to Quantelope Lodge\\nsource: UHS\",\n",
       "   \"question_id: TSB-043\\nhint_text: The overall goal of Fleebix's flaschback is to help him remember the name of the planet that Thud and Fleebix need to go to for their new navigation job\\npuzzle_name: Getting to Quantelope Lodge\\nsource: UHS\",\n",
       "   \"question_id: TSB-040\\nhint_text: Fleebix will tell you what to do when you are Thud's flashback\\npuzzle_name: Getting to Quantelope Lodge\\nsource: UHS\",\n",
       "   'question_id: TSB-041\\nhint_text: When you are Fleebix, you can rely on Thud to help you with many taks\\npuzzle_name: Getting to Quantelope Lodge\\nsource: UHS',\n",
       "   'question_id: TSB-044\\nhint_text: Read the audition notice to find out where Thud and Fleebix need to go first\\npuzzle_name: Getting to Quantelope Lodge\\nsource: UHS',\n",
       "   'question_id: TSB-044\\nhint_text: Thud and Fleebix need to get to the Quantelope Lodge\\npuzzle_name: Getting to Quantelope Lodge\\nsource: UHS',\n",
       "   'question_id: TSB-047\\nhint_text: Make sure Thud has Fleebix and the token before trying to get on the bus\\npuzzle_name: Getting to Quantelope Lodge\\nsource: UHS',\n",
       "   'question_id: TSB-065\\nhint_text: The audition is too hard for Thud, but Fleebix can do it\\npuzzle_name: Navigation Simulator\\nsource: UHS',\n",
       "   \"question_id: TSB-040\\nhint_text: There's not too much you can do in the Thud flashback. Try interacting with all the objects.\\npuzzle_name: Getting to Quantelope Lodge\\nsource: UHS\",\n",
       "   'question_id: TSB-030\\nhint_text: A good place to start is to start an EmpTel flashback with Thud, or Fleebix\\npuzzle_name: \\nsource: UHS'],\n",
       "  'retriever_name': 'naive'},\n",
       " {'user_input': '\"Wait, what does UHS even mean in this game?\"',\n",
       "  'reference': 'UHS is referenced as the source for puzzles and hints in the game, such as Clocktower and Navigation Simulator, but the specific meaning of UHS is not provided in the context.',\n",
       "  'response': 'Oh, UHS? Hmm, that I think might be like a clue or a label for a source or something in the game. Maybe it stands for \"Universal Hint System\" or just a code they used. If you\\'re wondering what it means in the game, you might want to look around or check if there’s any place that explains abbreviations or labels. Sometimes clues are hidden in the environment or in the instructions. If you\\'re still curious, try exploring nearby panels or info spots!',\n",
       "  'retrieved_contexts': ['question_id: TSB-069\\nhint_text: To omplete the hard level, travel to Slug, Pustule, Toe Jam, Hellhole, Toe Jam, Uranus, then Backwater\\npuzzle_name: Navigation Simulator\\nsource: UHS',\n",
       "   'question_id: TSB-057\\nhint_text: Have Thud fix the clocktower clock\\npuzzle_name: Clocktower\\nsource: UHS',\n",
       "   'question_id: TSB-059\\nhint_text: Have Thud bring you the crystals from the clocktower\\npuzzle_name: Clocktower\\nsource: UHS',\n",
       "   'question_id: TSB-058\\nhint_text: Have Thud climb the clocktower\\npuzzle_name: Clocktower\\nsource: UHS',\n",
       "   'question_id: TSB-063\\nhint_text: Have Thud push the yellow button to get a new status report\\npuzzle_name: Clocktower\\nsource: UHS',\n",
       "   'question_id: TSB-063\\nhint_text: Are all the slots on the status report reading O?\\npuzzle_name: Clocktower\\nsource: UHS',\n",
       "   'question_id: TSB-030\\nhint_text: A good place to start is to start an EmpTel flashback with Thud, or Fleebix\\npuzzle_name: \\nsource: UHS',\n",
       "   \"question_id: TSB-048\\nhint_text: Maybe there's something you can do at Glom Hole?\\npuzzle_name: Getting to Quantelope Lodge\\nsource: UHS\",\n",
       "   'question_id: TSB-059\\nhint_text: Have Thud push the yellow button, and bring you the status report from the clocktower\\npuzzle_name: Clocktower\\nsource: UHS',\n",
       "   'question_id: TSB-058\\nhint_text: This might take a few tries to solve the clocktower puzzle. Work with Thud to try all the controls\\npuzzle_name: Clocktower\\nsource: UHS'],\n",
       "  'retriever_name': 'naive'}]"
      ]
     },
     "execution_count": 15,
     "metadata": {},
     "output_type": "execute_result"
    }
   ],
   "source": [
    "naive_outputs[:3]"
   ]
  },
  {
   "cell_type": "code",
   "execution_count": 23,
   "id": "63669ad7",
   "metadata": {},
   "outputs": [],
   "source": [
    "import pandas as pd\n",
    "from ragas import EvaluationDataset\n",
    "\n",
    "# Step 1: Convert to DataFrame\n",
    "naive_df = pd.DataFrame(naive_outputs)\n",
    "# bm25_df = pd.DataFrame(bm25_outputs)\n",
    "# multi_query_df = pd.DataFrame(multi_query_outputs)\n",
    "# parent_doc_df = pd.DataFrame(parent_doc_outputs)\n",
    "# ensemble_df = pd.DataFrame(ensemble_outputs)\n",
    "# contextual_compression_df = pd.DataFrame(contextual_compression_outputs)\n",
    "\n",
    "# Step 2: Convert to Ragas-compatible EvaluationDataset\n",
    "naive_eval_dataset = EvaluationDataset.from_pandas(naive_df)\n",
    "# bm25_eval_dataset = EvaluationDataset.from_pandas(bm25_df)\n",
    "# multi_query_eval_dataset = EvaluationDataset.from_pandas(multi_query_df)\n",
    "# parent_doc_eval_dataset = EvaluationDataset.from_pandas(parent_doc_df)\n",
    "# ensemble_eval_dataset = EvaluationDataset.from_pandas(ensemble_df)\n",
    "# contextual_compression_eval_dataset = EvaluationDataset.from_pandas(contextual_compression_df)\n",
    "\n"
   ]
  },
  {
   "cell_type": "code",
   "execution_count": 24,
   "id": "59a3ac64",
   "metadata": {},
   "outputs": [
    {
     "data": {
      "text/html": [
       "<div>\n",
       "<style scoped>\n",
       "    .dataframe tbody tr th:only-of-type {\n",
       "        vertical-align: middle;\n",
       "    }\n",
       "\n",
       "    .dataframe tbody tr th {\n",
       "        vertical-align: top;\n",
       "    }\n",
       "\n",
       "    .dataframe thead th {\n",
       "        text-align: right;\n",
       "    }\n",
       "</style>\n",
       "<table border=\"1\" class=\"dataframe\">\n",
       "  <thead>\n",
       "    <tr style=\"text-align: right;\">\n",
       "      <th></th>\n",
       "      <th>user_input</th>\n",
       "      <th>reference</th>\n",
       "      <th>response</th>\n",
       "      <th>retrieved_contexts</th>\n",
       "      <th>retriever_name</th>\n",
       "    </tr>\n",
       "  </thead>\n",
       "  <tbody>\n",
       "    <tr>\n",
       "      <th>0</th>\n",
       "      <td>\"Wait, what’s the deal with the Yzore? How doe...</td>\n",
       "      <td>The hint_text indicates that in Yzore, you nee...</td>\n",
       "      <td>Oh, Yzore is a pretty interesting planet! From...</td>\n",
       "      <td>[question_id: TSB-046\\nhint_text: You need a t...</td>\n",
       "      <td>naive</td>\n",
       "    </tr>\n",
       "    <tr>\n",
       "      <th>1</th>\n",
       "      <td>\"Uh, I'm really lost here. What am I supposed ...</td>\n",
       "      <td>You can't do much on your own as Fleebix, beca...</td>\n",
       "      <td>Oh, hey there! If you're stuck in the jar as F...</td>\n",
       "      <td>[question_id: TSB-041\\nhint_text: You can't do...</td>\n",
       "      <td>naive</td>\n",
       "    </tr>\n",
       "    <tr>\n",
       "      <th>2</th>\n",
       "      <td>\"Wait, what does UHS even mean in this game?\"</td>\n",
       "      <td>UHS is referenced as the source for puzzles an...</td>\n",
       "      <td>Oh, UHS, huh? That sounds like a clue to somet...</td>\n",
       "      <td>[question_id: TSB-069\\nhint_text: To omplete t...</td>\n",
       "      <td>naive</td>\n",
       "    </tr>\n",
       "    <tr>\n",
       "      <th>3</th>\n",
       "      <td>\"Wait, what am I supposed to do in this entry ...</td>\n",
       "      <td>Thud is not very bright.</td>\n",
       "      <td>Oh, hey there! In the entry vestibule, it migh...</td>\n",
       "      <td>[question_id: TSB-019\\nhint_text: Look around ...</td>\n",
       "      <td>naive</td>\n",
       "    </tr>\n",
       "    <tr>\n",
       "      <th>4</th>\n",
       "      <td>\"Hey, I'm totally lost! How do I use the resid...</td>\n",
       "      <td>The residue printer can tell you who may have ...</td>\n",
       "      <td>Hey there, friend! Looks like you wanna use th...</td>\n",
       "      <td>[question_id: TSB-039\\nhint_text: You better c...</td>\n",
       "      <td>naive</td>\n",
       "    </tr>\n",
       "    <tr>\n",
       "      <th>5</th>\n",
       "      <td>\"Hey, how do I use these tokens for the bus? A...</td>\n",
       "      <td>In the context, you need a token to get on the...</td>\n",
       "      <td>Hey there! Looks like the tokens are a little ...</td>\n",
       "      <td>[question_id: TSB-046\\nhint_text: You need a t...</td>\n",
       "      <td>naive</td>\n",
       "    </tr>\n",
       "    <tr>\n",
       "      <th>6</th>\n",
       "      <td>\"Hey, I'm totally lost! How do I use the simul...</td>\n",
       "      <td>To effectively navigate the Simulator and expl...</td>\n",
       "      <td>Hey there! Hmm, setting that nav dial just rig...</td>\n",
       "      <td>[question_id: TSB-056\\nhint_text: Have Thud se...</td>\n",
       "      <td>naive</td>\n",
       "    </tr>\n",
       "    <tr>\n",
       "      <th>7</th>\n",
       "      <td>\"Wait, how am I supposed to get Fleebix to fol...</td>\n",
       "      <td>Fleebix can't do much alone and needs Thud's h...</td>\n",
       "      <td>Oh dear, it sounds like you're a bit tangled u...</td>\n",
       "      <td>[question_id: TSB-040\\nhint_text: Fleebix will...</td>\n",
       "      <td>naive</td>\n",
       "    </tr>\n",
       "    <tr>\n",
       "      <th>8</th>\n",
       "      <td>\"Wait, how do I get to Quantelope Lodge with T...</td>\n",
       "      <td>First, you need to find Thud and Fleebix and g...</td>\n",
       "      <td>Hey there, friend! It sounds like you're tryin...</td>\n",
       "      <td>[question_id: TSB-045\\nhint_text: To get to th...</td>\n",
       "      <td>naive</td>\n",
       "    </tr>\n",
       "    <tr>\n",
       "      <th>9</th>\n",
       "      <td>\"Wait, how do Fleebix and Thud even get to the...</td>\n",
       "      <td>Fleebix and Thud need to reach the Quantelope ...</td>\n",
       "      <td>Hi there! It sounds like you're trying to figu...</td>\n",
       "      <td>[question_id: TSB-041\\nhint_text: When you are...</td>\n",
       "      <td>naive</td>\n",
       "    </tr>\n",
       "    <tr>\n",
       "      <th>10</th>\n",
       "      <td>\"Okay, I'm super lost! I keep hearing about th...</td>\n",
       "      <td>To effectively progress in the game, a casual ...</td>\n",
       "      <td>Oh, don't worry, friend! It sounds like you're...</td>\n",
       "      <td>[question_id: TSB-042\\nhint_text: I could tell...</td>\n",
       "      <td>naive</td>\n",
       "    </tr>\n",
       "    <tr>\n",
       "      <th>11</th>\n",
       "      <td>\"Wait, how do the hints about fixing the termi...</td>\n",
       "      <td>The TSB-031 hints indicate that the terminal i...</td>\n",
       "      <td>Oh, I see you're feeling a bit tangled up! Wel...</td>\n",
       "      <td>[question_id: TSB-042\\nhint_text: I could tell...</td>\n",
       "      <td>naive</td>\n",
       "    </tr>\n",
       "  </tbody>\n",
       "</table>\n",
       "</div>"
      ],
      "text/plain": [
       "                                           user_input  \\\n",
       "0   \"Wait, what’s the deal with the Yzore? How doe...   \n",
       "1   \"Uh, I'm really lost here. What am I supposed ...   \n",
       "2       \"Wait, what does UHS even mean in this game?\"   \n",
       "3   \"Wait, what am I supposed to do in this entry ...   \n",
       "4   \"Hey, I'm totally lost! How do I use the resid...   \n",
       "5   \"Hey, how do I use these tokens for the bus? A...   \n",
       "6   \"Hey, I'm totally lost! How do I use the simul...   \n",
       "7   \"Wait, how am I supposed to get Fleebix to fol...   \n",
       "8   \"Wait, how do I get to Quantelope Lodge with T...   \n",
       "9   \"Wait, how do Fleebix and Thud even get to the...   \n",
       "10  \"Okay, I'm super lost! I keep hearing about th...   \n",
       "11  \"Wait, how do the hints about fixing the termi...   \n",
       "\n",
       "                                            reference  \\\n",
       "0   The hint_text indicates that in Yzore, you nee...   \n",
       "1   You can't do much on your own as Fleebix, beca...   \n",
       "2   UHS is referenced as the source for puzzles an...   \n",
       "3                            Thud is not very bright.   \n",
       "4   The residue printer can tell you who may have ...   \n",
       "5   In the context, you need a token to get on the...   \n",
       "6   To effectively navigate the Simulator and expl...   \n",
       "7   Fleebix can't do much alone and needs Thud's h...   \n",
       "8   First, you need to find Thud and Fleebix and g...   \n",
       "9   Fleebix and Thud need to reach the Quantelope ...   \n",
       "10  To effectively progress in the game, a casual ...   \n",
       "11  The TSB-031 hints indicate that the terminal i...   \n",
       "\n",
       "                                             response  \\\n",
       "0   Oh, Yzore is a pretty interesting planet! From...   \n",
       "1   Oh, hey there! If you're stuck in the jar as F...   \n",
       "2   Oh, UHS, huh? That sounds like a clue to somet...   \n",
       "3   Oh, hey there! In the entry vestibule, it migh...   \n",
       "4   Hey there, friend! Looks like you wanna use th...   \n",
       "5   Hey there! Looks like the tokens are a little ...   \n",
       "6   Hey there! Hmm, setting that nav dial just rig...   \n",
       "7   Oh dear, it sounds like you're a bit tangled u...   \n",
       "8   Hey there, friend! It sounds like you're tryin...   \n",
       "9   Hi there! It sounds like you're trying to figu...   \n",
       "10  Oh, don't worry, friend! It sounds like you're...   \n",
       "11  Oh, I see you're feeling a bit tangled up! Wel...   \n",
       "\n",
       "                                   retrieved_contexts retriever_name  \n",
       "0   [question_id: TSB-046\\nhint_text: You need a t...          naive  \n",
       "1   [question_id: TSB-041\\nhint_text: You can't do...          naive  \n",
       "2   [question_id: TSB-069\\nhint_text: To omplete t...          naive  \n",
       "3   [question_id: TSB-019\\nhint_text: Look around ...          naive  \n",
       "4   [question_id: TSB-039\\nhint_text: You better c...          naive  \n",
       "5   [question_id: TSB-046\\nhint_text: You need a t...          naive  \n",
       "6   [question_id: TSB-056\\nhint_text: Have Thud se...          naive  \n",
       "7   [question_id: TSB-040\\nhint_text: Fleebix will...          naive  \n",
       "8   [question_id: TSB-045\\nhint_text: To get to th...          naive  \n",
       "9   [question_id: TSB-041\\nhint_text: When you are...          naive  \n",
       "10  [question_id: TSB-042\\nhint_text: I could tell...          naive  \n",
       "11  [question_id: TSB-042\\nhint_text: I could tell...          naive  "
      ]
     },
     "execution_count": 24,
     "metadata": {},
     "output_type": "execute_result"
    }
   ],
   "source": [
    "naive_df\n",
    "# bm25_df\n",
    "# multi_query_df\n",
    "# parent_doc_df\n",
    "# ensemble_df\n",
    "# contextual_compression_df"
   ]
  },
  {
   "cell_type": "markdown",
   "id": "72445055",
   "metadata": {},
   "source": [
    "Ragas imports"
   ]
  },
  {
   "cell_type": "code",
   "execution_count": 25,
   "id": "04c4fb84",
   "metadata": {},
   "outputs": [],
   "source": [
    "from ragas import evaluate\n",
    "from ragas.llms import LangchainLLMWrapper\n",
    "from ragas.metrics import LLMContextRecall, ContextEntityRecall, NoiseSensitivity\n",
    "from ragas import evaluate, RunConfig\n",
    "\n",
    "evaluator_llm = LangchainLLMWrapper(ChatOpenAI(model=\"gpt-4.1-mini\"))"
   ]
  },
  {
   "cell_type": "markdown",
   "id": "69c0cebb",
   "metadata": {},
   "source": []
  },
  {
   "cell_type": "code",
   "execution_count": null,
   "id": "8aefa6ad",
   "metadata": {},
   "outputs": [],
   "source": [
    "custom_run_config = RunConfig(timeout=600)\n",
    "results = {}\n",
    "\n",
    "datasets = [\n",
    "    #(\"bm25\", bm25_eval_dataset),\n",
    "    (\"naive\", naive_eval_dataset),\n",
    "    #(\"multi_query\", multi_query_eval_dataset),\n",
    "    #(\"parent_doc\", parent_doc_eval_dataset),\n",
    "    #(\"ensemble\", ensemble_eval_dataset),\n",
    "    #(\"contextual_compression\", contextual_compression_eval_dataset)\n",
    "]\n",
    "\n",
    "for name, dataset in datasets:\n",
    "    print(f\"Evaluating: {name}\")\n",
    "    try:\n",
    "        result = evaluate(\n",
    "            dataset=dataset,\n",
    "            metrics=[LLMContextRecall(), Faithfulness(), FactualCorrectness(), ResponseRelevancy(), ContextEntityRecall(), NoiseSensitivity()],\n",
    "            llm=evaluator_llm,\n",
    "            run_config=custom_run_config\n",
    "        )\n",
    "        results[name] = result\n",
    "    except Exception as e:\n",
    "        print(f\"❌ Error during {name}: {e}\")\n",
    "        results[name] = None  # or skip entirely\n"
   ]
  },
  {
   "cell_type": "markdown",
   "id": "b3d3aed2",
   "metadata": {},
   "source": []
  },
  {
   "cell_type": "code",
   "execution_count": null,
   "id": "ece361af",
   "metadata": {},
   "outputs": [],
   "source": [
    "for name in results:\n",
    "    print(f\"\\n{name.upper()} RESULTS:\")\n",
    "    print(results[name])\n"
   ]
  }
 ],
 "metadata": {
  "kernelspec": {
   "display_name": ".venv",
   "language": "python",
   "name": "python3"
  },
  "language_info": {
   "codemirror_mode": {
    "name": "ipython",
    "version": 3
   },
   "file_extension": ".py",
   "mimetype": "text/x-python",
   "name": "python",
   "nbconvert_exporter": "python",
   "pygments_lexer": "ipython3",
   "version": "3.13.2"
  }
 },
 "nbformat": 4,
 "nbformat_minor": 5
}
